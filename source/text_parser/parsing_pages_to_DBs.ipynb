{
 "cells": [
  {
   "cell_type": "code",
   "execution_count": 1,
   "id": "6c2766ab-694d-49f3-912c-f96b16ba06fe",
   "metadata": {
    "scrolled": true
   },
   "outputs": [
    {
     "name": "stderr",
     "output_type": "stream",
     "text": [
      "[nltk_data] Downloading package punkt_tab to /home/hlopin/nltk_data...\n",
      "[nltk_data]   Package punkt_tab is already up-to-date!\n",
      "[nltk_data] Downloading package stopwords to /home/hlopin/nltk_data...\n",
      "[nltk_data]   Package stopwords is already up-to-date!\n"
     ]
    },
    {
     "data": {
      "text/plain": [
       "True"
      ]
     },
     "execution_count": 1,
     "metadata": {},
     "output_type": "execute_result"
    }
   ],
   "source": [
    "import os\n",
    "import re\n",
    "import sys\n",
    "import glob\n",
    "import gensim\n",
    "import numpy as np\n",
    "import pandas as pd\n",
    "from tqdm import tqdm\n",
    "from uuid import uuid4\n",
    "from functools import reduce\n",
    "from multiprocessing import Pool\n",
    "from sentence_transformers import SentenceTransformer\n",
    "import faiss\n",
    "import nltk\n",
    "nltk.download('punkt_tab')\n",
    "from nltk.corpus import stopwords\n",
    "nltk.download('stopwords')"
   ]
  },
  {
   "cell_type": "markdown",
   "id": "3bfc5f95-6c37-4d92-a272-50265c302ef7",
   "metadata": {},
   "source": [
    "## Извлечение текстов википедии из архива. Из архива достаём различные страницы из википедии, которые потом будем добавлять в базы данных"
   ]
  },
  {
   "cell_type": "code",
   "execution_count": 2,
   "id": "60d4bbb5-8db4-44d4-9604-6d086b92423e",
   "metadata": {},
   "outputs": [],
   "source": [
    "#!pip install wikiextractor"
   ]
  },
  {
   "cell_type": "code",
   "execution_count": 3,
   "id": "425c8139-b552-4351-a63b-c8532c258fd2",
   "metadata": {},
   "outputs": [],
   "source": [
    "import wikiextractor"
   ]
  },
  {
   "cell_type": "markdown",
   "id": "17ced9cf-4dcd-4f76-92bc-1e16b5e5c3f0",
   "metadata": {},
   "source": [
    "Скачиваем архив"
   ]
  },
  {
   "cell_type": "code",
   "execution_count": 4,
   "id": "0e1b2c54-51bc-4067-a00e-1d10b6703896",
   "metadata": {},
   "outputs": [],
   "source": [
    "#!wget http://dumps.wikimedia.org/ruwiki/latest/ruwiki-latest-pages-articles.xml.bz2"
   ]
  },
  {
   "cell_type": "markdown",
   "id": "c388849d-7270-4efd-a299-88daa70251e8",
   "metadata": {},
   "source": [
    "Разархивируем в ./wiki папку. Для начала лучше разархивировать только несколько папок с документами по википедии (AA,AB)"
   ]
  },
  {
   "cell_type": "code",
   "execution_count": 5,
   "id": "bef20572-0079-42b4-b1ca-738aecb7e0b2",
   "metadata": {
    "scrolled": true
   },
   "outputs": [],
   "source": [
    "# !python3 -m wikiextractor.WikiExtractor -o ./data/wiki/ --no-templates --processes 8 ./ruwiki-latest-pages-articles.xml.bz2"
   ]
  },
  {
   "cell_type": "code",
   "execution_count": 6,
   "id": "562a904e-8127-481a-a1ad-64dee5b9f47c",
   "metadata": {},
   "outputs": [],
   "source": [
    "# !python3 -m wikiextractor.extractPage -o ./data/wiki/ --no-templates --processes 8 ./ruwiki-latest-pages-articles.xml.bz2"
   ]
  },
  {
   "cell_type": "markdown",
   "id": "61ffcaf7-9a44-4519-8257-98c046f5a68b",
   "metadata": {},
   "source": [
    "## Функционал для парсинг текстов википедии"
   ]
  },
  {
   "cell_type": "markdown",
   "id": "c7150287-4b07-47ee-a6fb-dffba8eccf31",
   "metadata": {},
   "source": [
    "Вспомогательные функции"
   ]
  },
  {
   "cell_type": "code",
   "execution_count": 7,
   "id": "909ac8b6-5c67-4fc2-a5e8-6e76a0993807",
   "metadata": {},
   "outputs": [],
   "source": [
    "def _remove_non_printed_chars(string):\n",
    "    reg = re.compile('[^a-zA-Zа-яА-ЯёЁ]')\n",
    "    # reg = re.compile('[^\\wёЁ]')\n",
    "    return reg.sub(' ', string)\n",
    "\n",
    "def _remove_stop_words(string,sw=[]):\n",
    "    return ' '.join([word if word not in sw else '' \\\n",
    "                     for word in string.strip().split(' ')])\n",
    "\n",
    "def _trim_string(string):\n",
    "    # remove extra spaces, remove trailing spaces, lower the case \n",
    "    return re.sub('\\s+',' ',string).strip().lower()\n",
    "    \n",
    "def clean_string(string,\n",
    "                 stop_words_list,\n",
    "                 min_len=2,\n",
    "                 max_len=30):\n",
    "\n",
    "    string = _remove_non_printed_chars(string)\n",
    "    string = _remove_stop_words(string, stop_words_list)\n",
    "    string = _trim_string(string)\n",
    "    # also remove short words, most likely containing addresses / crap / left-overs / etc remaining after removal\n",
    "    # gensim mostly does the same as above, it is used here for simplicity\n",
    "    string = ' '.join(gensim.utils.simple_preprocess(string,\n",
    "                                                     min_len=min_len,\n",
    "                                                     max_len=max_len))\n",
    "    return string\n",
    "    \n",
    "def remove_html_tags(text):\n",
    "    \"\"\"Remove html tags from a string\"\"\"\n",
    "    import re\n",
    "    clean = re.compile('<.*?>')\n",
    "    return re.sub(clean, '', text)\n",
    "    \n",
    "def remove_special_chars(text,char_list):\n",
    "    for char in char_list:\n",
    "        text=text.replace(char,'')\n",
    "    return text.replace(u'\\xa0', u' ')\n",
    "\n",
    "def splitkeepsep(s, sep):\n",
    "    cleaned = []\n",
    "    s = re.split(\"(%s)\" % re.escape(sep), s)\n",
    "    for _ in s:\n",
    "        if _!='' and _!=sep:\n",
    "            cleaned.append(sep+_)\n",
    "    return cleaned\n",
    "\n",
    "def extract_url(text):\n",
    "    pattern = 'http([^\"]+)'\n",
    "    match = re.search(pattern, text)\n",
    "    if match:\n",
    "        url = match.group(0)\n",
    "        return url\n",
    "    else:\n",
    "        return \"\"\n",
    "\n",
    "def create_vector(text):\n",
    "    return model.encode(text, normalize_embeddings=True)"
   ]
  },
  {
   "cell_type": "markdown",
   "id": "97dc28c3-ba93-4460-b0fc-d5c2ceed664b",
   "metadata": {},
   "source": [
    "Функция для извлечения списка оглавления из страницы википедии"
   ]
  },
  {
   "cell_type": "code",
   "execution_count": 8,
   "id": "19c4049f-00ab-4c96-8130-00326cd0693e",
   "metadata": {},
   "outputs": [],
   "source": [
    "import requests\n",
    "from bs4 import BeautifulSoup\n",
    "\n",
    "# URL статьи Википедии\n",
    "url = 'https://ru.wikipedia.org/wiki?curid=9'\n",
    "\n",
    "def getHeadings(url):\n",
    "    # Получаем содержимое страницы\n",
    "    response = requests.get(url)\n",
    "    \n",
    "    # Парсим HTML-код с помощью BeautifulSoup\n",
    "    soup = BeautifulSoup(response.text, 'html.parser')\n",
    "    \n",
    "    # Находим элемент с оглавлением (обычно он находится внутри элемента с классом mw-parser-output)\n",
    "    toc = soup.find('div', id='toc')\n",
    "    if toc is None:\n",
    "        return None\n",
    "    \n",
    "    # Извлекаем все элементы списка (<li>) из оглавления\n",
    "    items = toc.find_all('li')\n",
    "    \n",
    "    # Формируем список заголовков\n",
    "    headings = []\n",
    "    for item in items:\n",
    "        link = item.find('a')  # находим ссылку внутри каждого пункта списка\n",
    "        if link is not None:\n",
    "            heading_text = link.text.strip()  # получаем текст ссылки\n",
    "            cleaned_heading = heading_text.split(maxsplit=1)[-1].strip()  # убираем номер и точку\n",
    "            if cleaned_heading + '.' not in headings:\n",
    "                headings.append(cleaned_heading + '.')  # добавляем очищенное название в список\n",
    "    \n",
    "    # Выводим результат\n",
    "    return headings"
   ]
  },
  {
   "cell_type": "markdown",
   "id": "9fce0180-5764-4a92-aa16-506efd7963ed",
   "metadata": {},
   "source": [
    "Основная функция для обработки скаченных текстов википедии"
   ]
  },
  {
   "cell_type": "code",
   "execution_count": 9,
   "id": "ac96ed9b-4956-4cda-9457-f88c5b298e38",
   "metadata": {},
   "outputs": [],
   "source": [
    "from nltk.stem.snowball import SnowballStemmer\n",
    "\n",
    "def stem(doc):\n",
    "   stemmer = SnowballStemmer(\"russian\")\n",
    "   return [stemmer.stem(word) for word in doc.split()]\n",
    "\n",
    "def process_wiki_files(wiki_file):\n",
    "    chars = ['\\n\\n']\n",
    "    global sw\n",
    "\n",
    "    with open(wiki_file, encoding='utf-8') as f:\n",
    "        content = f.read()\n",
    "\n",
    "    articles = splitkeepsep(content,'<doc id=')\n",
    "    df_texts = pd.DataFrame(columns=['article_uuid','url', 'title', 'article','proc_article','proc_len'])\n",
    "    emds = []\n",
    "\n",
    "    for article in articles:\n",
    "        if len(article) < 500:\n",
    "            continue\n",
    "\n",
    "        uuid_text = uuid4()\n",
    "        \n",
    "        articleParts = article.split('\\n')\n",
    "        url = extract_url(article)\n",
    "        headings = getHeadings(url)\n",
    "        if headings is None:\n",
    "            continue\n",
    "        title = articleParts[1]\n",
    "\n",
    "        article = remove_html_tags(article)\n",
    "        article = remove_special_chars(article, chars)\n",
    "        clearArticleParts = article.split('\\n')\n",
    "        \n",
    "        startIndex = 1\n",
    "        currHeading = ''\n",
    "        \n",
    "        for endIndex in range(startIndex, len(clearArticleParts)):\n",
    "            if len(clearArticleParts[endIndex]) < 100 and clearArticleParts[endIndex] in headings: \n",
    "                if endIndex - startIndex == 1:\n",
    "                    startIndex = endIndex\n",
    "                    currHeading = clearArticleParts[endIndex]\n",
    "                    continue\n",
    "            \n",
    "                onePart = title + '. ' + currHeading + ' ' + ' '.join(clearArticleParts[startIndex+1:endIndex])\n",
    "            \n",
    "                proc_onePart = clean_string(onePart, sw_ru)\n",
    "                proc_len = len(proc_onePart.split(' '))\n",
    "\n",
    "                stemmed_onePart = ' '.join(stem(proc_onePart))\n",
    "            \n",
    "                temp_df_texts = pd.DataFrame(\n",
    "                    {'article_uuid': [uuid_text],\n",
    "                     'url': url + \"#\" + currHeading[:-1].replace(' ', '_') if len(currHeading) > 0 else url,\n",
    "                     'title': title + '. ' + currHeading if len(currHeading) > 0 else title,\n",
    "                     'article': onePart,\n",
    "                     'proc_article':proc_onePart,\n",
    "                     'proc_len':proc_len,\n",
    "                     'stem_article':stemmed_onePart\n",
    "                    })\n",
    "                df_texts = pd.concat([df_texts, temp_df_texts], ignore_index=True)\n",
    "            \n",
    "                emb = create_vector(proc_onePart)\n",
    "                emds.append(emb)\n",
    "            \n",
    "                startIndex = endIndex\n",
    "                currHeading = clearArticleParts[endIndex]\n",
    "    \n",
    "    return df_texts, np.array(emds)\n",
    "\n",
    "sw_en = set(stopwords.words('english'))\n",
    "sw_ru = set(stopwords.words('russian'))\n",
    "sw = list(sw_ru.union(sw_en))  "
   ]
  },
  {
   "cell_type": "markdown",
   "id": "d1506a72-eedb-4f7c-9d74-887646f8ee85",
   "metadata": {},
   "source": [
    "Получаем модель для эмбеддингов"
   ]
  },
  {
   "cell_type": "code",
   "execution_count": 10,
   "id": "12ace853-e656-4343-8bfe-69707ab56495",
   "metadata": {},
   "outputs": [
    {
     "name": "stderr",
     "output_type": "stream",
     "text": [
      "/home/hlopin/.local/lib/python3.10/site-packages/torch/cuda/__init__.py:129: UserWarning: CUDA initialization: The NVIDIA driver on your system is too old (found version 11040). Please update your GPU driver by downloading and installing a new version from the URL: http://www.nvidia.com/Download/index.aspx Alternatively, go to: https://pytorch.org to install a PyTorch version that has been compiled with your version of the CUDA driver. (Triggered internally at ../c10/cuda/CUDAFunctions.cpp:108.)\n",
      "  return torch._C._cuda_getDeviceCount() > 0\n"
     ]
    }
   ],
   "source": [
    "model = SentenceTransformer(\"sentence-transformers/paraphrase-multilingual-mpnet-base-v2\")"
   ]
  },
  {
   "cell_type": "markdown",
   "id": "30b0e92f-6afa-4032-a2f6-6f6e8041aa63",
   "metadata": {},
   "source": [
    "## Функции для работы с базами данных"
   ]
  },
  {
   "cell_type": "markdown",
   "id": "2676743a-5eb7-41c1-9179-78100333cbf0",
   "metadata": {},
   "source": [
    "### Векторная БД"
   ]
  },
  {
   "cell_type": "markdown",
   "id": "cd347328-5063-44c8-970a-c75d19a66bb1",
   "metadata": {},
   "source": [
    "#### Сохранение векторов в векторную БД с обратным индексом (используем Faiss)"
   ]
  },
  {
   "cell_type": "code",
   "execution_count": 11,
   "id": "bebc6be2-b2b9-4ad3-b32e-551689b6e5c6",
   "metadata": {},
   "outputs": [],
   "source": [
    "import os\n",
    "import faiss\n",
    "from os.path import exists\n",
    "\n",
    "def saveEmbdsToVectorDB(embds, path, indexType = faiss.IndexFlatL2):\n",
    "    if not exists(path):\n",
    "        index = indexType(embds.shape[1])\n",
    "        index = faiss.IndexIDMap(index)\n",
    "        index.add_with_ids(embds, np.arange(0, embds.shape[0]))\n",
    "        faiss.write_index(index, path)\n",
    "    else:\n",
    "        index = faiss.read_index(path)\n",
    "        index.add_with_ids(embds, np.arange(index.ntotal, index.ntotal + embds.shape[0]))\n",
    "        faiss.write_index(index, path)"
   ]
  },
  {
   "cell_type": "markdown",
   "id": "596134c4-54c4-4c14-9445-df58c09a55d5",
   "metadata": {},
   "source": [
    "#### Получаем векторную БД"
   ]
  },
  {
   "cell_type": "code",
   "execution_count": 12,
   "id": "a1ac9c10-6de4-496f-8d2b-10479786f308",
   "metadata": {},
   "outputs": [],
   "source": [
    "def getVectorDB(path):\n",
    "    return faiss.read_index(path)"
   ]
  },
  {
   "cell_type": "markdown",
   "id": "c9751377-8207-4a3a-a0f2-b1b8af78b199",
   "metadata": {},
   "source": [
    "###  Текстовые БД"
   ]
  },
  {
   "cell_type": "markdown",
   "id": "48da4161-2f97-473c-a9a8-176c34df8f5a",
   "metadata": {},
   "source": [
    "#### Сохранение в SQLlite БД метаданных (название, url и т.д.)"
   ]
  },
  {
   "cell_type": "code",
   "execution_count": 13,
   "id": "735b12a2-81fe-4e99-b011-5573efa5a817",
   "metadata": {},
   "outputs": [],
   "source": [
    "def addMetadataToDB(pathDB, cursor, conn, metadataDf):\n",
    "    metadataDf.to_sql(name='documents', con=conn, if_exists='append', index=True)\n",
    "    conn.commit()"
   ]
  },
  {
   "cell_type": "markdown",
   "id": "362e015e-e6be-4766-845b-4243a8d3ac88",
   "metadata": {},
   "source": [
    "#### Поиск в текстовой БД по запросу"
   ]
  },
  {
   "cell_type": "markdown",
   "id": "ddecc0a7-7da9-472a-a3d7-a451440a05b7",
   "metadata": {},
   "source": [
    "Получаем тексты по индексам"
   ]
  },
  {
   "cell_type": "code",
   "execution_count": 14,
   "id": "981865a8-9233-41a0-ad1a-fbbb04e08ec6",
   "metadata": {},
   "outputs": [],
   "source": [
    "def get_rows_from_csv(filename, indices):\n",
    "    df = pd.read_csv(\n",
    "        filename,\n",
    "        header=None,\n",
    "        skiprows=lambda x: x not in indices\n",
    "    )\n",
    "    \n",
    "    return df"
   ]
  },
  {
   "cell_type": "code",
   "execution_count": 15,
   "id": "ec073c6e-fea4-4008-b0e4-cb87df9cea63",
   "metadata": {},
   "outputs": [],
   "source": [
    "def textSearch_with_bm25_ranking(query, pathDB):\n",
    "    index = open_dir(pathDB)\n",
    "    with index.searcher() as searcher:\n",
    "        query_parser = QueryParser(\"content\", index.schema)\n",
    "        parsed_query = query_parser.parse(query)\n",
    "        print(\"Получился запрос вида: \", parsed_query)\n",
    "        results = searcher.search(parsed_query)\n",
    "        return np.array([(result['id'], result.score) for result in results])"
   ]
  },
  {
   "cell_type": "markdown",
   "id": "f0ccae40-8844-48e3-ab07-12e62f0997db",
   "metadata": {},
   "source": [
    "## Заполнение баз данных. (Объединяем всё вместе, парсим документы и сохраняем их в базы данных)"
   ]
  },
  {
   "cell_type": "code",
   "execution_count": 16,
   "id": "e41fda79-a506-4a48-b529-ea4088cd8546",
   "metadata": {},
   "outputs": [],
   "source": [
    "wikiFilesRootPath = \"data/wiki\"\n",
    "vectorDBPath = 'data/data_bases/vectorDB.index'\n",
    "metadataDBPath = \"data/data_bases/documentsMetadataDB.db\"\n",
    "textsCsvPath = \"data/data_bases/texts.csv\""
   ]
  },
  {
   "cell_type": "code",
   "execution_count": 17,
   "id": "977c5b9f-5440-45b1-9336-838e4069982b",
   "metadata": {},
   "outputs": [],
   "source": [
    "import sqlite3\n",
    "import os\n",
    "\n",
    "import threading\n",
    "\n",
    "# Инициализируем блокировку\n",
    "lock = threading.Lock()\n",
    "\n",
    "currentDbSize = 0\n",
    "if os.path.exists(vectorDBPath):\n",
    "    vectDb = getVectorDB(vectorDBPath)\n",
    "    currentDbSize = vectDb.ntotal\n",
    "\n",
    "def process_file(file_path):\n",
    "    global currentDbSize\n",
    "    print(\"Обрабатываю: \", file_path)\n",
    "    \n",
    "    # сохраняем в векторную БД\n",
    "    df_texts, embds = process_wiki_files(file_path)\n",
    "    saveEmbdsToVectorDB(embds, vectorDBPath)\n",
    "    \n",
    "    # сохраняем тексты документов в текстовую БД\n",
    "    df_texts.to_csv(textsCsvPath, mode='a', header=False)\n",
    "\n",
    "    with lock:\n",
    "        conn = sqlite3.connect(metadataDBPath)\n",
    "        cursor = conn.cursor()\n",
    "        # сохраняем метаданные документов в SQLlite БД\n",
    "        new_index = range(currentDbSize, currentDbSize + len(df_texts))\n",
    "        currentDbSize += len(df_texts)\n",
    "        df_texts.index = new_index\n",
    "        addMetadataToDB(metadataDBPath, cursor, conn, df_texts[['url', 'title', 'article', 'proc_article', 'stem_article']])\n",
    "        conn.close()"
   ]
  },
  {
   "cell_type": "markdown",
   "id": "90c7a2db-8c3d-45fb-96f9-b8ae401529d1",
   "metadata": {},
   "source": [
    "Параллельно обрабатыватексты тексты и сохраяем результаты в базы данных"
   ]
  },
  {
   "cell_type": "code",
   "execution_count": 18,
   "id": "f51e8520-876c-4918-9e79-be0da9ae803b",
   "metadata": {
    "scrolled": true
   },
   "outputs": [],
   "source": [
    "# from concurrent.futures import ThreadPoolExecutor\n",
    "\n",
    "# files_to_process = []\n",
    "# for dirpath, dirnames, filenames in os.walk(wikiFilesRootPath):\n",
    "#     for filename in filenames:\n",
    "#         file_path = os.path.join(dirpath, filename)\n",
    "#         files_to_process.append(file_path)\n",
    "\n",
    "#  # Используем ThreadPoolExecutor для параллельной обработки файлов\n",
    "# with ThreadPoolExecutor(max_workers=8) as executor:  # Количество рабочих потоков можно настроить\n",
    "#     futures = {executor.submit(process_file, file_path): file_path for file_path in files_to_process}\n",
    "    \n",
    "#     # Ждем завершения всех задач\n",
    "#     for future in concurrent.futures.as_completed(futures):\n",
    "#         file_path = futures[future]\n",
    "#         try:\n",
    "#             data = future.result()\n",
    "#         except Exception as exc:\n",
    "#             print(f'Ошибка при обработке файла {file_path}: {exc}')"
   ]
  },
  {
   "cell_type": "markdown",
   "id": "d05f2b22-3e2a-4c27-b47f-f64bc6498e87",
   "metadata": {},
   "source": [
    "#### Проверка на адекватность векторной БД"
   ]
  },
  {
   "cell_type": "code",
   "execution_count": 39,
   "id": "1e782ad3-1cff-4c45-953d-2a9882b2f59b",
   "metadata": {
    "scrolled": true
   },
   "outputs": [
    {
     "ename": "RuntimeError",
     "evalue": "Error in faiss::FileIOReader::FileIOReader(const char*) at /project/faiss/faiss/impl/io.cpp:67: Error: 'f' failed: could not open data/data_bases/vectorDB.index for reading: No such file or directory",
     "output_type": "error",
     "traceback": [
      "\u001b[0;31m---------------------------------------------------------------------------\u001b[0m",
      "\u001b[0;31mRuntimeError\u001b[0m                              Traceback (most recent call last)",
      "\u001b[0;32m/tmp/ipykernel_23593/4076696023.py\u001b[0m in \u001b[0;36m?\u001b[0;34m()\u001b[0m\n\u001b[0;32m----> 1\u001b[0;31m \u001b[0mindex\u001b[0m \u001b[0;34m=\u001b[0m \u001b[0mgetVectorDB\u001b[0m\u001b[0;34m(\u001b[0m\u001b[0mvectorDBPath\u001b[0m\u001b[0;34m)\u001b[0m\u001b[0;34m\u001b[0m\u001b[0;34m\u001b[0m\u001b[0m\n\u001b[0m\u001b[1;32m      2\u001b[0m \u001b[0;34m\u001b[0m\u001b[0m\n\u001b[1;32m      3\u001b[0m \u001b[0mtexts\u001b[0m \u001b[0;34m=\u001b[0m \u001b[0mget_rows_from_csv\u001b[0m\u001b[0;34m(\u001b[0m\u001b[0mtextsCsvPath\u001b[0m\u001b[0;34m,\u001b[0m \u001b[0mrange\u001b[0m\u001b[0;34m(\u001b[0m\u001b[0;36m30\u001b[0m\u001b[0;34m)\u001b[0m\u001b[0;34m)\u001b[0m\u001b[0;34m[\u001b[0m\u001b[0;36m5\u001b[0m\u001b[0;34m]\u001b[0m\u001b[0;34m[\u001b[0m\u001b[0;34m:\u001b[0m\u001b[0;36m30\u001b[0m\u001b[0;34m]\u001b[0m\u001b[0;34m\u001b[0m\u001b[0;34m\u001b[0m\u001b[0m\n\u001b[1;32m      4\u001b[0m \u001b[0mfirst_30_vectors\u001b[0m \u001b[0;34m=\u001b[0m \u001b[0mmodel\u001b[0m\u001b[0;34m.\u001b[0m\u001b[0mencode\u001b[0m\u001b[0;34m(\u001b[0m\u001b[0mtexts\u001b[0m\u001b[0;34m,\u001b[0m \u001b[0mnormalize_embeddings\u001b[0m\u001b[0;34m=\u001b[0m\u001b[0;32mTrue\u001b[0m\u001b[0;34m)\u001b[0m\u001b[0;34m\u001b[0m\u001b[0;34m\u001b[0m\u001b[0m\n",
      "\u001b[0;32m/tmp/ipykernel_23593/2696136431.py\u001b[0m in \u001b[0;36m?\u001b[0;34m(path)\u001b[0m\n\u001b[1;32m      1\u001b[0m \u001b[0;32mdef\u001b[0m \u001b[0mgetVectorDB\u001b[0m\u001b[0;34m(\u001b[0m\u001b[0mpath\u001b[0m\u001b[0;34m)\u001b[0m\u001b[0;34m:\u001b[0m\u001b[0;34m\u001b[0m\u001b[0;34m\u001b[0m\u001b[0m\n\u001b[0;32m----> 2\u001b[0;31m     \u001b[0;32mreturn\u001b[0m \u001b[0mfaiss\u001b[0m\u001b[0;34m.\u001b[0m\u001b[0mread_index\u001b[0m\u001b[0;34m(\u001b[0m\u001b[0mpath\u001b[0m\u001b[0;34m)\u001b[0m\u001b[0;34m\u001b[0m\u001b[0;34m\u001b[0m\u001b[0m\n\u001b[0m",
      "\u001b[0;32m~/.local/lib/python3.10/site-packages/faiss/swigfaiss_avx512.py\u001b[0m in \u001b[0;36m?\u001b[0;34m(*args)\u001b[0m\n\u001b[1;32m  10965\u001b[0m \u001b[0;32mdef\u001b[0m \u001b[0mread_index\u001b[0m\u001b[0;34m(\u001b[0m\u001b[0;34m*\u001b[0m\u001b[0margs\u001b[0m\u001b[0;34m)\u001b[0m\u001b[0;34m:\u001b[0m\u001b[0;34m\u001b[0m\u001b[0;34m\u001b[0m\u001b[0m\n\u001b[0;32m> 10966\u001b[0;31m     \u001b[0;32mreturn\u001b[0m \u001b[0m_swigfaiss_avx512\u001b[0m\u001b[0;34m.\u001b[0m\u001b[0mread_index\u001b[0m\u001b[0;34m(\u001b[0m\u001b[0;34m*\u001b[0m\u001b[0margs\u001b[0m\u001b[0;34m)\u001b[0m\u001b[0;34m\u001b[0m\u001b[0;34m\u001b[0m\u001b[0m\n\u001b[0m",
      "\u001b[0;31mRuntimeError\u001b[0m: Error in faiss::FileIOReader::FileIOReader(const char*) at /project/faiss/faiss/impl/io.cpp:67: Error: 'f' failed: could not open data/data_bases/vectorDB.index for reading: No such file or directory"
     ]
    }
   ],
   "source": [
    "index = getVectorDB(vectorDBPath)\n",
    "\n",
    "texts = get_rows_from_csv(textsCsvPath, range(30))[5][:30]\n",
    "first_30_vectors = model.encode(texts, normalize_embeddings=True)\n",
    "    \n",
    "# Находим соседей для первых 30 векторов в БД\n",
    "D, I = index.search(np.array(first_30_vectors), 12)\n",
    "# Должны быть те же индексы от 0 до 29. То есть те же векторы, для которых искали соседей. (там где не совпадает, это потомучто вместо текста Nan, снизу видно)\n",
    "print(\"Индексы похожих документов:\", I[0:30, 0])\n"
   ]
  },
  {
   "cell_type": "code",
   "execution_count": 21,
   "id": "4cc8b42d-ed4f-4b1e-9557-4fce7ee21050",
   "metadata": {
    "scrolled": true
   },
   "outputs": [
    {
     "data": {
      "text/plain": [
       "0     аничков мост первый деревянный мост построен г...\n",
       "1     аничков мост расположение расположен оси невск...\n",
       "2     аничков мост название название моста произошло...\n",
       "3     аничков мост деревянный мост до годов фонтанка...\n",
       "4     аничков мост каменный мост образца годов серед...\n",
       "5     аничков мост современный мост году принято реш...\n",
       "6     аничков мост капитальный ремонт годов эксплуат...\n",
       "7     аничков мост капитальный ремонт годов году свя...\n",
       "8     аничков мост скульптурные группы укрощение кон...\n",
       "9     аутсорсинг аутсорсинг позволяет повысить эффек...\n",
       "10    аутсорсинг производственный аутсорсинг при про...\n",
       "11    аутсорсинг ит аутсорсинг ito предполагает деле...\n",
       "12    аутсорсинг аутсорсинг управления знаниями kpo ...\n",
       "13    аутсорсинг аутсорсинг силу закона ряде случаев...\n",
       "14    аутсорсинг наиболее распространённые формы аут...\n",
       "15    аутсорсинг аутсорсинг сфере ит ит аутсорсинг ч...\n",
       "16    аутсорсинг обслуживание инфокоммуникационных с...\n",
       "17    аутсорсинг аутсорсинг цод во многих отраслях к...\n",
       "18    аутсорсинг внешнее размещение инфокоммуникацио...\n",
       "19    аутсорсинг разработка программного обеспечения...\n",
       "20    аутсорсинг бухгалтерское обеспечение бухгалтер...\n",
       "21    аутсорсинг инвентаризационный аудит передача п...\n",
       "22    аутсорсинг обеспечение взаиморасчетов персонал...\n",
       "23    аутсорсинг аутсорсинг сфере управления персона...\n",
       "24    аутсорсинг использование внештатного персонала...\n",
       "25    аутсорсинг аутсорсинг сфере розничной торговли...\n",
       "26    аутсорсинг исходящий телемаркетинг обработка т...\n",
       "27    аутсорсинг аутсорсинг офисной печати аутсорсин...\n",
       "28    аутсорсинг правовое информационное обеспечение...\n",
       "29    аутсорсинг аутсорсинг издательской деятельност...\n",
       "Name: 5, dtype: object"
      ]
     },
     "execution_count": 21,
     "metadata": {},
     "output_type": "execute_result"
    }
   ],
   "source": [
    "texts"
   ]
  },
  {
   "cell_type": "markdown",
   "id": "d934d2c7-335f-499e-b803-3dd045e067ae",
   "metadata": {},
   "source": [
    "## Процесс поиска"
   ]
  },
  {
   "cell_type": "markdown",
   "id": "91071504",
   "metadata": {},
   "source": [
    "Здесь мы находим kDocuments релевантных документов с помощью векторного поиска и далее ранжируем"
   ]
  },
  {
   "cell_type": "code",
   "execution_count": 22,
   "id": "0838a324",
   "metadata": {},
   "outputs": [],
   "source": [
    "# !pip install pymorphy2 rank_bm25"
   ]
  },
  {
   "cell_type": "code",
   "execution_count": 23,
   "id": "FgpEX7VySlNW",
   "metadata": {
    "colab": {
     "base_uri": "https://localhost:8080/"
    },
    "id": "FgpEX7VySlNW",
    "outputId": "c52e6d1a-7199-4523-bf6d-597bb583904d"
   },
   "outputs": [
    {
     "name": "stderr",
     "output_type": "stream",
     "text": [
      "[nltk_data] Downloading package punkt to /home/hlopin/nltk_data...\n",
      "[nltk_data]   Package punkt is already up-to-date!\n"
     ]
    },
    {
     "data": {
      "text/plain": [
       "True"
      ]
     },
     "execution_count": 23,
     "metadata": {},
     "output_type": "execute_result"
    }
   ],
   "source": [
    "import nltk\n",
    "from nltk.stem.snowball import SnowballStemmer\n",
    "\n",
    "# Загрузка необходимых ресурсов\n",
    "nltk.download(\"punkt\")"
   ]
  },
  {
   "cell_type": "markdown",
   "id": "6bc808fd-85e8-4944-92cf-30efcce118f7",
   "metadata": {},
   "source": [
    "Функционал для ранжирования"
   ]
  },
  {
   "cell_type": "code",
   "execution_count": 24,
   "id": "BFgUpHVqfFhv",
   "metadata": {
    "id": "BFgUpHVqfFhv"
   },
   "outputs": [],
   "source": [
    "from abc import ABC, abstractmethod\n",
    "from rank_bm25 import BM25Okapi\n",
    "from sentence_transformers import CrossEncoder\n",
    "from abc import ABC, abstractmethod\n",
    "# from colbert import ColBERT\n",
    "# import colbert\n",
    "\n",
    "class DocsRanker(ABC):\n",
    "    @abstractmethod\n",
    "    def rankDocuments(self, query, docs):\n",
    "        pass\n",
    "\n",
    "\n",
    "class Bm25Ranker(DocsRanker):\n",
    "    # preprocess_func: переобразует запрос и документ в список слов\n",
    "    def __init__(self, preprocess_func = None) -> None:\n",
    "        self.preprocess_func = preprocess_func\n",
    "\n",
    "    def rankDocuments(self, query, docs):\n",
    "        if self.preprocess_func is None:\n",
    "            self.preprocess_func = lambda doc: doc.split()\n",
    "        tokenized_corpus = [self.preprocess_func(doc) for doc in docs]\n",
    "        bm25 = BM25Okapi(tokenized_corpus)\n",
    "        tokenized_query = self.preprocess_func(query)\n",
    "        return bm25.get_scores(tokenized_query)\n",
    "\n",
    "def lemmatize(doc):\n",
    "    morph = pymorphy2.MorphAnalyzer()\n",
    "    return [morph.parse(word)[0].normal_form for word in doc.split()]\n",
    "\n",
    "def stem(doc):\n",
    "   stemmer = SnowballStemmer(\"russian\")\n",
    "   words = nltk.word_tokenize(doc, language=\"russian\")\n",
    "   return [stemmer.stem(word) for word in words]\n",
    "\n",
    "\n",
    "class CrossEncoderRanker(DocsRanker):\n",
    "    def __init__(self) -> None:\n",
    "        # self.reranker_model = CrossEncoder('DiTy/cross-encoder-russian-msmarco', max_length=512, device='cuda')\n",
    "        self.reranker_model = CrossEncoder('DiTy/cross-encoder-russian-msmarco', max_length=512, device='cpu')\n",
    "\n",
    "    def rankDocuments(self, query, docs):\n",
    "        return np.array([self.reranker_model.predict([[query, doc]])[0] for doc in docs])\n",
    "\n",
    "# class ColBERTRanker(DocsRanker):\n",
    "#     def __init__(self) -> None:\n",
    "#         self.model = ColBERT(\n",
    "#             model_name=\"bert-base-uncased\",  # или любая другая модель на основе BERT\n",
    "#             similarity_function='dot_product',  # или другой метод, если это требуется\n",
    "#             # Дополнительные параметры могут быть добавлены по мере необходимости\n",
    "#         )\n",
    "\n",
    "#     def rankDocuments(self, query, docs):\n",
    "#         scores = self.model.rank(query, docs)  # Это пример, конкретная реализация может отличаться\n",
    "#         sorted_docs = sorted(zip(docs, scores), key=lambda x: x[1], reverse=True)\n",
    "#         return sorted_docs"
   ]
  },
  {
   "cell_type": "markdown",
   "id": "76777dba-094d-408f-ac30-b3f2e214c70f",
   "metadata": {},
   "source": [
    "Функционал для полного сценария поиска"
   ]
  },
  {
   "cell_type": "code",
   "execution_count": 25,
   "id": "ED1cUpWxM1Te",
   "metadata": {
    "id": "ED1cUpWxM1Te"
   },
   "outputs": [],
   "source": [
    "from rank_bm25 import BM25Okapi\n",
    "import pymorphy2\n",
    "from transformers import AutoModelForSeq2SeqLM, T5TokenizerFast\n",
    "\n",
    "tokenizer = T5TokenizerFast.from_pretrained('UrukHan/t5-russian-summarization')\n",
    "model_summarizer = AutoModelForSeq2SeqLM.from_pretrained('UrukHan/t5-russian-summarization')\n",
    "\n",
    "\n",
    "def summarizeText(docs, query = None):\n",
    "    global model_summarizer\n",
    "    global tokenizer\n",
    "\n",
    "    max_input = 1512\n",
    "    task_prefix = \"\" #\"Find answer on question: \"\n",
    "    input_seq = \"\"\n",
    "    if query != None:\n",
    "        input_seq = \" \" + query + \"\\n\" + \"В тексте: \"\n",
    "    input_seq += \"\\n\".join(docs)\n",
    "    print(input_seq)\n",
    "    input_seq = [input_seq]\n",
    "    encoded = tokenizer(\n",
    "      [task_prefix + sequence for sequence in input_seq],\n",
    "      padding=\"longest\",\n",
    "      max_length=max_input,\n",
    "      truncation=True,\n",
    "      return_tensors=\"pt\",\n",
    "    )\n",
    "    \n",
    "    predicts = model_summarizer.generate(encoded['input_ids'])    # # Прогнозирование\n",
    "    \n",
    "    return tokenizer.batch_decode(predicts, skip_special_tokens=True)  # Декодируем данные\n",
    "\n",
    "def findVectorsIndexes(query, encoder, kDocuments):\n",
    "    index = getVectorDB(vectorDBPath)\n",
    "    queryEmbd = encoder.encode(query, normalize_embeddings=True)\n",
    "    D, I = index.search(np.array([queryEmbd]), kDocuments)\n",
    "    return I[0]\n",
    "\n",
    "def retrieveDocsAndUrls(indexes):\n",
    "    urlsAndDocs = get_rows_from_csv(textsCsvPath, indexes)[[2, 4, 5]]\n",
    "    urlsAndDocs = urlsAndDocs.fillna('stub')\n",
    "    return urlsAndDocs[2], urlsAndDocs[4]\n",
    "\n",
    "def rankDocuments(query, indexes, ranker):\n",
    "    urls, docs = retrieveDocsAndUrls(indexes)\n",
    "    doc_scores = ranker.rankDocuments(query, docs)\n",
    "    sorted_idx = np.argsort(doc_scores)\n",
    "    return list(docs.iloc[sorted_idx[::-1]]), list(urls.iloc[sorted_idx[::-1]]), doc_scores[sorted_idx[::-1]]\n",
    "\n",
    "def getSortedDocumentsWithUrls(query, encoder, kDocuments, ranker):\n",
    "    indexes = findVectorsIndexes(query, encoder, kDocuments)\n",
    "    return rankDocuments(query, indexes, ranker)\n",
    "\n",
    "def summarize_documents(query, docs, max_length, min_length):\n",
    "    global summarizer\n",
    "\n",
    "    full_text = [query]\n",
    "    for doc in docs:\n",
    "        full_text.append(doc)\n",
    "\n",
    "    return summarizer('\\n'.join(full_text), max_length=max_length, min_length=min_length, do_sample=False)\n",
    "    "
   ]
  },
  {
   "cell_type": "code",
   "execution_count": 80,
   "id": "hMbNdhBeRfF7",
   "metadata": {
    "colab": {
     "base_uri": "https://localhost:8080/"
    },
    "id": "hMbNdhBeRfF7",
    "outputId": "9c55162f-37e9-433c-c8b5-93b41ef7f4e5",
    "scrolled": true
   },
   "outputs": [
    {
     "name": "stdout",
     "output_type": "stream",
     "text": [
      "                                        relevant docs  bm25 scores\n",
      "0   Земноводные. Размеры. Размеры представителей г...     2.819909\n",
      "1   Чад.  Столица — город Нджамена. Государственны...     2.094205\n",
      "2   Румыния.  Площадь территории — 238 391 км², на...     1.911755\n",
      "3   Содружество наций. Членство. Общая численность...     1.262955\n",
      "4   Союз Советских Социалистических Республик.  СС...     0.988344\n",
      "5   Географические координаты. Географическая сист...     0.000000\n",
      "6   Китай.  С востока страна омывается водами запа...     0.000000\n",
      "7   Маркс, Карл. Лондонская эмиграция. Карл Маркс ...     0.000000\n",
      "8   Хакасия. Рельеф. Преобладающий рельеф местност...     0.000000\n",
      "9   Эль-Барадеи, Мохаммед. Участие в президентских...     0.000000\n",
      "10  Шанхайская организация сотрудничества.  Общая ...     0.000000\n",
      "11  Союз Советских Социалистических Республик. Гео...     0.000000\n",
      "12  Дальневосточный федеральный округ. Национальны...     0.000000\n",
      "13  Соединённые Штаты Америки. Авиатранспорт. Соед...     0.000000\n",
      "14  Соединённые Штаты Америки. Железные дороги. Не...     0.000000\n",
      "15  Аргентина. География. Аргентина входит в десят...     0.000000\n",
      "16  Австралия.  Австралия является одной из самых ...     0.000000\n",
      "17  Журавлиные.  Ещё в древности люди были знакомы...     0.000000\n",
      "18  Соединённые Штаты Америки. Расположение. Основ...     0.000000\n",
      "19  Соединённые Штаты Америки. Экономика. Экономик...     0.000000\n",
      "20  Соединённые Штаты Америки. Автомобильные дорог...     0.000000\n",
      "21  Чад. Административное деление. Страна разделен...     0.000000\n",
      "22  Страна.  В соответствии с этим, выделяют неско...     0.000000\n",
      "23  Федеративное государство. Европа. На границе Е...     0.000000\n",
      "24  Федеративное государство. Современные федерати...     0.000000\n",
      "25  Соединённые Штаты Америки.  Соединённые Штаты ...     0.000000\n",
      "26  Федеративное государство.  Для федерации нужно...     0.000000\n",
      "27  Карликовое государство. Европа. Территория, ра...     0.000000\n",
      "28  Индонезия.  Расположена на островах Малайского...     0.000000\n",
      "29  Карликовое государство.  Часто в качестве крит...     0.000000\n",
      "30  Исландия. География. Площадь Исландии составля...     0.000000\n",
      "31  Государство.  Ни в науке, ни в международном п...     0.000000\n",
      "32  Население Земли. Крупнейшие по населению стран...     0.000000\n",
      "33  Земля. Социально-экономическая география. 15 н...     0.000000\n",
      "34  Испания. Города. Крупнейшими городами Испании ...     0.000000\n",
      "35  Намибия.  На севере граничит с Анголой и Замби...     0.000000\n",
      "36  Быдгощ. Население. Население 352 313 человек (...     0.000000\n",
      "37  Атлантический океан. Государства побережья Атл...     0.000000\n",
      "38  Атлантический океан. Общие сведения. Атлантиче...     0.000000\n",
      "39  Тихий океан. Государства побережья Тихого океа...     0.000000\n",
      "40  Кампу-Гранди. История и география. На севере г...     0.000000\n",
      "41  Берёза (город).  Численность населения — 28 39...     0.000000\n",
      "42  Бешенковичи. Население. Численность населения ...     0.000000\n",
      "43  Бешенковичи.  Численность населения — 6884 чел...     0.000000\n",
      "44  Утрехт.  Население города — 306 731 житель (на...     0.000000\n",
      "45  Опава.  Население — 57,8 тыс. жителей (2014). ...     0.000000\n",
      "46  Сан-Паулу (штат). Состав штата. В штат входят ...     0.000000\n",
      "47  Пара (штат).  Пара — второй по площади штат Бр...     0.000000\n",
      "48  Амапа. География. Территория штата — 142 827,9...     0.000000\n",
      "49  Мадхья-Прадеш. География. Площадь штата — 308 ...     0.000000\n"
     ]
    }
   ],
   "source": [
    "query = \"Самое крупное государство\"\n",
    "kDocuments = 50\n",
    "docs, urls, bm25_scores = getSortedDocumentsWithUrls(query, model, kDocuments, Bm25Ranker())\n",
    "df = pd.DataFrame({'relevant docs': docs, 'bm25 scores': bm25_scores})\n",
    "print(df)"
   ]
  },
  {
   "cell_type": "code",
   "execution_count": 29,
   "id": "Q3natg6uNQ74",
   "metadata": {
    "colab": {
     "base_uri": "https://localhost:8080/"
    },
    "id": "Q3natg6uNQ74",
    "outputId": "13cef49e-0ea9-4c06-c5dd-62553066c652",
    "scrolled": true
   },
   "outputs": [
    {
     "name": "stdout",
     "output_type": "stream",
     "text": [
      "                                        relevant docs  bm25 scores\n",
      "0   моравско силезский край города наиболее крупны...     4.333728\n",
      "1   новософт история создания novosoft ооо новософ...     3.790155\n",
      "2   антакальнис общая характеристика сооружённые в...     2.873437\n",
      "3   обыкновенная пиранья это один из самых известн...     2.540833\n",
      "4   соболь антропонимика в московской руси наимено...     2.003871\n",
      "5   кокандское ханство экономика и нумизматика в с...     1.908181\n",
      "6   ветер значение в мифологии и культуре во многи...     1.337799\n",
      "7   final fantasy vii технологическая часть непоср...     1.184804\n",
      "8   петров евгений петрович рассказы и фельетоны и...     1.148489\n",
      "9   алания в эпоху татар в году объединённые силы ...     0.725435\n",
      "10  рябов яков петрович карьера в цк кпсс член цк ...     0.000000\n",
      "11  лафферти джеймс карьера большую часть своего д...     0.000000\n",
      "12  багратионовский район история современный багр...     0.000000\n",
      "13  серотонин метаболизм анаболизм и катаболизм се...     0.000000\n",
      "14  багратионовский район транспорт район отличает...     0.000000\n",
      "15  фомин дмитрий александрович биография родился ...     0.000000\n",
      "16  глазенап владимир григорьевич ранние годы прои...     0.000000\n",
      "17  обратная транскриптаза значение для вирусов об...     0.000000\n",
      "18  echo compress дополненное сообщение formula_ д...     0.000000\n",
      "19  ивашковка черниговская область история село ос...     0.000000\n",
      "20  мчс россии заместители министра действующие бы...     0.000000\n",
      "21  даугавпилсский университет герб герб даугавпил...     0.000000\n",
      "22  journey смена направления в начале года группа...     0.000000\n",
      "23  вокач александр андреевич биография родился ма...     0.000000\n",
      "24  schuko безопасность не рекомендуется включать ...     0.000000\n",
      "25  даваллия синонимы в синонимику рода входят сле...     0.000000\n",
      "26  nikon f принадлежности вместо съёмной задней к...     0.000000\n",
      "27  бареллис сара карьера в году сара со своей гру...     0.000000\n",
      "28  метод k средних демонстрация алгоритма действи...     0.000000\n",
      "29  бобинген община расположена в правительственно...     0.000000\n",
      "30  modbus запись нескольких значений команда сост...     0.000000\n",
      "31  феликс i папа римский биография феликс был кор...     0.000000\n",
      "32  солод получение процесс получения солода делит...     0.000000\n",
      "33  арьергард сухопутные войска арьергарды широко ...     0.000000\n",
      "34  соболь топонимика от названия животного в вост...     0.000000\n",
      "35  гравитационные волны связь на гравитационных в...     0.000000\n",
      "36            лянтор культура в лянторе располагаются     0.000000\n",
      "37  лянтор транспорт внутригородская автобусная се...     0.000000\n",
      "38  лянтор сфера услуг в городе осуществляют свою ...     0.000000\n",
      "39  новохопёрск история в середине xvii века будущ...     0.000000\n",
      "40  малая алматинка терренкур вдоль реки выше улиц...     0.000000\n",
      "41  дескур анджей мария священство августа года ру...     0.000000\n",
      "42  рядовой италия в вооружённых силах италии имее...     0.000000\n",
      "43  харди джефф сольные выступления после нескольк...     0.000000\n",
      "44  операция анадырь результаты операции анадырь в...     0.000000\n",
      "45  оленовка волновахский район история президиум ...     0.000000\n",
      "46  перенаправление ввода вывода цепочка конвейеро...     0.000000\n",
      "47  сан карлус сан паулу история освоение и заселе...     0.000000\n",
      "48  радио россии программы литературные сериалы и ...     0.000000\n",
      "49  обыкновенный подуст питание подуст питается ор...     0.000000\n"
     ]
    }
   ],
   "source": [
    "query = \"Самое крупное государство\"\n",
    "kDocuments = 50\n",
    "docs, urls, bm25_scores = getSortedDocumentsWithUrls(query, model, kDocuments, Bm25Ranker(lemmatize))\n",
    "df = pd.DataFrame({'relevant docs': docs, 'bm25 scores': bm25_scores})\n",
    "print(df)"
   ]
  },
  {
   "cell_type": "code",
   "execution_count": 30,
   "id": "WWaBGKlwWhXe",
   "metadata": {
    "colab": {
     "base_uri": "https://localhost:8080/"
    },
    "id": "WWaBGKlwWhXe",
    "outputId": "3fd4f78a-74ea-4a29-a21c-855ab8803081",
    "scrolled": true
   },
   "outputs": [
    {
     "name": "stdout",
     "output_type": "stream",
     "text": [
      "                                        relevant docs  bm25 scores\n",
      "0   моравско силезский край города наиболее крупны...     4.333728\n",
      "1   новософт история создания novosoft ооо новософ...     3.790155\n",
      "2   антакальнис общая характеристика сооружённые в...     2.696624\n",
      "3   обыкновенная пиранья это один из самых известн...     2.131141\n",
      "4   modbus запись нескольких значений команда сост...     2.038555\n",
      "5   соболь антропонимика в московской руси наимено...     1.680760\n",
      "6   кокандское ханство экономика и нумизматика в с...     1.600500\n",
      "7   петров евгений петрович рассказы и фельетоны и...     1.264488\n",
      "8   ветер значение в мифологии и культуре во многи...     1.122087\n",
      "9   final fantasy vii технологическая часть непоср...     0.993762\n",
      "10  солод получение процесс получения солода делит...     0.715100\n",
      "11  алания в эпоху татар в году объединённые силы ...     0.608463\n",
      "12  рябов яков петрович карьера в цк кпсс член цк ...     0.000000\n",
      "13  обратная транскриптаза значение для вирусов об...     0.000000\n",
      "14  лафферти джеймс карьера большую часть своего д...     0.000000\n",
      "15  серотонин метаболизм анаболизм и катаболизм се...     0.000000\n",
      "16  багратионовский район история современный багр...     0.000000\n",
      "17  багратионовский район транспорт район отличает...     0.000000\n",
      "18  глазенап владимир григорьевич ранние годы прои...     0.000000\n",
      "19  даугавпилсский университет герб герб даугавпил...     0.000000\n",
      "20  echo compress дополненное сообщение formula_ д...     0.000000\n",
      "21  ивашковка черниговская область история село ос...     0.000000\n",
      "22  бареллис сара карьера в году сара со своей гру...     0.000000\n",
      "23  journey смена направления в начале года группа...     0.000000\n",
      "24  вокач александр андреевич биография родился ма...     0.000000\n",
      "25  schuko безопасность не рекомендуется включать ...     0.000000\n",
      "26  даваллия синонимы в синонимику рода входят сле...     0.000000\n",
      "27  nikon f принадлежности вместо съёмной задней к...     0.000000\n",
      "28  фомин дмитрий александрович биография родился ...     0.000000\n",
      "29  метод k средних демонстрация алгоритма действи...     0.000000\n",
      "30  мчс россии заместители министра действующие бы...     0.000000\n",
      "31  бобинген община расположена в правительственно...     0.000000\n",
      "32  феликс i папа римский биография феликс был кор...     0.000000\n",
      "33  арьергард сухопутные войска арьергарды широко ...     0.000000\n",
      "34  соболь топонимика от названия животного в вост...     0.000000\n",
      "35  гравитационные волны связь на гравитационных в...     0.000000\n",
      "36            лянтор культура в лянторе располагаются     0.000000\n",
      "37  лянтор транспорт внутригородская автобусная се...     0.000000\n",
      "38  лянтор сфера услуг в городе осуществляют свою ...     0.000000\n",
      "39  новохопёрск история в середине xvii века будущ...     0.000000\n",
      "40  дескур анджей мария священство августа года ру...     0.000000\n",
      "41  рядовой италия в вооружённых силах италии имее...     0.000000\n",
      "42  харди джефф сольные выступления после нескольк...     0.000000\n",
      "43  операция анадырь результаты операции анадырь в...     0.000000\n",
      "44  оленовка волновахский район история президиум ...     0.000000\n",
      "45  перенаправление ввода вывода цепочка конвейеро...     0.000000\n",
      "46  сан карлус сан паулу история освоение и заселе...     0.000000\n",
      "47  радио россии программы литературные сериалы и ...     0.000000\n",
      "48  малая алматинка терренкур вдоль реки выше улиц...     0.000000\n",
      "49  обыкновенный подуст питание подуст питается ор...     0.000000\n"
     ]
    }
   ],
   "source": [
    "query = \"Самое крупное государство\"\n",
    "kDocuments = 50\n",
    "docs, urls, bm25_scores = getSortedDocumentsWithUrls(query, model, kDocuments, Bm25Ranker(stem))\n",
    "df = pd.DataFrame({'relevant docs': docs, 'bm25 scores': bm25_scores})\n",
    "print(df)"
   ]
  },
  {
   "cell_type": "code",
   "execution_count": 26,
   "id": "qBMTHO-cbp8s",
   "metadata": {
    "colab": {
     "base_uri": "https://localhost:8080/"
    },
    "id": "qBMTHO-cbp8s",
    "outputId": "ca0cef38-4f81-49f5-9e89-20218fb2a7c1",
    "scrolled": true
   },
   "outputs": [
    {
     "name": "stdout",
     "output_type": "stream",
     "text": [
      "                                        relevant docs    scores\n",
      "0   География Калифорнии.  Калифорния — крупнейший...  0.822690\n",
      "1   Барсум. Гелиум. Двойной город (Малый Гелиум от...  0.613793\n",
      "2   Страны Африки, Карибского бассейна и Тихого ок...  0.478108\n",
      "3   Торент. География. Королевство Торент — одно и...  0.033331\n",
      "4   Эксума. Большой Эксума. Большой Эксума являетс...  0.024914\n",
      "5   Маяк мыса Хаттерас.  Является самым высоким ма...  0.009683\n",
      "6   Астровитянка. Правление. Существующие на Земле...  0.006624\n",
      "7   Северо-Восток США. Состав. Регион состоит из д...  0.004310\n",
      "8    Жизор (Эр).  Население (2018) — 11 674 человека.  0.002519\n",
      "9   Такна (регион).  Административный центр регион...  0.002313\n",
      "10  Пенжинская ПЭС.  В зависимости от выбранного п...  0.002121\n",
      "11      Конкарно.  Население (2019) — 19 816 человек.  0.001664\n",
      "12      Верх-Тюш.  Население — 265 человек(2022 год).  0.001340\n",
      "13  Нампула (город). Население. С численностью нас...  0.001306\n",
      "14  Верхошижемье.  Население 4108 жителей (на 2018...  0.001271\n",
      "15  Звёздный десант. Мир. В будущем обществом упра...  0.001200\n",
      "16  Ратбури (провинция).  Административный центр —...  0.001191\n",
      "17  Большая Кяма. География. Большая Кяма располож...  0.001191\n",
      "18  Амброзия полыннолистная. Географическое распро...  0.001169\n",
      "19  Блато (Корчула). Характеристика. Состав общины...  0.001162\n",
      "20                     Дорищи. Население. В 2002 — 5.  0.001140\n",
      "21  Фужер (город).  Население (2019) — 20 595 чело...  0.001125\n",
      "22               Золотореченск.  Население — чел. ().  0.001112\n",
      "23  Мир, порядок и доброе управление. Национальное...  0.001097\n",
      "24  Victoria II. Внешняя политика. Каждое государс...  0.001090\n",
      "25  Верхний-Нойбер. Тайпы. В населении села преобл...  0.001087\n",
      "26  Слободской уезд. Географическое положение. Уез...  0.001085\n",
      "27  Дурдан. Население. Население, по состоянию на ...  0.001076\n",
      "28      Крутинка.  Основан в 1760 году. Население — .  0.001070\n",
      "29  Брандё. Поселения. Поселения с численностью на...  0.001062\n",
      "30  Верхние Серги. Историческая численность населе...  0.001058\n",
      "31  Железнодорожный транспорт в СССР.  По объёму г...  0.001055\n",
      "32  Надросье. Популяция населения. Население по пе...  0.001054\n",
      "33  Авария на Саяно-Шушенской ГЭС. Саяно-Шушенская...  0.001046\n",
      "34  Сальто (департамент). Административное деление...  0.001045\n",
      "35  Верхний Наур. Население. По данным Всероссийск...  0.001044\n",
      "36  Население Северной Каролины.  В Северной Карол...  0.001042\n",
      "37  Камыстинский район. Население. Национальный со...  0.001042\n",
      "38  Права человека в США. Заключенные в США. Пробл...  0.001040\n",
      "39  Шилин-Гол. Население. По данным на 2000 год в ...  0.001038\n",
      "40  Бериловка. Население. Численность населения Бе...  0.001037\n",
      "41  Межевание в Российской империи.  По типу межев...  0.001036\n",
      "42  Южно-Бачский округ. Население. На территории о...  0.001036\n",
      "43  Оренбургский район. Национальный состав. По ре...  0.001035\n",
      "44  Мощёная. Население. Население Мощёной существе...  0.001034\n",
      "45  Нурадилово. Население. Национальный состав (20...  0.001034\n",
      "46   Амельковщина. Численность. 1980-е — жителей нет.  0.001030\n",
      "47  Отделение церкви от государства.  В 2010-х год...  0.001030\n",
      "48  Дуровщина. Население. Население — 10 жителей (...  0.001029\n",
      "49  Пономарёвский район. Население. Численность на...  0.001028\n"
     ]
    }
   ],
   "source": [
    "query = \"Самое крупное государство\"\n",
    "kDocuments = 50\n",
    "\n",
    "indexes = findVectorsIndexes(query, encoder, kDocuments)\n",
    "docs, urls, scores = rankDocuments(query, indexes, ranker)\n",
    "\n",
    "\n",
    "# docs, urls, scores = getSortedDocumentsWithUrls(query, model, kDocuments, CrossEncoderRanker())\n",
    "df = pd.DataFrame({'relevant docs': docs, 'scores': scores})\n",
    "print(df)"
   ]
  },
  {
   "cell_type": "code",
   "execution_count": 58,
   "id": "0dec4aef-7ac0-40a6-a19e-d8dfc80e6370",
   "metadata": {},
   "outputs": [],
   "source": [
    "# query = \"Самое крупное государство\"\n",
    "# kDocuments = 50\n",
    "# docs, urls, scores = getSortedDocumentsWithUrls(query, model, kDocuments, ColBERTRanker())\n",
    "# df = pd.DataFrame({'relevant docs': docs, 'scores': scores})\n",
    "# print(df)"
   ]
  },
  {
   "cell_type": "markdown",
   "id": "b3565aec-2678-43ce-99aa-286f5ec04f35",
   "metadata": {},
   "source": [
    "Поиск с моделью-суммаризатором"
   ]
  },
  {
   "cell_type": "code",
   "execution_count": 94,
   "id": "1fc9fa1a-7e3b-4c6a-8d9e-745bbd5d3563",
   "metadata": {
    "scrolled": true
   },
   "outputs": [
    {
     "name": "stdout",
     "output_type": "stream",
     "text": [
      "                                        relevant docs    scores\n",
      "0   Германия. Города. Самыми крупными городами Гер...  0.253303\n",
      "1   Китай. Крупнейшие города. Начиная с 2000 г., к...  0.227778\n",
      "2   Токио.  Помимо столицы, Токио также является о...  0.145966\n",
      "3   Канны. Соборы и церкви. Самым большим парком г...  0.120581\n",
      "4   Помпеи. Дом Юлии Феликс. Занимает одну из самы...  0.089081\n",
      "..                                                ...       ...\n",
      "95  Вожегодский район. Урбанизация. Городское насе...  0.001030\n",
      "96  Саппоро. Население. Население города составляе...  0.001028\n",
      "97  Киото. Население. Население города составляет ...  0.001028\n",
      "98  Ковернинский район. География. Район занимает ...  0.001028\n",
      "99  Судак (город). Национальный состав. По данным ...  0.001025\n",
      "\n",
      "[100 rows x 2 columns]\n"
     ]
    }
   ],
   "source": [
    "query = \"Какой самый большой город на земле?\"\n",
    "kDocuments = 100\n",
    "docs, urls, scores = getSortedDocumentsWithUrls(query, model, kDocuments, CrossEncoderRanker())\n",
    "df = pd.DataFrame({'relevant docs': docs, 'scores': scores})\n",
    "print(df)"
   ]
  },
  {
   "cell_type": "code",
   "execution_count": 98,
   "id": "20d5cc94-77d7-4813-b2d1-587f68043356",
   "metadata": {},
   "outputs": [
    {
     "data": {
      "text/plain": [
       "['Германия. Города. Самыми крупными городами Германии являются Берлин, Гамбург, Мюнхен и Кёльн. Следующим по значимости является пятый по численности населения город Германии и финансовая метрополия Франкфурт-на-Майне, самый крупный аэропорт Германии. Это третий по размерам аэропорт Европы и первый по объёмам прибыли от грузовых авиаперевозок. Рурский бассейн — регион с самой высокой плотностью населения.',\n",
       " 'Китай. Крупнейшие города. Начиная с 2000 г., китайские города увеличивались в среднем на 10 % в год. В настоящее время в КНР есть более 100 городов с населением свыше одного миллиона жителей.',\n",
       " 'Токио.  Помимо столицы, Токио также является одной из сорока семи префектур страны. По состоянию на 1 августа 2021 года население Токио составляло , что делает Токио префектурой с самым большим населением в Японии. Большой Токио является городской территорией, городской агломерацией и метрополитенским ареалом с самым большим населением в мире, с населением по состоянию на 2016 год в , является частью мегалополиса Пояс Тайхэйё. Токио, являясь самой большой по населению городской агломерацией на Земле, считается самым безопасным городом в мире. Токио известен как город, который в ночь с 9 на 10 марта 1945 года во время рейда Вооружённых сил США, под кодовым названием «Операция Дом собраний», подвергся самой разрушительной и смертоносной неядерной бомбардировке в истории человечества. Токийский столичный округ (префектура) — административная единица Японии, включающая в себя 23 специальных района, область Тама и островные территории (острова Идзу и Огасавара). В честь Токио назван астероид (498) Токио, открытый в 1900 году в этом городе японским астрономом Сином Хироямой.',\n",
       " 'Канны. Соборы и церкви. Самым большим парком города является знаменитое кладбище Гран-Жас.',\n",
       " 'Помпеи. Дом Юлии Феликс. Занимает одну из самых больших инсул города, однако лишь треть её застроена, 2/3 представляют собой сад. Часть дома с банными помещениями сдавалась внаём.']"
      ]
     },
     "execution_count": 98,
     "metadata": {},
     "output_type": "execute_result"
    }
   ],
   "source": [
    "docs[:5]"
   ]
  },
  {
   "cell_type": "code",
   "execution_count": 109,
   "id": "8e873469-9904-4509-b4e4-9b280da0be99",
   "metadata": {
    "scrolled": true
   },
   "outputs": [
    {
     "name": "stdout",
     "output_type": "stream",
     "text": [
      " Какой самый большой город на земле?\n",
      "В тексте: Германия. Города. Самыми крупными городами Германии являются Берлин, Гамбург, Мюнхен и Кёльн. Следующим по значимости является пятый по численности населения город Германии и финансовая метрополия Франкфурт-на-Майне, самый крупный аэропорт Германии. Это третий по размерам аэропорт Европы и первый по объёмам прибыли от грузовых авиаперевозок. Рурский бассейн — регион с самой высокой плотностью населения.\n",
      "Китай. Крупнейшие города. Начиная с 2000 г., китайские города увеличивались в среднем на 10 % в год. В настоящее время в КНР есть более 100 городов с населением свыше одного миллиона жителей.\n",
      "Токио.  Помимо столицы, Токио также является одной из сорока семи префектур страны. По состоянию на 1 августа 2021 года население Токио составляло , что делает Токио префектурой с самым большим населением в Японии. Большой Токио является городской территорией, городской агломерацией и метрополитенским ареалом с самым большим населением в мире, с населением по состоянию на 2016 год в , является частью мегалополиса Пояс Тайхэйё. Токио, являясь самой большой по населению городской агломерацией на Земле, считается самым безопасным городом в мире. Токио известен как город, который в ночь с 9 на 10 марта 1945 года во время рейда Вооружённых сил США, под кодовым названием «Операция Дом собраний», подвергся самой разрушительной и смертоносной неядерной бомбардировке в истории человечества. Токийский столичный округ (префектура) — административная единица Японии, включающая в себя 23 специальных района, область Тама и островные территории (острова Идзу и Огасавара). В честь Токио назван астероид (498) Токио, открытый в 1900 году в этом городе японским астрономом Сином Хироямой.\n",
      "Канны. Соборы и церкви. Самым большим парком города является знаменитое кладбище Гран-Жас.\n",
      "Помпеи. Дом Юлии Феликс. Занимает одну из самых больших инсул города, однако лишь треть её застроена, 2/3 представляют собой сад. Часть дома с банными помещениями сдавалась внаём.\n",
      "Суммаризация текста:\n",
      "['«Самый большой город в мире»: как Япония стала крупнейшим городом в мире']\n",
      "\n",
      "\n"
     ]
    }
   ],
   "source": [
    "summary = summarizeText(docs[:5], query)\n",
    "print(f\"Суммаризация текста:\\n{summary}\\n\\n\")"
   ]
  },
  {
   "cell_type": "markdown",
   "id": "03fe7829-5d1b-4b70-ad1f-0095b21d9788",
   "metadata": {},
   "source": [
    "## Пример использования текстовой SQL БД"
   ]
  },
  {
   "cell_type": "code",
   "execution_count": 119,
   "id": "6511c5aa-c163-4c1f-99ab-9c0d526ffb40",
   "metadata": {},
   "outputs": [],
   "source": [
    "def get_row_by_positions(cursor, table_name, indexes):    \n",
    "    indexes_str = ', '.join(str(ind) for ind in indexes)\n",
    "    query = f\"SELECT url, proc_article, article FROM {table_name} WHERE \\\"index\\\" IN ({indexes_str})\"\n",
    "    cursor.execute(query)\n",
    "    return pd.DataFrame(cursor.fetchall())"
   ]
  },
  {
   "cell_type": "code",
   "execution_count": 120,
   "id": "cef50a7a-ce62-48f1-8288-3e07de3d8d62",
   "metadata": {},
   "outputs": [],
   "source": [
    "conn = sqlite3.connect('data/data_bases/documentsMetadataDB.db')\n",
    "cursor = conn.cursor()"
   ]
  },
  {
   "cell_type": "code",
   "execution_count": 121,
   "id": "65afb14c-daed-4bd7-b42b-9a964185f071",
   "metadata": {},
   "outputs": [],
   "source": [
    "rows = get_row_by_positions(cursor, 'documents', [0, 1,2,3,4])"
   ]
  },
  {
   "cell_type": "code",
   "execution_count": 122,
   "id": "34efe9d1-f5b4-46ab-84f1-22f206570442",
   "metadata": {},
   "outputs": [
    {
     "data": {
      "text/html": [
       "<div>\n",
       "<style scoped>\n",
       "    .dataframe tbody tr th:only-of-type {\n",
       "        vertical-align: middle;\n",
       "    }\n",
       "\n",
       "    .dataframe tbody tr th {\n",
       "        vertical-align: top;\n",
       "    }\n",
       "\n",
       "    .dataframe thead th {\n",
       "        text-align: right;\n",
       "    }\n",
       "</style>\n",
       "<table border=\"1\" class=\"dataframe\">\n",
       "  <thead>\n",
       "    <tr style=\"text-align: right;\">\n",
       "      <th></th>\n",
       "      <th>0</th>\n",
       "      <th>1</th>\n",
       "      <th>2</th>\n",
       "    </tr>\n",
       "  </thead>\n",
       "  <tbody>\n",
       "    <tr>\n",
       "      <th>0</th>\n",
       "      <td>https://ru.wikipedia.org/wiki?curid=59357</td>\n",
       "      <td>аничков мост первый деревянный мост построен г...</td>\n",
       "      <td>Аничков мост.  Первый деревянный мост построен...</td>\n",
       "    </tr>\n",
       "    <tr>\n",
       "      <th>1</th>\n",
       "      <td>https://ru.wikipedia.org/wiki?curid=59357#Расп...</td>\n",
       "      <td>аничков мост расположение расположен оси невск...</td>\n",
       "      <td>Аничков мост. Расположение. Расположен по оси ...</td>\n",
       "    </tr>\n",
       "    <tr>\n",
       "      <th>2</th>\n",
       "      <td>https://ru.wikipedia.org/wiki?curid=59357#Назв...</td>\n",
       "      <td>аничков мост название название моста произошло...</td>\n",
       "      <td>Аничков мост. Название. Название моста произош...</td>\n",
       "    </tr>\n",
       "    <tr>\n",
       "      <th>3</th>\n",
       "      <td>https://ru.wikipedia.org/wiki?curid=59357#Дере...</td>\n",
       "      <td>аничков мост деревянный мост до годов фонтанка...</td>\n",
       "      <td>Аничков мост. Деревянный мост. До 1712—1714 го...</td>\n",
       "    </tr>\n",
       "    <tr>\n",
       "      <th>4</th>\n",
       "      <td>https://ru.wikipedia.org/wiki?curid=59357#Каме...</td>\n",
       "      <td>аничков мост каменный мост образца годов серед...</td>\n",
       "      <td>Аничков мост. Каменный мост образца 1780-х год...</td>\n",
       "    </tr>\n",
       "  </tbody>\n",
       "</table>\n",
       "</div>"
      ],
      "text/plain": [
       "                                                   0  \\\n",
       "0          https://ru.wikipedia.org/wiki?curid=59357   \n",
       "1  https://ru.wikipedia.org/wiki?curid=59357#Расп...   \n",
       "2  https://ru.wikipedia.org/wiki?curid=59357#Назв...   \n",
       "3  https://ru.wikipedia.org/wiki?curid=59357#Дере...   \n",
       "4  https://ru.wikipedia.org/wiki?curid=59357#Каме...   \n",
       "\n",
       "                                                   1  \\\n",
       "0  аничков мост первый деревянный мост построен г...   \n",
       "1  аничков мост расположение расположен оси невск...   \n",
       "2  аничков мост название название моста произошло...   \n",
       "3  аничков мост деревянный мост до годов фонтанка...   \n",
       "4  аничков мост каменный мост образца годов серед...   \n",
       "\n",
       "                                                   2  \n",
       "0  Аничков мост.  Первый деревянный мост построен...  \n",
       "1  Аничков мост. Расположение. Расположен по оси ...  \n",
       "2  Аничков мост. Название. Название моста произош...  \n",
       "3  Аничков мост. Деревянный мост. До 1712—1714 го...  \n",
       "4  Аничков мост. Каменный мост образца 1780-х год...  "
      ]
     },
     "execution_count": 122,
     "metadata": {},
     "output_type": "execute_result"
    }
   ],
   "source": [
    "rows"
   ]
  },
  {
   "cell_type": "code",
   "execution_count": null,
   "id": "01c9c056-5b27-4e10-8298-bd58d616b417",
   "metadata": {},
   "outputs": [],
   "source": [
    "conn.close()"
   ]
  },
  {
   "cell_type": "markdown",
   "id": "8b55aaf5-68fa-4563-9039-178bce86ae78",
   "metadata": {},
   "source": [
    "Проверям совпадают ли порядки строк в разных текстовых БД"
   ]
  },
  {
   "cell_type": "code",
   "execution_count": 32,
   "id": "707cacf9-b7d0-4d63-a460-606382dcdc26",
   "metadata": {},
   "outputs": [],
   "source": [
    "texts = pd.read_csv('data/data_bases/texts.csv', header=None,)"
   ]
  },
  {
   "cell_type": "code",
   "execution_count": 33,
   "id": "26232650-f4c0-4ede-b419-e785a8342dba",
   "metadata": {},
   "outputs": [
    {
     "data": {
      "text/html": [
       "<div>\n",
       "<style scoped>\n",
       "    .dataframe tbody tr th:only-of-type {\n",
       "        vertical-align: middle;\n",
       "    }\n",
       "\n",
       "    .dataframe tbody tr th {\n",
       "        vertical-align: top;\n",
       "    }\n",
       "\n",
       "    .dataframe thead th {\n",
       "        text-align: right;\n",
       "    }\n",
       "</style>\n",
       "<table border=\"1\" class=\"dataframe\">\n",
       "  <thead>\n",
       "    <tr style=\"text-align: right;\">\n",
       "      <th></th>\n",
       "      <th>0</th>\n",
       "      <th>1</th>\n",
       "      <th>2</th>\n",
       "      <th>3</th>\n",
       "      <th>4</th>\n",
       "      <th>5</th>\n",
       "      <th>6</th>\n",
       "    </tr>\n",
       "  </thead>\n",
       "  <tbody>\n",
       "    <tr>\n",
       "      <th>0</th>\n",
       "      <td>0</td>\n",
       "      <td>53eb3616-89cd-439d-868f-71d8681342b8</td>\n",
       "      <td>https://ru.wikipedia.org/wiki?curid=1895123#Ге...</td>\n",
       "      <td>Пожешко-Славонска. География.</td>\n",
       "      <td>Пожешко-Славонска. География. Площадь жупании ...</td>\n",
       "      <td>пожешко славонска география площадь жупании 18...</td>\n",
       "      <td>96</td>\n",
       "    </tr>\n",
       "    <tr>\n",
       "      <th>1</th>\n",
       "      <td>1</td>\n",
       "      <td>53eb3616-89cd-439d-868f-71d8681342b8</td>\n",
       "      <td>https://ru.wikipedia.org/wiki?curid=1895123#На...</td>\n",
       "      <td>Пожешко-Славонска. Население.</td>\n",
       "      <td>Пожешко-Славонска. Население. В соответствии с...</td>\n",
       "      <td>пожешко славонска население в соответствии с д...</td>\n",
       "      <td>32</td>\n",
       "    </tr>\n",
       "    <tr>\n",
       "      <th>2</th>\n",
       "      <td>2</td>\n",
       "      <td>e1d0c73e-000f-49a5-b9e4-dddba9a68acd</td>\n",
       "      <td>https://ru.wikipedia.org/wiki?curid=1895137</td>\n",
       "      <td>Пажитник голубой</td>\n",
       "      <td>Пажитник голубой.  Родина вида — Средиземномор...</td>\n",
       "      <td>пажитник голубой родина вида средиземноморье н...</td>\n",
       "      <td>22</td>\n",
       "    </tr>\n",
       "    <tr>\n",
       "      <th>3</th>\n",
       "      <td>3</td>\n",
       "      <td>e1d0c73e-000f-49a5-b9e4-dddba9a68acd</td>\n",
       "      <td>https://ru.wikipedia.org/wiki?curid=1895137#Бо...</td>\n",
       "      <td>Пажитник голубой. Ботаническое описание.</td>\n",
       "      <td>Пажитник голубой. Ботаническое описание. Однол...</td>\n",
       "      <td>пажитник голубой ботаническое описание однолет...</td>\n",
       "      <td>100</td>\n",
       "    </tr>\n",
       "    <tr>\n",
       "      <th>4</th>\n",
       "      <td>4</td>\n",
       "      <td>e1d0c73e-000f-49a5-b9e4-dddba9a68acd</td>\n",
       "      <td>https://ru.wikipedia.org/wiki?curid=1895137#Хи...</td>\n",
       "      <td>Пажитник голубой. Химический состав.</td>\n",
       "      <td>Пажитник голубой. Химический состав. В семенах...</td>\n",
       "      <td>пажитник голубой химический состав в семенах п...</td>\n",
       "      <td>66</td>\n",
       "    </tr>\n",
       "  </tbody>\n",
       "</table>\n",
       "</div>"
      ],
      "text/plain": [
       "   0                                     1  \\\n",
       "0  0  53eb3616-89cd-439d-868f-71d8681342b8   \n",
       "1  1  53eb3616-89cd-439d-868f-71d8681342b8   \n",
       "2  2  e1d0c73e-000f-49a5-b9e4-dddba9a68acd   \n",
       "3  3  e1d0c73e-000f-49a5-b9e4-dddba9a68acd   \n",
       "4  4  e1d0c73e-000f-49a5-b9e4-dddba9a68acd   \n",
       "\n",
       "                                                   2  \\\n",
       "0  https://ru.wikipedia.org/wiki?curid=1895123#Ге...   \n",
       "1  https://ru.wikipedia.org/wiki?curid=1895123#На...   \n",
       "2        https://ru.wikipedia.org/wiki?curid=1895137   \n",
       "3  https://ru.wikipedia.org/wiki?curid=1895137#Бо...   \n",
       "4  https://ru.wikipedia.org/wiki?curid=1895137#Хи...   \n",
       "\n",
       "                                          3  \\\n",
       "0             Пожешко-Славонска. География.   \n",
       "1             Пожешко-Славонска. Население.   \n",
       "2                          Пажитник голубой   \n",
       "3  Пажитник голубой. Ботаническое описание.   \n",
       "4      Пажитник голубой. Химический состав.   \n",
       "\n",
       "                                                   4  \\\n",
       "0  Пожешко-Славонска. География. Площадь жупании ...   \n",
       "1  Пожешко-Славонска. Население. В соответствии с...   \n",
       "2  Пажитник голубой.  Родина вида — Средиземномор...   \n",
       "3  Пажитник голубой. Ботаническое описание. Однол...   \n",
       "4  Пажитник голубой. Химический состав. В семенах...   \n",
       "\n",
       "                                                   5    6  \n",
       "0  пожешко славонска география площадь жупании 18...   96  \n",
       "1  пожешко славонска население в соответствии с д...   32  \n",
       "2  пажитник голубой родина вида средиземноморье н...   22  \n",
       "3  пажитник голубой ботаническое описание однолет...  100  \n",
       "4  пажитник голубой химический состав в семенах п...   66  "
      ]
     },
     "execution_count": 33,
     "metadata": {},
     "output_type": "execute_result"
    }
   ],
   "source": [
    "texts.head(5)"
   ]
  },
  {
   "cell_type": "code",
   "execution_count": null,
   "id": "8acdd30f-3b8e-4bfc-997b-855b1ab64988",
   "metadata": {},
   "outputs": [],
   "source": []
  },
  {
   "cell_type": "code",
   "execution_count": null,
   "id": "08f495c9-1f1c-4e2a-8762-5f6c58c7a70a",
   "metadata": {},
   "outputs": [],
   "source": []
  },
  {
   "cell_type": "code",
   "execution_count": null,
   "id": "491c58bc-4f79-4b46-9bf9-ed1f313fc07b",
   "metadata": {},
   "outputs": [],
   "source": []
  },
  {
   "cell_type": "code",
   "execution_count": 22,
   "id": "4f7edf79-ec9d-44c0-9322-b2c628f9e4e9",
   "metadata": {},
   "outputs": [],
   "source": [
    "conn = sqlite3.connect('data/data_bases/sharded/documentsMetadataDB_1.db')\n",
    "cursor = conn.cursor()\n",
    "query = f\"SELECT * FROM documents\"\n",
    "cursor.execute(query)\n",
    "sqlDf = pd.DataFrame(cursor.fetchall())"
   ]
  },
  {
   "cell_type": "code",
   "execution_count": null,
   "id": "07d4e526-c67a-4481-8f3d-1b54342d523d",
   "metadata": {},
   "outputs": [],
   "source": []
  },
  {
   "cell_type": "code",
   "execution_count": 24,
   "id": "8eb90b79-f16b-4bb5-ab70-08e818137d3f",
   "metadata": {},
   "outputs": [
    {
     "name": "stdout",
     "output_type": "stream",
     "text": [
      "Индексы похожих документов: [ 0  1  2  3  4  5  6  7  8  9 10 11 12 13 14 15 16 17 18 19 20 21 22 23\n",
      " 24 25 26 27 28 29]\n"
     ]
    }
   ],
   "source": [
    "index = getVectorDB('data/data_bases/sharded/vectorDB_1.index')\n",
    "\n",
    "texts = sqlDf[4][:30]\n",
    "first_30_vectors = model.encode(texts, normalize_embeddings=True)\n",
    "    \n",
    "# Находим соседей для первых 30 векторов в БД\n",
    "D, I = index.search(np.array(first_30_vectors), 12)\n",
    "# Должны быть те же индексы от 0 до 29. То есть те же векторы, для которых искали соседей. (там где не совпадает, это потомучто вместо текста Nan, снизу видно)\n",
    "print(\"Индексы похожих документов:\", I[0:30, 0])\n"
   ]
  },
  {
   "cell_type": "code",
   "execution_count": null,
   "id": "dec6761e-c0cc-4645-8434-127efcb9b3d5",
   "metadata": {},
   "outputs": [],
   "source": []
  },
  {
   "cell_type": "code",
   "execution_count": null,
   "id": "cdd9ed71-bab0-402d-a895-452247a3ded8",
   "metadata": {},
   "outputs": [],
   "source": []
  },
  {
   "cell_type": "code",
   "execution_count": 23,
   "id": "60cd390f-b89e-4a2a-a732-601d4f6d077c",
   "metadata": {},
   "outputs": [
    {
     "data": {
      "text/html": [
       "<div>\n",
       "<style scoped>\n",
       "    .dataframe tbody tr th:only-of-type {\n",
       "        vertical-align: middle;\n",
       "    }\n",
       "\n",
       "    .dataframe tbody tr th {\n",
       "        vertical-align: top;\n",
       "    }\n",
       "\n",
       "    .dataframe thead th {\n",
       "        text-align: right;\n",
       "    }\n",
       "</style>\n",
       "<table border=\"1\" class=\"dataframe\">\n",
       "  <thead>\n",
       "    <tr style=\"text-align: right;\">\n",
       "      <th></th>\n",
       "      <th>0</th>\n",
       "      <th>1</th>\n",
       "      <th>2</th>\n",
       "      <th>3</th>\n",
       "      <th>4</th>\n",
       "    </tr>\n",
       "  </thead>\n",
       "  <tbody>\n",
       "    <tr>\n",
       "      <th>0</th>\n",
       "      <td>0</td>\n",
       "      <td>https://ru.wikipedia.org/wiki?curid=59357</td>\n",
       "      <td>Аничков мост</td>\n",
       "      <td>Аничков мост.  Первый деревянный мост построен...</td>\n",
       "      <td>аничков мост первый деревянный мост построен г...</td>\n",
       "    </tr>\n",
       "    <tr>\n",
       "      <th>1</th>\n",
       "      <td>1</td>\n",
       "      <td>https://ru.wikipedia.org/wiki?curid=59357#Расп...</td>\n",
       "      <td>Аничков мост. Расположение.</td>\n",
       "      <td>Аничков мост. Расположение. Расположен по оси ...</td>\n",
       "      <td>аничков мост расположение расположен оси невск...</td>\n",
       "    </tr>\n",
       "    <tr>\n",
       "      <th>2</th>\n",
       "      <td>2</td>\n",
       "      <td>https://ru.wikipedia.org/wiki?curid=59357#Назв...</td>\n",
       "      <td>Аничков мост. Название.</td>\n",
       "      <td>Аничков мост. Название. Название моста произош...</td>\n",
       "      <td>аничков мост название название моста произошло...</td>\n",
       "    </tr>\n",
       "    <tr>\n",
       "      <th>3</th>\n",
       "      <td>3</td>\n",
       "      <td>https://ru.wikipedia.org/wiki?curid=59357#Дере...</td>\n",
       "      <td>Аничков мост. Деревянный мост.</td>\n",
       "      <td>Аничков мост. Деревянный мост. До 1712—1714 го...</td>\n",
       "      <td>аничков мост деревянный мост до годов фонтанка...</td>\n",
       "    </tr>\n",
       "    <tr>\n",
       "      <th>4</th>\n",
       "      <td>4</td>\n",
       "      <td>https://ru.wikipedia.org/wiki?curid=59357#Каме...</td>\n",
       "      <td>Аничков мост. Каменный мост образца 1780-х годов.</td>\n",
       "      <td>Аничков мост. Каменный мост образца 1780-х год...</td>\n",
       "      <td>аничков мост каменный мост образца годов серед...</td>\n",
       "    </tr>\n",
       "    <tr>\n",
       "      <th>...</th>\n",
       "      <td>...</td>\n",
       "      <td>...</td>\n",
       "      <td>...</td>\n",
       "      <td>...</td>\n",
       "      <td>...</td>\n",
       "    </tr>\n",
       "    <tr>\n",
       "      <th>75355</th>\n",
       "      <td>75355</td>\n",
       "      <td>https://ru.wikipedia.org/wiki?curid=25505#Личн...</td>\n",
       "      <td>Багратион, Пётр Иванович. Личная жизнь Баграти...</td>\n",
       "      <td>Багратион, Пётр Иванович. Личная жизнь Баграти...</td>\n",
       "      <td>багратион пётр иванович личная жизнь багратион...</td>\n",
       "    </tr>\n",
       "    <tr>\n",
       "      <th>75356</th>\n",
       "      <td>75356</td>\n",
       "      <td>https://ru.wikipedia.org/wiki?curid=25505#Награды</td>\n",
       "      <td>Багратион, Пётр Иванович. Награды.</td>\n",
       "      <td>Багратион, Пётр Иванович. Награды. Российские ...</td>\n",
       "      <td>багратион пётр иванович награды российские ино...</td>\n",
       "    </tr>\n",
       "    <tr>\n",
       "      <th>75357</th>\n",
       "      <td>75357</td>\n",
       "      <td>https://ru.wikipedia.org/wiki?curid=25505#Памя...</td>\n",
       "      <td>Багратион, Пётр Иванович. Память о Багратионе.</td>\n",
       "      <td>Багратион, Пётр Иванович. Память о Багратионе....</td>\n",
       "      <td>багратион пётр иванович память багратионе июля...</td>\n",
       "    </tr>\n",
       "    <tr>\n",
       "      <th>75358</th>\n",
       "      <td>75358</td>\n",
       "      <td>https://ru.wikipedia.org/wiki?curid=25505#В_ар...</td>\n",
       "      <td>Багратион, Пётр Иванович. В архитектуре.</td>\n",
       "      <td>Багратион, Пётр Иванович. В архитектуре. В 199...</td>\n",
       "      <td>багратион пётр иванович архитектуре москве отк...</td>\n",
       "    </tr>\n",
       "    <tr>\n",
       "      <th>75359</th>\n",
       "      <td>75359</td>\n",
       "      <td>https://ru.wikipedia.org/wiki?curid=25505#Улиц...</td>\n",
       "      <td>Багратион, Пётр Иванович. Улицы, названные име...</td>\n",
       "      <td>Багратион, Пётр Иванович. Улицы, названные име...</td>\n",
       "      <td>багратион пётр иванович улицы названные именем...</td>\n",
       "    </tr>\n",
       "  </tbody>\n",
       "</table>\n",
       "<p>75360 rows × 5 columns</p>\n",
       "</div>"
      ],
      "text/plain": [
       "           0                                                  1  \\\n",
       "0          0          https://ru.wikipedia.org/wiki?curid=59357   \n",
       "1          1  https://ru.wikipedia.org/wiki?curid=59357#Расп...   \n",
       "2          2  https://ru.wikipedia.org/wiki?curid=59357#Назв...   \n",
       "3          3  https://ru.wikipedia.org/wiki?curid=59357#Дере...   \n",
       "4          4  https://ru.wikipedia.org/wiki?curid=59357#Каме...   \n",
       "...      ...                                                ...   \n",
       "75355  75355  https://ru.wikipedia.org/wiki?curid=25505#Личн...   \n",
       "75356  75356  https://ru.wikipedia.org/wiki?curid=25505#Награды   \n",
       "75357  75357  https://ru.wikipedia.org/wiki?curid=25505#Памя...   \n",
       "75358  75358  https://ru.wikipedia.org/wiki?curid=25505#В_ар...   \n",
       "75359  75359  https://ru.wikipedia.org/wiki?curid=25505#Улиц...   \n",
       "\n",
       "                                                       2  \\\n",
       "0                                           Аничков мост   \n",
       "1                            Аничков мост. Расположение.   \n",
       "2                                Аничков мост. Название.   \n",
       "3                         Аничков мост. Деревянный мост.   \n",
       "4      Аничков мост. Каменный мост образца 1780-х годов.   \n",
       "...                                                  ...   \n",
       "75355  Багратион, Пётр Иванович. Личная жизнь Баграти...   \n",
       "75356                 Багратион, Пётр Иванович. Награды.   \n",
       "75357     Багратион, Пётр Иванович. Память о Багратионе.   \n",
       "75358           Багратион, Пётр Иванович. В архитектуре.   \n",
       "75359  Багратион, Пётр Иванович. Улицы, названные име...   \n",
       "\n",
       "                                                       3  \\\n",
       "0      Аничков мост.  Первый деревянный мост построен...   \n",
       "1      Аничков мост. Расположение. Расположен по оси ...   \n",
       "2      Аничков мост. Название. Название моста произош...   \n",
       "3      Аничков мост. Деревянный мост. До 1712—1714 го...   \n",
       "4      Аничков мост. Каменный мост образца 1780-х год...   \n",
       "...                                                  ...   \n",
       "75355  Багратион, Пётр Иванович. Личная жизнь Баграти...   \n",
       "75356  Багратион, Пётр Иванович. Награды. Российские ...   \n",
       "75357  Багратион, Пётр Иванович. Память о Багратионе....   \n",
       "75358  Багратион, Пётр Иванович. В архитектуре. В 199...   \n",
       "75359  Багратион, Пётр Иванович. Улицы, названные име...   \n",
       "\n",
       "                                                       4  \n",
       "0      аничков мост первый деревянный мост построен г...  \n",
       "1      аничков мост расположение расположен оси невск...  \n",
       "2      аничков мост название название моста произошло...  \n",
       "3      аничков мост деревянный мост до годов фонтанка...  \n",
       "4      аничков мост каменный мост образца годов серед...  \n",
       "...                                                  ...  \n",
       "75355  багратион пётр иванович личная жизнь багратион...  \n",
       "75356  багратион пётр иванович награды российские ино...  \n",
       "75357  багратион пётр иванович память багратионе июля...  \n",
       "75358  багратион пётр иванович архитектуре москве отк...  \n",
       "75359  багратион пётр иванович улицы названные именем...  \n",
       "\n",
       "[75360 rows x 5 columns]"
      ]
     },
     "execution_count": 23,
     "metadata": {},
     "output_type": "execute_result"
    }
   ],
   "source": [
    "sqlDf[4][:30]"
   ]
  },
  {
   "cell_type": "code",
   "execution_count": null,
   "id": "c0a12a97-c80a-4be5-b1fd-9922331f969d",
   "metadata": {},
   "outputs": [],
   "source": []
  },
  {
   "cell_type": "code",
   "execution_count": null,
   "id": "b70befb6-5037-4e5c-a8ff-00850c28f619",
   "metadata": {},
   "outputs": [],
   "source": []
  },
  {
   "cell_type": "code",
   "execution_count": null,
   "id": "41abcf26-b46a-4bd0-865f-c8a827f6f8be",
   "metadata": {},
   "outputs": [],
   "source": []
  },
  {
   "cell_type": "code",
   "execution_count": null,
   "id": "243fc198-30b3-41a7-82f2-635f4db58800",
   "metadata": {},
   "outputs": [],
   "source": []
  },
  {
   "cell_type": "code",
   "execution_count": null,
   "id": "5cb1aabf-6965-4b31-a751-fe88e5051263",
   "metadata": {},
   "outputs": [],
   "source": []
  },
  {
   "cell_type": "code",
   "execution_count": null,
   "id": "d284ac8a-999c-4972-9b7f-3b74003fd7ab",
   "metadata": {},
   "outputs": [],
   "source": []
  },
  {
   "cell_type": "markdown",
   "id": "10d4fbf5-4eac-4dc9-a4e0-d0f7bd1e1b2d",
   "metadata": {},
   "source": [
    "# Итог (устаревшее)\n",
    "\n",
    "### Что имеем.\n",
    "\n",
    "У нас есть архив(ы) со страницами с википедии, из которых мы составляем:\n",
    "1) Векторную БД (Faiss)\n",
    "2) Тестовую БД, работающую на обратном индексе (библиотека Whoosh, которая работает по принципу Lucene)\n",
    "3) csv файл, в котором хранятся все спаршенные страницы\n",
    "\n",
    "Пока что всё таким образом (храним лишнюю csv, которая к тому же содержит полные тексты документов), потому что только начинаем разрабать и тестировать поисковик. Поэтому нужно от этого будет избавиться и сделать всё эффективнее.\n",
    "\n",
    "\n",
    "\n",
    "**Как сейчас ведётся поиск**.\n",
    "1) Получаем текстовый запрос\n",
    "2) Переводим его в вектор\n",
    "3) Находим k документов из векторной БД, которые наибольшим образом похожи на запрос\n",
    "\n",
    "### Что нужно сделать дальше\n",
    "\n",
    "Нужно как-то отранжировать полученные k документов из векторной БД. \n",
    "\n",
    "Моё изначальное предложение было - отранжировать текстово с использованием алгоритма BM25. Можно так и сделать. \n",
    "\n",
    "Или же предлагайте новые варианты."
   ]
  },
  {
   "cell_type": "code",
   "execution_count": null,
   "id": "b2335501-ec56-4478-8d8c-71ad28f65170",
   "metadata": {},
   "outputs": [],
   "source": []
  }
 ],
 "metadata": {
  "kernelspec": {
   "display_name": "Python 3 (ipykernel)",
   "language": "python",
   "name": "python3"
  },
  "language_info": {
   "codemirror_mode": {
    "name": "ipython",
    "version": 3
   },
   "file_extension": ".py",
   "mimetype": "text/x-python",
   "name": "python",
   "nbconvert_exporter": "python",
   "pygments_lexer": "ipython3",
   "version": "3.10.12"
  }
 },
 "nbformat": 4,
 "nbformat_minor": 5
}
