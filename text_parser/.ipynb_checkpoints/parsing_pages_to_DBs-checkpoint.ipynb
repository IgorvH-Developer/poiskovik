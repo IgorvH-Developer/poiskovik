{
 "cells": [
  {
   "cell_type": "code",
   "execution_count": 1,
   "id": "6c2766ab-694d-49f3-912c-f96b16ba06fe",
   "metadata": {
    "scrolled": true
   },
   "outputs": [
    {
     "name": "stderr",
     "output_type": "stream",
     "text": [
      "/home/hlopin/.local/lib/python3.10/site-packages/sentence_transformers/cross_encoder/CrossEncoder.py:13: TqdmExperimentalWarning: Using `tqdm.autonotebook.tqdm` in notebook mode. Use `tqdm.tqdm` instead to force console mode (e.g. in jupyter console)\n",
      "  from tqdm.autonotebook import tqdm, trange\n",
      "2024-11-15 22:04:25.959183: I tensorflow/core/util/port.cc:153] oneDNN custom operations are on. You may see slightly different numerical results due to floating-point round-off errors from different computation orders. To turn them off, set the environment variable `TF_ENABLE_ONEDNN_OPTS=0`.\n",
      "2024-11-15 22:04:25.969439: E external/local_xla/xla/stream_executor/cuda/cuda_fft.cc:477] Unable to register cuFFT factory: Attempting to register factory for plugin cuFFT when one has already been registered\n",
      "WARNING: All log messages before absl::InitializeLog() is called are written to STDERR\n",
      "E0000 00:00:1731697465.981458   24352 cuda_dnn.cc:8310] Unable to register cuDNN factory: Attempting to register factory for plugin cuDNN when one has already been registered\n",
      "E0000 00:00:1731697465.985184   24352 cuda_blas.cc:1418] Unable to register cuBLAS factory: Attempting to register factory for plugin cuBLAS when one has already been registered\n",
      "2024-11-15 22:04:25.998198: I tensorflow/core/platform/cpu_feature_guard.cc:210] This TensorFlow binary is optimized to use available CPU instructions in performance-critical operations.\n",
      "To enable the following instructions: AVX2 AVX512F AVX512_VNNI FMA, in other operations, rebuild TensorFlow with the appropriate compiler flags.\n",
      "[nltk_data] Downloading package punkt_tab to /home/hlopin/nltk_data...\n",
      "[nltk_data]   Package punkt_tab is already up-to-date!\n",
      "[nltk_data] Downloading package stopwords to /home/hlopin/nltk_data...\n",
      "[nltk_data]   Package stopwords is already up-to-date!\n"
     ]
    },
    {
     "data": {
      "text/plain": [
       "True"
      ]
     },
     "execution_count": 1,
     "metadata": {},
     "output_type": "execute_result"
    }
   ],
   "source": [
    "import os\n",
    "import re\n",
    "import sys\n",
    "import glob\n",
    "import gensim\n",
    "import numpy as np\n",
    "import pandas as pd\n",
    "from tqdm import tqdm\n",
    "from uuid import uuid4\n",
    "from functools import reduce\n",
    "from multiprocessing import Pool\n",
    "from sentence_transformers import SentenceTransformer\n",
    "import faiss\n",
    "import nltk\n",
    "nltk.download('punkt_tab')\n",
    "from nltk.corpus import stopwords\n",
    "nltk.download('stopwords')"
   ]
  },
  {
   "cell_type": "code",
   "execution_count": 2,
   "id": "2b6041b9-882e-4114-bdf9-f0e816d8b338",
   "metadata": {},
   "outputs": [],
   "source": [
    "from whoosh.index import create_in\n",
    "from whoosh.fields import Schema, TEXT, ID\n",
    "from whoosh.qparser import QueryParser\n",
    "from sklearn.feature_extraction.text import TfidfVectorizer"
   ]
  },
  {
   "cell_type": "markdown",
   "id": "3bfc5f95-6c37-4d92-a272-50265c302ef7",
   "metadata": {},
   "source": [
    "## Извлечение текстов википедии из архива. Из архива достаём различные страницы из википедии, которые потом будем добавлять в базы данных"
   ]
  },
  {
   "cell_type": "code",
   "execution_count": 3,
   "id": "60d4bbb5-8db4-44d4-9604-6d086b92423e",
   "metadata": {},
   "outputs": [],
   "source": [
    "#!pip install wikiextractor"
   ]
  },
  {
   "cell_type": "code",
   "execution_count": 4,
   "id": "425c8139-b552-4351-a63b-c8532c258fd2",
   "metadata": {},
   "outputs": [],
   "source": [
    "import wikiextractor"
   ]
  },
  {
   "cell_type": "markdown",
   "id": "17ced9cf-4dcd-4f76-92bc-1e16b5e5c3f0",
   "metadata": {},
   "source": [
    "Скачиваем архив"
   ]
  },
  {
   "cell_type": "code",
   "execution_count": 5,
   "id": "0e1b2c54-51bc-4067-a00e-1d10b6703896",
   "metadata": {},
   "outputs": [],
   "source": [
    "#!wget http://dumps.wikimedia.org/ruwiki/latest/ruwiki-latest-pages-articles.xml.bz2"
   ]
  },
  {
   "cell_type": "markdown",
   "id": "c388849d-7270-4efd-a299-88daa70251e8",
   "metadata": {},
   "source": [
    "Разархивируем в ./wiki папку. Для начала лучше разархивировать только несколько папок с документами по википедии (AA,AB)"
   ]
  },
  {
   "cell_type": "code",
   "execution_count": 6,
   "id": "bef20572-0079-42b4-b1ca-738aecb7e0b2",
   "metadata": {
    "scrolled": true
   },
   "outputs": [],
   "source": [
    "# !python3 -m wikiextractor.WikiExtractor -o ./data/wiki/ --no-templates --processes 8 ./ruwiki-latest-pages-articles.xml.bz2"
   ]
  },
  {
   "cell_type": "code",
   "execution_count": 7,
   "id": "562a904e-8127-481a-a1ad-64dee5b9f47c",
   "metadata": {},
   "outputs": [],
   "source": [
    "# !python3 -m wikiextractor.extractPage -o ./data/wiki/ --no-templates --processes 8 ./ruwiki-latest-pages-articles.xml.bz2"
   ]
  },
  {
   "cell_type": "markdown",
   "id": "61ffcaf7-9a44-4519-8257-98c046f5a68b",
   "metadata": {},
   "source": [
    "## Функционал для парсинг текстов википедии"
   ]
  },
  {
   "cell_type": "markdown",
   "id": "c7150287-4b07-47ee-a6fb-dffba8eccf31",
   "metadata": {},
   "source": [
    "Вспомогательные функции"
   ]
  },
  {
   "cell_type": "code",
   "execution_count": 8,
   "id": "909ac8b6-5c67-4fc2-a5e8-6e76a0993807",
   "metadata": {},
   "outputs": [],
   "source": [
    "def _remove_non_printed_chars(string):\n",
    "    reg = re.compile('[^a-zA-Zа-яА-ЯёЁ]')\n",
    "    return reg.sub(' ', string)\n",
    "\n",
    "def _remove_stop_words(string,sw=[]):\n",
    "    return ' '.join([word if word not in sw else '' \\\n",
    "                     for word in string.strip().split(' ')])\n",
    "\n",
    "def _trim_string(string):\n",
    "    # remove extra spaces, remove trailing spaces, lower the case \n",
    "    return re.sub('\\s+',' ',string).strip().lower()\n",
    "    \n",
    "def clean_string(string,\n",
    "                 stop_words_list,\n",
    "                 min_len=2,\n",
    "                 max_len=30):\n",
    "\n",
    "    string = _remove_non_printed_chars(string)\n",
    "    string = _remove_stop_words(string,stop_words_list)\n",
    "    string = _trim_string(string)\n",
    "    # also remove short words, most likely containing addresses / crap / left-overs / etc remaining after removal\n",
    "    # gensim mostly does the same as above, it is used here for simplicity\n",
    "    string = ' '.join(gensim.utils.simple_preprocess(string,\n",
    "                                                     min_len=min_len,\n",
    "                                                     max_len=max_len))\n",
    "    return string\n",
    "    \n",
    "def remove_html_tags(text):\n",
    "    \"\"\"Remove html tags from a string\"\"\"\n",
    "    import re\n",
    "    clean = re.compile('<.*?>')\n",
    "    return re.sub(clean, '', text)\n",
    "    \n",
    "def remove_special_chars(text,char_list):\n",
    "    for char in char_list:\n",
    "        text=text.replace(char,'')\n",
    "    return text.replace(u'\\xa0', u' ')\n",
    "\n",
    "def splitkeepsep(s, sep):\n",
    "    cleaned = []\n",
    "    s = re.split(\"(%s)\" % re.escape(sep), s)\n",
    "    for _ in s:\n",
    "        if _!='' and _!=sep:\n",
    "            cleaned.append(sep+_)\n",
    "    return cleaned\n",
    "\n",
    "def extract_url(text):\n",
    "    pattern = 'http([^\"]+)'\n",
    "    match = re.search(pattern, text)\n",
    "    if match:\n",
    "        url = match.group(0)\n",
    "        return url\n",
    "    else:\n",
    "        return \"\"\n",
    "\n",
    "def create_vector(text):\n",
    "    return model.encode(text, normalize_embeddings=True)"
   ]
  },
  {
   "cell_type": "markdown",
   "id": "97dc28c3-ba93-4460-b0fc-d5c2ceed664b",
   "metadata": {},
   "source": [
    "Функция для извлечения списка оглавления из страницы википедии"
   ]
  },
  {
   "cell_type": "code",
   "execution_count": 9,
   "id": "19c4049f-00ab-4c96-8130-00326cd0693e",
   "metadata": {},
   "outputs": [],
   "source": [
    "import requests\n",
    "from bs4 import BeautifulSoup\n",
    "\n",
    "# URL статьи Википедии\n",
    "url = 'https://ru.wikipedia.org/wiki?curid=9'\n",
    "\n",
    "def getHeadings(url):\n",
    "    # Получаем содержимое страницы\n",
    "    response = requests.get(url)\n",
    "    \n",
    "    # Парсим HTML-код с помощью BeautifulSoup\n",
    "    soup = BeautifulSoup(response.text, 'html.parser')\n",
    "    \n",
    "    # Находим элемент с оглавлением (обычно он находится внутри элемента с классом mw-parser-output)\n",
    "    toc = soup.find('div', id='toc')\n",
    "    if toc is None:\n",
    "        return None\n",
    "    \n",
    "    # Извлекаем все элементы списка (<li>) из оглавления\n",
    "    items = toc.find_all('li')\n",
    "    \n",
    "    # Формируем список заголовков\n",
    "    headings = []\n",
    "    for item in items:\n",
    "        link = item.find('a')  # находим ссылку внутри каждого пункта списка\n",
    "        if link is not None:\n",
    "            heading_text = link.text.strip()  # получаем текст ссылки\n",
    "            cleaned_heading = heading_text.split(maxsplit=1)[-1].strip()  # убираем номер и точку\n",
    "            if cleaned_heading + '.' not in headings:\n",
    "                headings.append(cleaned_heading + '.')  # добавляем очищенное название в список\n",
    "    \n",
    "    # Выводим результат\n",
    "    return headings"
   ]
  },
  {
   "cell_type": "markdown",
   "id": "9fce0180-5764-4a92-aa16-506efd7963ed",
   "metadata": {},
   "source": [
    "Основная функция для обработки скаченных текстов википедии"
   ]
  },
  {
   "cell_type": "code",
   "execution_count": 10,
   "id": "ac96ed9b-4956-4cda-9457-f88c5b298e38",
   "metadata": {},
   "outputs": [],
   "source": [
    "def process_wiki_files(wiki_file):\n",
    "    chars = ['\\n\\n']\n",
    "    global sw\n",
    "\n",
    "    with open(wiki_file, encoding='utf-8') as f:\n",
    "        content = f.read()\n",
    "\n",
    "    articles = splitkeepsep(content,'<doc id=')\n",
    "    df_texts = pd.DataFrame(columns=['article_uuid','url', 'title', 'article','proc_article','proc_len'])\n",
    "    emds = []\n",
    "\n",
    "    for article in articles:\n",
    "        if len(article) < 500:\n",
    "            continue\n",
    "\n",
    "        uuid_text = uuid4()\n",
    "        \n",
    "        articleParts = article.split('\\n')\n",
    "        url = extract_url(article)\n",
    "        headings = getHeadings(url)\n",
    "        if headings is None:\n",
    "            continue\n",
    "        title = articleParts[1]\n",
    "\n",
    "        article = remove_html_tags(article)\n",
    "        article = remove_special_chars(article, chars)\n",
    "        clearArticleParts = article.split('\\n')\n",
    "        \n",
    "        startIndex = 1\n",
    "        currHeading = ''\n",
    "        \n",
    "        for endIndex in range(startIndex, len(clearArticleParts)):\n",
    "            if len(clearArticleParts[endIndex]) < 100 and clearArticleParts[endIndex] in headings: \n",
    "                if endIndex - startIndex == 1:\n",
    "                    startIndex = endIndex\n",
    "                    currHeading = clearArticleParts[endIndex]\n",
    "                    continue\n",
    "            \n",
    "                onePart = title + '. ' + currHeading + ' ' + ' '.join(clearArticleParts[startIndex+1:endIndex])\n",
    "            \n",
    "                proc_onePart = clean_string(onePart, sw_ru)\n",
    "                proc_len = len(proc_onePart.split(' '))\n",
    "            \n",
    "                temp_df_texts = pd.DataFrame(\n",
    "                    {'article_uuid': [uuid_text],\n",
    "                     'url': url + \"#\" + currHeading[:-1].replace(' ', '_') if len(currHeading) > 0 else url,\n",
    "                     'title': title + '. ' + currHeading if len(currHeading) > 0 else title,\n",
    "                     'article': onePart,\n",
    "                     'proc_article':proc_onePart,\n",
    "                     'proc_len':proc_len\n",
    "                    })\n",
    "                df_texts = pd.concat([df_texts, temp_df_texts], ignore_index=True)\n",
    "            \n",
    "                emb = create_vector(proc_onePart)\n",
    "                emds.append(emb)\n",
    "            \n",
    "                startIndex = endIndex\n",
    "                currHeading = clearArticleParts[endIndex]\n",
    "    \n",
    "    return df_texts, np.array(emds)\n",
    "\n",
    "sw_en = set(stopwords.words('english'))\n",
    "sw_ru = set(stopwords.words('russian'))\n",
    "sw = list(sw_ru.union(sw_en))  "
   ]
  },
  {
   "cell_type": "markdown",
   "id": "d1506a72-eedb-4f7c-9d74-887646f8ee85",
   "metadata": {},
   "source": [
    "Получаем модель для эмбеддингов"
   ]
  },
  {
   "cell_type": "code",
   "execution_count": 11,
   "id": "12ace853-e656-4343-8bfe-69707ab56495",
   "metadata": {},
   "outputs": [],
   "source": [
    "model = SentenceTransformer(\"sentence-transformers/paraphrase-multilingual-mpnet-base-v2\")"
   ]
  },
  {
   "cell_type": "markdown",
   "id": "cd347328-5063-44c8-970a-c75d19a66bb1",
   "metadata": {},
   "source": [
    "### Сохранение векторов текстов в векторную БД с обратным индексом (используем Faiss)"
   ]
  },
  {
   "cell_type": "code",
   "execution_count": 12,
   "id": "bebc6be2-b2b9-4ad3-b32e-551689b6e5c6",
   "metadata": {},
   "outputs": [],
   "source": [
    "import os\n",
    "import faiss\n",
    "from os.path import exists\n",
    "\n",
    "def saveEmbdsToVectorDB(embds, path):\n",
    "    if not exists(path):\n",
    "        index = faiss.IndexFlatL2(embds.shape[1]) \n",
    "        index = faiss.IndexIDMap(index)\n",
    "        index.add_with_ids(embds, np.arange(0, embds.shape[0]))\n",
    "        faiss.write_index(index, path)\n",
    "    else:\n",
    "        index = faiss.read_index(path)\n",
    "        index.add_with_ids(embds, np.arange(index.ntotal, index.ntotal + embds.shape[0]))\n",
    "        faiss.write_index(index, path)"
   ]
  },
  {
   "cell_type": "markdown",
   "id": "596134c4-54c4-4c14-9445-df58c09a55d5",
   "metadata": {},
   "source": [
    "### Получаем векторную БД"
   ]
  },
  {
   "cell_type": "code",
   "execution_count": 13,
   "id": "a1ac9c10-6de4-496f-8d2b-10479786f308",
   "metadata": {},
   "outputs": [],
   "source": [
    "def getVectorDB(path):\n",
    "    return faiss.read_index(path)"
   ]
  },
  {
   "cell_type": "markdown",
   "id": "48da4161-2f97-473c-a9a8-176c34df8f5a",
   "metadata": {},
   "source": [
    "### Сохранение метаданных (название, url и т.д.) в SQLlite БД"
   ]
  },
  {
   "cell_type": "code",
   "execution_count": 14,
   "id": "735b12a2-81fe-4e99-b011-5573efa5a817",
   "metadata": {},
   "outputs": [],
   "source": [
    "def addMetadataToDB(pathDB, cursor, conn, metadataDf):\n",
    "    metadataDf.to_sql(name='documents', con=conn, if_exists='append', index=False)\n",
    "    conn.commit()"
   ]
  },
  {
   "cell_type": "markdown",
   "id": "4518d205-8eec-4941-a0d8-a2d2c4bee9f1",
   "metadata": {},
   "source": [
    "### Получаем текстовую БД"
   ]
  },
  {
   "cell_type": "code",
   "execution_count": 15,
   "id": "81146b0f-2012-49cf-a9e0-0206b536fb76",
   "metadata": {},
   "outputs": [],
   "source": [
    "def getRevertedIndexTextDB(pathDB):\n",
    "    return open_dir(pathDB)"
   ]
  },
  {
   "cell_type": "markdown",
   "id": "362e015e-e6be-4766-845b-4243a8d3ac88",
   "metadata": {},
   "source": [
    "### Поиск в текстовой БД по запросу"
   ]
  },
  {
   "cell_type": "markdown",
   "id": "ddecc0a7-7da9-472a-a3d7-a451440a05b7",
   "metadata": {},
   "source": [
    "Получаем тексты по индексам"
   ]
  },
  {
   "cell_type": "code",
   "execution_count": 22,
   "id": "981865a8-9233-41a0-ad1a-fbbb04e08ec6",
   "metadata": {},
   "outputs": [],
   "source": [
    "def get_rows_from_csv(filename, indices):\n",
    "    df = pd.read_csv(\n",
    "        filename,\n",
    "        header=None,\n",
    "        skiprows=lambda x: x not in indices\n",
    "    )\n",
    "    \n",
    "    return df"
   ]
  },
  {
   "cell_type": "code",
   "execution_count": 16,
   "id": "ec073c6e-fea4-4008-b0e4-cb87df9cea63",
   "metadata": {},
   "outputs": [],
   "source": [
    "def textSearch_with_bm25_ranking(query, pathDB):\n",
    "    index = getRevertedIndexTextDB(pathDB)\n",
    "    with index.searcher() as searcher:\n",
    "        query_parser = QueryParser(\"content\", index.schema)\n",
    "        parsed_query = query_parser.parse(query)\n",
    "        print(\"Получился запрос вида: \", parsed_query)\n",
    "        results = searcher.search(parsed_query)\n",
    "        return np.array([(result['id'], result.score) for result in results])"
   ]
  },
  {
   "cell_type": "markdown",
   "id": "f0ccae40-8844-48e3-ab07-12e62f0997db",
   "metadata": {},
   "source": [
    "## Заполнение баз данных. (Объединяем всё вместе, парсим документы и сохраняем их в базы данных)"
   ]
  },
  {
   "cell_type": "code",
   "execution_count": 17,
   "id": "e41fda79-a506-4a48-b529-ea4088cd8546",
   "metadata": {},
   "outputs": [],
   "source": [
    "wikiFilesRootPath = \"data/wiki\"\n",
    "vectorDBPath = 'data/data_bases/vectorDB.index'\n",
    "metadataDBPath = \"data/data_bases/documentsMetadataDB.db\"\n",
    "textsCsvPath = \"data/data_bases/texts.csv\""
   ]
  },
  {
   "cell_type": "code",
   "execution_count": 18,
   "id": "977c5b9f-5440-45b1-9336-838e4069982b",
   "metadata": {},
   "outputs": [],
   "source": [
    "import sqlite3\n",
    "\n",
    "def process_file(file_path):\n",
    "    print(\"Обрабатываю: \", file_path)\n",
    "    \n",
    "    # сохраняем в векторную БД\n",
    "    df_texts, embds = process_wiki_files(file_path)\n",
    "    saveEmbdsToVectorDB(embds, vectorDBPath)\n",
    "    currentDbSize = getVectorDB(vectorDBPath).ntotal\n",
    "    \n",
    "    # сохраняем тексты документов в текстовую БД\n",
    "    df_texts.to_csv(textsCsvPath, mode='a', header=False)\n",
    "\n",
    "    # сохраняем метаданные документов в SQLlite БД\n",
    "    conn = sqlite3.connect(metadataDBPath)\n",
    "    cursor = conn.cursor()\n",
    "    new_index = range(currentDbSize, currentDbSize + len(df_texts))\n",
    "    df_texts.index = new_index\n",
    "    addMetadataToDB(metadataDBPath, cursor, conn, df_texts[['url', 'title', 'proc_article']])\n",
    "    conn.close()"
   ]
  },
  {
   "cell_type": "markdown",
   "id": "f1d9a4d5-6ec5-40c4-bc53-63fc85c6835e",
   "metadata": {},
   "source": [
    "Параллельно обрабатыватексты тексты и сохраяем результаты в базы данных"
   ]
  },
  {
   "cell_type": "code",
   "execution_count": 19,
   "id": "f51e8520-876c-4918-9e79-be0da9ae803b",
   "metadata": {
    "scrolled": true
   },
   "outputs": [],
   "source": [
    "# from concurrent.futures import ThreadPoolExecutor\n",
    "\n",
    "# files_to_process = []\n",
    "# for dirpath, dirnames, filenames in os.walk(wikiFilesRootPath):\n",
    "#     for filename in filenames:\n",
    "#         file_path = os.path.join(dirpath, filename)\n",
    "#         files_to_process.append(file_path)\n",
    "\n",
    "#  # Используем ThreadPoolExecutor для параллельной обработки файлов\n",
    "# with ThreadPoolExecutor(max_workers=8) as executor:  # Количество рабочих потоков можно настроить\n",
    "#     futures = {executor.submit(process_file, file_path): file_path for file_path in files_to_process}\n",
    "    \n",
    "#     # Ждем завершения всех задач\n",
    "#     for future in concurrent.futures.as_completed(futures):\n",
    "#         file_path = futures[future]\n",
    "#         try:\n",
    "#             data = future.result()\n",
    "#         except Exception as exc:\n",
    "#             print(f'Ошибка при обработке файла {file_path}: {exc}')"
   ]
  },
  {
   "cell_type": "markdown",
   "id": "d05f2b22-3e2a-4c27-b47f-f64bc6498e87",
   "metadata": {},
   "source": [
    "Проверка на адекватность векторной БД"
   ]
  },
  {
   "cell_type": "code",
   "execution_count": 23,
   "id": "1e782ad3-1cff-4c45-953d-2a9882b2f59b",
   "metadata": {
    "scrolled": true
   },
   "outputs": [
    {
     "name": "stdout",
     "output_type": "stream",
     "text": [
      "Индексы похожих документов: [ 0  1  2  3  4  5  6  7  8  9 10 11 12 13 14 15 16 17 18 19 20 21 22 23\n",
      " 24 25 26 27 28 29]\n"
     ]
    }
   ],
   "source": [
    "index = getVectorDB(vectorDBPath)\n",
    "\n",
    "texts = get_rows_from_csv(textsCsvPath, range(30))[5][:30]\n",
    "first_30_vectors = model.encode(texts, normalize_embeddings=True)\n",
    "    \n",
    "# Находим соседей для первых 30 векторов в БД\n",
    "D, I = index.search(np.array(first_30_vectors), 12)\n",
    "# Должны быть те же индексы от 0 до 29. То есть те же векторы, для которых искали соседей. (там где не совпадает, это потомучто вместо текста Nan, снизу видно)\n",
    "print(\"Индексы похожих документов:\", I[0:30, 0])\n"
   ]
  },
  {
   "cell_type": "code",
   "execution_count": 24,
   "id": "4cc8b42d-ed4f-4b1e-9557-4fce7ee21050",
   "metadata": {
    "scrolled": true
   },
   "outputs": [
    {
     "data": {
      "text/plain": [
       "0     меир голда выросла сша иммигрировала подмандат...\n",
       "1     меир голда ранние годы голда мабович родилась ...\n",
       "2     меир голда жизнь денвере начале xx века милуок...\n",
       "3     меир голда начало сионистской деятельности год...\n",
       "4     меир голда прибытие палестину жизнь кибуце мае...\n",
       "5     меир голда тель авив иерусалим во время прожив...\n",
       "6     меир голда развитие политической карьеры первы...\n",
       "7     меир голда руководстве гистадрута по возвращен...\n",
       "8     меир голда деятельность годы холокоста меерсон...\n",
       "9     меир голда первые послевоенные годы середине г...\n",
       "10    меир голда во главе политического отдела еврей...\n",
       "11    меир голда посол москве ещё этапе обсуждения п...\n",
       "12    меир голда министр труда по возвращении израил...\n",
       "13    меир голда министр иностранных дел после выбор...\n",
       "14    меир голда партийная деятельность концу годов ...\n",
       "15    меир голда премьер министр конце года премьер ...\n",
       "16    меир голда внутренняя политика после шестиднев...\n",
       "17    меир голда внешняя политика арабо израильский ...\n",
       "18    меир голда война судного дня мае года передвиж...\n",
       "19    меир голда завершение политической карьеры пос...\n",
       "20    меир голда внешний облик стиль поведения согла...\n",
       "21    меир голда взгляды беркетт пишет голды меир ва...\n",
       "22    меир голда семья супруг моррис меерсон брак за...\n",
       "23    меир голда прижизненное признание при жизни го...\n",
       "24    меир голда увековечение памяти увековечение об...\n",
       "25    пётр представитель династии романовых был пров...\n",
       "26    пётр ранние годы пётр родился ночь года году п...\n",
       "27    пётр стрелецкий бунт года приход власти софьи ...\n",
       "28    пётр преображенский семёновский потешные полки...\n",
       "29    пётр первый брак петра немецкая слобода ближай...\n",
       "Name: 5, dtype: object"
      ]
     },
     "execution_count": 24,
     "metadata": {},
     "output_type": "execute_result"
    }
   ],
   "source": [
    "texts"
   ]
  },
  {
   "cell_type": "markdown",
   "id": "d934d2c7-335f-499e-b803-3dd045e067ae",
   "metadata": {},
   "source": [
    "## Процесс поиска"
   ]
  },
  {
   "cell_type": "markdown",
   "id": "91071504",
   "metadata": {},
   "source": [
    "Здесь мы находим kDocuments релевантных документов с помощью векторного поиска и далее ранжируем"
   ]
  },
  {
   "cell_type": "code",
   "execution_count": 25,
   "id": "0838a324",
   "metadata": {},
   "outputs": [],
   "source": [
    "# !pip install pymorphy2 rank_bm25"
   ]
  },
  {
   "cell_type": "code",
   "execution_count": 26,
   "id": "FgpEX7VySlNW",
   "metadata": {
    "colab": {
     "base_uri": "https://localhost:8080/"
    },
    "id": "FgpEX7VySlNW",
    "outputId": "c52e6d1a-7199-4523-bf6d-597bb583904d"
   },
   "outputs": [
    {
     "name": "stderr",
     "output_type": "stream",
     "text": [
      "[nltk_data] Downloading package punkt to /home/hlopin/nltk_data...\n",
      "[nltk_data]   Package punkt is already up-to-date!\n"
     ]
    },
    {
     "data": {
      "text/plain": [
       "True"
      ]
     },
     "execution_count": 26,
     "metadata": {},
     "output_type": "execute_result"
    }
   ],
   "source": [
    "import nltk\n",
    "from nltk.stem.snowball import SnowballStemmer\n",
    "\n",
    "# Загрузка необходимых ресурсов\n",
    "nltk.download(\"punkt\")"
   ]
  },
  {
   "cell_type": "code",
   "execution_count": 24,
   "id": "BFgUpHVqfFhv",
   "metadata": {
    "id": "BFgUpHVqfFhv"
   },
   "outputs": [],
   "source": [
    "from abc import ABC, abstractmethod\n",
    "from rank_bm25 import BM25Okapi\n",
    "from sentence_transformers import CrossEncoder\n",
    "\n",
    "\n",
    "class DocsRanker(ABC):\n",
    "    @abstractmethod\n",
    "    def rankDocuments(self, query, docs):\n",
    "        pass\n",
    "\n",
    "\n",
    "class Bm25Ranker(DocsRanker):\n",
    "    # preprocess_func: переобразует запрос и документ в список слов\n",
    "    def __init__(self, preprocess_func = None) -> None:\n",
    "        self.preprocess_func = preprocess_func\n",
    "\n",
    "    def rankDocuments(self, query, docs):\n",
    "        if self.preprocess_func is None:\n",
    "            self.preprocess_func = lambda doc: doc.split()\n",
    "        tokenized_corpus = [self.preprocess_func(doc) for doc in docs]\n",
    "        bm25 = BM25Okapi(tokenized_corpus)\n",
    "        tokenized_query = self.preprocess_func(query)\n",
    "        return bm25.get_scores(tokenized_query)\n",
    "\n",
    "def lemmatize(doc):\n",
    "    morph = pymorphy2.MorphAnalyzer()\n",
    "    return [morph.parse(word)[0].normal_form for word in doc.split()]\n",
    "\n",
    "def stem(doc):\n",
    "   stemmer = SnowballStemmer(\"russian\")\n",
    "   words = nltk.word_tokenize(doc, language=\"russian\")\n",
    "   return [stemmer.stem(word) for word in words]\n",
    "\n",
    "\n",
    "class CrossEncoderRanker(DocsRanker):\n",
    "    def __init__(self) -> None:\n",
    "        # self.reranker_model = CrossEncoder('DiTy/cross-encoder-russian-msmarco', max_length=512, device='cuda')\n",
    "        self.reranker_model = CrossEncoder('DiTy/cross-encoder-russian-msmarco', max_length=512, device='cpu')\n",
    "\n",
    "    def rankDocuments(self, query, docs):\n",
    "        return np.array([self.reranker_model.predict([[query, doc]])[0] for doc in docs])"
   ]
  },
  {
   "cell_type": "code",
   "execution_count": 25,
   "id": "ED1cUpWxM1Te",
   "metadata": {
    "id": "ED1cUpWxM1Te"
   },
   "outputs": [],
   "source": [
    "from rank_bm25 import BM25Okapi\n",
    "import pymorphy2\n",
    "\n",
    "def findVectorsIndexes(query, encoder, kDocuments):\n",
    "  index = getVectorDB(vectorDBPath)\n",
    "  queryEmbd = encoder.encode(query, normalize_embeddings=True)\n",
    "  D, I = index.search(np.array([queryEmbd]), kDocuments)\n",
    "  return I[0]\n",
    "\n",
    "def retrieveDocsAndUrls(indexes):\n",
    "  urlsAndDocs = get_rows_from_csv(textsCsvPath, indexes)[[2, 5]]\n",
    "  urlsAndDocs = urlsAndDocs.fillna('stub')\n",
    "  return urlsAndDocs[2], urlsAndDocs[5]\n",
    "\n",
    "def rankDocuments(query, indexes, ranker):\n",
    "    urls, docs = retrieveDocsAndUrls(indexes)\n",
    "    doc_scores = ranker.rankDocuments(query, docs)\n",
    "    sorted_idx = np.argsort(doc_scores)\n",
    "    return list(docs.iloc[sorted_idx[::-1]]), list(urls.iloc[sorted_idx[::-1]]), doc_scores[sorted_idx[::-1]]\n",
    "\n",
    "def getSortedDocumentsWithUrls(query, encoder, kDocuments, ranker):\n",
    "  indexes = findVectorsIndexes(query, encoder, kDocuments)\n",
    "  return rankDocuments(query, indexes, ranker)"
   ]
  },
  {
   "cell_type": "code",
   "execution_count": 26,
   "id": "hMbNdhBeRfF7",
   "metadata": {
    "colab": {
     "base_uri": "https://localhost:8080/"
    },
    "id": "hMbNdhBeRfF7",
    "outputId": "9c55162f-37e9-433c-c8b5-93b41ef7f4e5",
    "scrolled": true
   },
   "outputs": [
    {
     "name": "stdout",
     "output_type": "stream",
     "text": [
      "                                        relevant docs  bm25 scores\n",
      "0   сан мари официально респу блика сан мари также...     3.762134\n",
      "1   соединённые штаты америки государство располож...     3.184887\n",
      "2   герма ния полное официальное название федерати...     2.557143\n",
      "3   брази лия официально федерати вная респу блика...     2.413398\n",
      "4   евра зия крупнейший шести материков земле площ...     2.406947\n",
      "5   соединённые шта аме рики сокращённо сша соедин...     2.208574\n",
      "6   госуда рство политическая форма устройства общ...     1.865657\n",
      "7   нды ндские южноамерика нские кордилье ры самая...     1.586740\n",
      "8   чад официальное название респу блика чад госуд...     1.502173\n",
      "9   индоне зия официальное название респу блика ин...     1.494897\n",
      "10  респу блика коре nmin uk коре йская респу блик...     1.487920\n",
      "11  лихтенште йн официально кня жество лихтенште й...     1.484579\n",
      "12  бе льгия полная официальная форма короле вство...     1.479673\n",
      "13  ниге рия полное название федерати вная респу б...     1.465577\n",
      "14  золота орда улус джучи многонациональное госуд...     1.449937\n",
      "15  украи государство восточной центральной европе...     1.446890\n",
      "16  мона ко мфа официальное название кня жество мо...     1.443114\n",
      "17                          штат государство означать     1.411959\n",
      "18  ка рликовое госуда рство государство значитель...     1.363635\n",
      "19  росси росси йская федера ция сокр рф государст...     1.358709\n",
      "20  мфека перемалывание дифака сесото difaqane тер...     1.208394\n",
      "21  исла ндия страна льдов ледяная страна островно...     1.041142\n",
      "22  ботсва полная официальная форма респу блика бо...     1.024264\n",
      "23  нами бия официальное название респу блика нами...     1.013237\n",
      "24  ло ндон столица крупнейший город англии велико...     0.996003\n",
      "25  зия крупнейшая часть света территории численно...     0.974582\n",
      "26  кана государство северной америке крупнейшее п...     0.893684\n",
      "27  яку тия официально республика саха республика ...     0.615291\n",
      "28  шанха йская организа ция сотру дничества шос м...     0.603400\n",
      "29  солт лейк си ти столица самый населённый самый...     0.427868\n",
      "30                                               stub     0.000000\n",
      "31  арно арутю нович бабаджаня армянский советский...     0.000000\n",
      "32  кордилье ры величайшая протяжённости горная си...     0.000000\n",
      "33                                     штати стоя щий     0.000000\n",
      "34  та штат сша группе горных штатов расположен ра...     0.000000\n",
      "35                           родились история регионе     0.000000\n",
      "36  нью йо рк аббр ny штат северо востоке сша атла...     0.000000\n",
      "37  карбидин carbidinum нейролептик карболинового ...     0.000000\n",
      "38  род йленд официальное название штат род айленд...     0.000000\n",
      "39                        население земли млн человек     0.000000\n",
      "40  калифо рния штат сша расположенный западном по...     0.000000\n",
      "41                                              света     0.000000\n",
      "42  нью йо рк сокр nyc крупнейший город сша входящ...     0.000000\n",
      "43  бе рингов проли межконтинентальный межокеански...     0.000000\n",
      "44  карты года плотность населения высокой южной е...     0.000000\n",
      "45  перечень государственных национальных гимнов н...     0.000000\n",
      "46  кора лловое мо ре межостровное море тихого оке...     0.000000\n",
      "47  се верная аме рика шести материков планеты зем...     0.000000\n",
      "48  столи ца главный город независимого государств...     0.000000\n",
      "49  ти хий океа устар великий океан самый большой ...     0.000000\n"
     ]
    }
   ],
   "source": [
    "query = \"Самое крупное государство\"\n",
    "kDocuments = 50\n",
    "docs, urls, bm25_scores = getSortedDocumentsWithUrls(query, model, kDocuments, Bm25Ranker())\n",
    "df = pd.DataFrame({'relevant docs': docs, 'bm25 scores': bm25_scores})\n",
    "print(df)"
   ]
  },
  {
   "cell_type": "code",
   "execution_count": 27,
   "id": "Q3natg6uNQ74",
   "metadata": {
    "colab": {
     "base_uri": "https://localhost:8080/"
    },
    "id": "Q3natg6uNQ74",
    "outputId": "13cef49e-0ea9-4c06-c5dd-62553066c652",
    "scrolled": true
   },
   "outputs": [
    {
     "name": "stdout",
     "output_type": "stream",
     "text": [
      "                                        relevant docs  bm25 scores\n",
      "0   евра зия крупнейший шести материков земле площ...     4.947120\n",
      "1   чад официальное название респу блика чад госуд...     4.867134\n",
      "2   бе льгия полная официальная форма короле вство...     4.812596\n",
      "3   герма ния полное официальное название федерати...     4.803103\n",
      "4   соединённые шта аме рики сокращённо сша соедин...     4.792313\n",
      "5   зия крупнейшая часть света территории численно...     4.775716\n",
      "6   брази лия официально федерати вная респу блика...     4.709885\n",
      "7   росси росси йская федера ция сокр рф государст...     4.694046\n",
      "8   исла ндия страна льдов ледяная страна островно...     4.680309\n",
      "9   ботсва полная официальная форма респу блика бо...     4.644851\n",
      "10  кана государство северной америке крупнейшее п...     4.628618\n",
      "11  индоне зия официальное название респу блика ин...     4.627982\n",
      "12  калифо рния штат сша расположенный западном по...     4.604532\n",
      "13  золота орда улус джучи многонациональное госуд...     4.436382\n",
      "14  украи государство восточной центральной европе...     4.360776\n",
      "15  ти хий океа устар великий океан самый большой ...     4.317326\n",
      "16  лихтенште йн официально кня жество лихтенште й...     4.317050\n",
      "17  соединённые штаты америки государство располож...     4.286893\n",
      "18  сан мари официально респу блика сан мари также...     4.279105\n",
      "19  яку тия официально республика саха республика ...     4.274303\n",
      "20  ниге рия полное название федерати вная респу б...     4.270462\n",
      "21  респу блика коре nmin uk коре йская респу блик...     4.221267\n",
      "22  нами бия официальное название респу блика нами...     4.132192\n",
      "23  ло ндон столица крупнейший город англии велико...     4.116612\n",
      "24  бе рингов проли межконтинентальный межокеански...     4.052328\n",
      "25  нью йо рк сокр nyc крупнейший город сша входящ...     3.986103\n",
      "26  шанха йская организа ция сотру дничества шос м...     3.904359\n",
      "27  солт лейк си ти столица самый населённый самый...     3.856445\n",
      "28  нды ндские южноамерика нские кордилье ры самая...     3.852594\n",
      "29  ка рликовое госуда рство государство значитель...     3.446732\n",
      "30  госуда рство политическая форма устройства общ...     3.313959\n",
      "31  столи ца главный город независимого государств...     3.303655\n",
      "32  та штат сша группе горных штатов расположен ра...     3.279105\n",
      "33  мона ко мфа официальное название кня жество мо...     3.247960\n",
      "34  се верная аме рика шести материков планеты зем...     3.054368\n",
      "35  кора лловое мо ре межостровное море тихого оке...     3.053907\n",
      "36  род йленд официальное название штат род айленд...     3.048289\n",
      "37  нью йо рк аббр ny штат северо востоке сша атла...     1.721156\n",
      "38  мфека перемалывание дифака сесото difaqane тер...     1.418662\n",
      "39                          штат государство означать     1.344292\n",
      "40  перечень государственных национальных гимнов н...     1.339687\n",
      "41  карты года плотность населения высокой южной е...     1.336165\n",
      "42  кордилье ры величайшая протяжённости горная си...     1.255012\n",
      "43                                               stub     0.000000\n",
      "44                           родились история регионе     0.000000\n",
      "45                                     штати стоя щий     0.000000\n",
      "46  карбидин carbidinum нейролептик карболинового ...     0.000000\n",
      "47  арно арутю нович бабаджаня армянский советский...     0.000000\n",
      "48                        население земли млн человек     0.000000\n",
      "49                                              света     0.000000\n"
     ]
    }
   ],
   "source": [
    "query = \"Самое крупное государство\"\n",
    "kDocuments = 50\n",
    "docs, urls, bm25_scores = getSortedDocumentsWithUrls(query, model, kDocuments, Bm25Ranker(lemmatize))\n",
    "df = pd.DataFrame({'relevant docs': docs, 'bm25 scores': bm25_scores})\n",
    "print(df)"
   ]
  },
  {
   "cell_type": "code",
   "execution_count": 28,
   "id": "WWaBGKlwWhXe",
   "metadata": {
    "colab": {
     "base_uri": "https://localhost:8080/"
    },
    "id": "WWaBGKlwWhXe",
    "outputId": "3fd4f78a-74ea-4a29-a21c-855ab8803081",
    "scrolled": true
   },
   "outputs": [
    {
     "name": "stdout",
     "output_type": "stream",
     "text": [
      "                                        relevant docs  bm25 scores\n",
      "0   чад официальное название респу блика чад госуд...     4.972396\n",
      "1   евра зия крупнейший шести материков земле площ...     4.928234\n",
      "2   герма ния полное официальное название федерати...     4.887189\n",
      "3   росси росси йская федера ция сокр рф государст...     4.821010\n",
      "4   бе льгия полная официальная форма короле вство...     4.808878\n",
      "5   соединённые шта аме рики сокращённо сша соедин...     4.792408\n",
      "6   зия крупнейшая часть света территории численно...     4.757485\n",
      "7   индоне зия официальное название респу блика ин...     4.737161\n",
      "8   брази лия официально федерати вная респу блика...     4.735336\n",
      "9   золота орда улус джучи многонациональное госуд...     4.685704\n",
      "10  исла ндия страна льдов ледяная страна островно...     4.685329\n",
      "11  ботсва полная официальная форма респу блика бо...     4.675351\n",
      "12  кана государство северной америке крупнейшее п...     4.665088\n",
      "13  лихтенште йн официально кня жество лихтенште й...     4.603394\n",
      "14  калифо рния штат сша расположенный западном по...     4.595277\n",
      "15  госуда рство политическая форма устройства общ...     4.532000\n",
      "16  украи государство восточной центральной европе...     4.521739\n",
      "17  ти хий океа устар великий океан самый большой ...     4.456708\n",
      "18  нами бия официальное название респу блика нами...     4.418655\n",
      "19  сан мари официально респу блика сан мари также...     4.393540\n",
      "20  респу блика коре nmin uk коре йская респу блик...     4.387522\n",
      "21  яку тия официально республика саха республика ...     4.362932\n",
      "22  соединённые штаты америки государство располож...     4.276236\n",
      "23  ниге рия полное название федерати вная респу б...     4.254159\n",
      "24  шанха йская организа ция сотру дничества шос м...     4.106553\n",
      "25  ло ндон столица крупнейший город англии велико...     4.100897\n",
      "26  нды ндские южноамерика нские кордилье ры самая...     4.080588\n",
      "27  бе рингов проли межконтинентальный межокеански...     4.036858\n",
      "28  нью йо рк сокр nyc крупнейший город сша входящ...     3.992965\n",
      "29  солт лейк си ти столица самый населённый самый...     3.869695\n",
      "30  ка рликовое госуда рство государство значитель...     3.433574\n",
      "31  та штат сша группе горных штатов расположен ра...     3.303765\n",
      "32  столи ца главный город независимого государств...     3.291043\n",
      "33  мона ко мфа официальное название кня жество мо...     3.283016\n",
      "34  кора лловое мо ре межостровное море тихого оке...     3.136227\n",
      "35  се верная аме рика шести материков планеты зем...     3.072696\n",
      "36  род йленд официальное название штат род айленд...     3.036652\n",
      "37  мфека перемалывание дифака сесото difaqane тер...     2.945554\n",
      "38  нью йо рк аббр ny штат северо востоке сша атла...     2.725662\n",
      "39                          штат государство означать     1.339160\n",
      "40  перечень государственных национальных гимнов н...     1.334572\n",
      "41  карты года плотность населения высокой южной е...     1.331064\n",
      "42  кордилье ры величайшая протяжённости горная си...     1.250221\n",
      "43                                               stub     0.000000\n",
      "44                           родились история регионе     0.000000\n",
      "45                                     штати стоя щий     0.000000\n",
      "46  карбидин carbidinum нейролептик карболинового ...     0.000000\n",
      "47  арно арутю нович бабаджаня армянский советский...     0.000000\n",
      "48                        население земли млн человек     0.000000\n",
      "49                                              света     0.000000\n"
     ]
    }
   ],
   "source": [
    "query = \"Самое крупное государство\"\n",
    "kDocuments = 50\n",
    "docs, urls, bm25_scores = getSortedDocumentsWithUrls(query, model, kDocuments, Bm25Ranker(stem))\n",
    "df = pd.DataFrame({'relevant docs': docs, 'bm25 scores': bm25_scores})\n",
    "print(df)"
   ]
  },
  {
   "cell_type": "code",
   "execution_count": 30,
   "id": "qBMTHO-cbp8s",
   "metadata": {
    "colab": {
     "base_uri": "https://localhost:8080/"
    },
    "id": "qBMTHO-cbp8s",
    "outputId": "ca0cef38-4f81-49f5-9e89-20218fb2a7c1",
    "scrolled": true
   },
   "outputs": [
    {
     "name": "stdout",
     "output_type": "stream",
     "text": [
      "                                        relevant docs    scores\n",
      "0   украи государство восточной центральной европе...  0.046154\n",
      "1   кана государство северной америке крупнейшее п...  0.032627\n",
      "2   золота орда улус джучи многонациональное госуд...  0.030256\n",
      "3   солт лейк си ти столица самый населённый самый...  0.030136\n",
      "4   зия крупнейшая часть света территории численно...  0.024219\n",
      "5   росси росси йская федера ция сокр рф государст...  0.018571\n",
      "6   та штат сша группе горных штатов расположен ра...  0.012329\n",
      "7   ло ндон столица крупнейший город англии велико...  0.005403\n",
      "8   калифо рния штат сша расположенный западном по...  0.004396\n",
      "9   сан мари официально респу блика сан мари также...  0.003206\n",
      "10  госуда рство политическая форма устройства общ...  0.002975\n",
      "11  евра зия крупнейший шести материков земле площ...  0.002919\n",
      "12  нами бия официальное название респу блика нами...  0.002612\n",
      "13  нды ндские южноамерика нские кордилье ры самая...  0.001995\n",
      "14  нью йо рк сокр nyc крупнейший город сша входящ...  0.001611\n",
      "15  нью йо рк аббр ny штат северо востоке сша атла...  0.001508\n",
      "16  ти хий океа устар великий океан самый большой ...  0.001450\n",
      "17  мона ко мфа официальное название кня жество мо...  0.001372\n",
      "18  индоне зия официальное название респу блика ин...  0.001349\n",
      "19  столи ца главный город независимого государств...  0.001250\n",
      "20  кора лловое мо ре межостровное море тихого оке...  0.001197\n",
      "21  соединённые штаты америки государство располож...  0.001191\n",
      "22  род йленд официальное название штат род айленд...  0.001177\n",
      "23                                     штати стоя щий  0.001174\n",
      "24  карты года плотность населения высокой южной е...  0.001160\n",
      "25  исла ндия страна льдов ледяная страна островно...  0.001123\n",
      "26  респу блика коре nmin uk коре йская респу блик...  0.001123\n",
      "27  соединённые шта аме рики сокращённо сша соедин...  0.001112\n",
      "28  бе рингов проли межконтинентальный межокеански...  0.001106\n",
      "29  кордилье ры величайшая протяжённости горная си...  0.001105\n",
      "30                           родились история регионе  0.001101\n",
      "31                                               stub  0.001084\n",
      "32  яку тия официально республика саха республика ...  0.001082\n",
      "33  ка рликовое госуда рство государство значитель...  0.001078\n",
      "34                          штат государство означать  0.001075\n",
      "35  карбидин carbidinum нейролептик карболинового ...  0.001073\n",
      "36                        население земли млн человек  0.001072\n",
      "37  ниге рия полное название федерати вная респу б...  0.001069\n",
      "38  ботсва полная официальная форма респу блика бо...  0.001067\n",
      "39  брази лия официально федерати вная респу блика...  0.001058\n",
      "40                                              света  0.001055\n",
      "41  чад официальное название респу блика чад госуд...  0.001051\n",
      "42  герма ния полное официальное название федерати...  0.001046\n",
      "43  бе льгия полная официальная форма короле вство...  0.001046\n",
      "44  се верная аме рика шести материков планеты зем...  0.001045\n",
      "45  арно арутю нович бабаджаня армянский советский...  0.001044\n",
      "46  лихтенште йн официально кня жество лихтенште й...  0.001043\n",
      "47  шанха йская организа ция сотру дничества шос м...  0.001043\n",
      "48  перечень государственных национальных гимнов н...  0.001042\n",
      "49  мфека перемалывание дифака сесото difaqane тер...  0.001041\n"
     ]
    }
   ],
   "source": [
    "query = \"Самое крупное государство\"\n",
    "kDocuments = 50\n",
    "docs, urls, scores = getSortedDocumentsWithUrls(query, model, kDocuments, CrossEncoderRanker())\n",
    "df = pd.DataFrame({'relevant docs': docs, 'scores': scores})\n",
    "print(df)"
   ]
  },
  {
   "cell_type": "markdown",
   "id": "221a76c6-9b86-4285-b035-4e87c5d1190d",
   "metadata": {},
   "source": [
    "## Примеры использования различных БД для поиска"
   ]
  },
  {
   "cell_type": "code",
   "execution_count": 32,
   "id": "5f4ef9ed-2975-4f8a-9fda-4d8dfd6b3239",
   "metadata": {
    "scrolled": true
   },
   "outputs": [],
   "source": [
    "df_texts, embds = process_wiki_files(\"./data/wiki/AA/wiki_00\")"
   ]
  },
  {
   "cell_type": "code",
   "execution_count": 33,
   "id": "688430e7-736f-44a0-a93e-00bb6eda4679",
   "metadata": {
    "scrolled": true
   },
   "outputs": [
    {
     "data": {
      "text/html": [
       "<div>\n",
       "<style scoped>\n",
       "    .dataframe tbody tr th:only-of-type {\n",
       "        vertical-align: middle;\n",
       "    }\n",
       "\n",
       "    .dataframe tbody tr th {\n",
       "        vertical-align: top;\n",
       "    }\n",
       "\n",
       "    .dataframe thead th {\n",
       "        text-align: right;\n",
       "    }\n",
       "</style>\n",
       "<table border=\"1\" class=\"dataframe\">\n",
       "  <thead>\n",
       "    <tr style=\"text-align: right;\">\n",
       "      <th></th>\n",
       "      <th>article_uuid</th>\n",
       "      <th>url</th>\n",
       "      <th>title</th>\n",
       "      <th>article</th>\n",
       "      <th>proc_article</th>\n",
       "      <th>proc_len</th>\n",
       "    </tr>\n",
       "  </thead>\n",
       "  <tbody>\n",
       "    <tr>\n",
       "      <th>0</th>\n",
       "      <td>0db8c75d-bc63-4894-84cf-b81b61244528</td>\n",
       "      <td>https://ru.wikipedia.org/wiki?curid=4</td>\n",
       "      <td>Базовая статья</td>\n",
       "      <td></td>\n",
       "      <td></td>\n",
       "      <td>1</td>\n",
       "    </tr>\n",
       "    <tr>\n",
       "      <th>1</th>\n",
       "      <td>229fd47a-1930-4abd-921f-d5488fa5ae6c</td>\n",
       "      <td>https://ru.wikipedia.org/wiki?curid=7</td>\n",
       "      <td>Литва</td>\n",
       "      <td>Литва́ ( ), официальное название — Лито́вская ...</td>\n",
       "      <td>литва официальное название лито вская респу бл...</td>\n",
       "      <td>4324</td>\n",
       "    </tr>\n",
       "    <tr>\n",
       "      <th>2</th>\n",
       "      <td>8d5864ac-ca16-482d-bb65-2853a73c2f42</td>\n",
       "      <td>https://ru.wikipedia.org/wiki?curid=9</td>\n",
       "      <td>Россия</td>\n",
       "      <td>Росси́я, или Росси́йская Федера́ция (сокр. РФ)...</td>\n",
       "      <td>росси росси йская федера ция сокр рф государст...</td>\n",
       "      <td>14331</td>\n",
       "    </tr>\n",
       "    <tr>\n",
       "      <th>3</th>\n",
       "      <td>d3007aab-0973-4283-9c43-00ca24b463c4</td>\n",
       "      <td>https://ru.wikipedia.org/wiki?curid=10</td>\n",
       "      <td>Слоновые</td>\n",
       "      <td>Слоно́вые, или слоны́ , — семейство класса мле...</td>\n",
       "      <td>слоно вые слоны семейство класса млекопитающих...</td>\n",
       "      <td>1580</td>\n",
       "    </tr>\n",
       "    <tr>\n",
       "      <th>4</th>\n",
       "      <td>3e760eeb-23e5-4aab-a7bb-0f621f887160</td>\n",
       "      <td>https://ru.wikipedia.org/wiki?curid=11</td>\n",
       "      <td>Мамонты</td>\n",
       "      <td>Ма́монты () — вымерший род млекопитающих отряд...</td>\n",
       "      <td>ма монты вымерший род млекопитающих отряда хоб...</td>\n",
       "      <td>4193</td>\n",
       "    </tr>\n",
       "    <tr>\n",
       "      <th>5</th>\n",
       "      <td>8fbe6299-2675-41a5-a067-c9051c0f5ba6</td>\n",
       "      <td>https://ru.wikipedia.org/wiki?curid=15</td>\n",
       "      <td>Красная книга</td>\n",
       "      <td>Кра́сная кни́га — аннотированный список редких...</td>\n",
       "      <td>кра сная кни га аннотированный список редких н...</td>\n",
       "      <td>806</td>\n",
       "    </tr>\n",
       "    <tr>\n",
       "      <th>6</th>\n",
       "      <td>1c1db8e4-8762-4dd8-9f3b-576a1f07c450</td>\n",
       "      <td>https://ru.wikipedia.org/wiki?curid=16</td>\n",
       "      <td>Соционика</td>\n",
       "      <td>Социо́ника — псевдонаучная концепция типов лич...</td>\n",
       "      <td>социо ника псевдонаучная концепция типов лично...</td>\n",
       "      <td>2121</td>\n",
       "    </tr>\n",
       "    <tr>\n",
       "      <th>7</th>\n",
       "      <td>3ca77c2e-ff1d-45b7-b5df-981b83a059f6</td>\n",
       "      <td>https://ru.wikipedia.org/wiki?curid=18</td>\n",
       "      <td>Школа</td>\n",
       "      <td>Шко́ла (через , из , от  — «досуг») — учебное ...</td>\n",
       "      <td>шко ла досуг учебное заведение получения общег...</td>\n",
       "      <td>1782</td>\n",
       "    </tr>\n",
       "    <tr>\n",
       "      <th>8</th>\n",
       "      <td>af70ba8b-82b7-4f01-9e5a-c95b9034bddd</td>\n",
       "      <td>https://ru.wikipedia.org/wiki?curid=20</td>\n",
       "      <td>Лингвистика</td>\n",
       "      <td>Лингви́стика (от  «язык»), языкозна́ние, языко...</td>\n",
       "      <td>лингви стика язык языкозна ние языкове дение н...</td>\n",
       "      <td>529</td>\n",
       "    </tr>\n",
       "    <tr>\n",
       "      <th>9</th>\n",
       "      <td>4cf782b0-efdf-4573-83ab-4028ebecff25</td>\n",
       "      <td>https://ru.wikipedia.org/wiki?curid=21</td>\n",
       "      <td>Социология</td>\n",
       "      <td>Социоло́гия (от и ) ― наука о совместной жизни...</td>\n",
       "      <td>социоло гия наука совместной жизни групп сообщ...</td>\n",
       "      <td>10390</td>\n",
       "    </tr>\n",
       "    <tr>\n",
       "      <th>10</th>\n",
       "      <td>ccd50786-4869-42c8-b2de-105020c8a4cd</td>\n",
       "      <td>https://ru.wikipedia.org/wiki?curid=27</td>\n",
       "      <td>Киевская Русь</td>\n",
       "      <td>Ки́евская Русь, или Древнеру́сское госуда́рств...</td>\n",
       "      <td>ки евская русь древнеру сское госуда рство дре...</td>\n",
       "      <td>10041</td>\n",
       "    </tr>\n",
       "    <tr>\n",
       "      <th>11</th>\n",
       "      <td>531296c5-569b-4f4f-b23f-75aef08b43b0</td>\n",
       "      <td>https://ru.wikipedia.org/wiki?curid=28</td>\n",
       "      <td>Путь из варяг в греки</td>\n",
       "      <td>Путь «из варя́г в гре́ки» (также Варя́жский пу...</td>\n",
       "      <td>путь варя гре ки также варя жский путь восто ч...</td>\n",
       "      <td>1710</td>\n",
       "    </tr>\n",
       "  </tbody>\n",
       "</table>\n",
       "</div>"
      ],
      "text/plain": [
       "                            article_uuid  \\\n",
       "0   0db8c75d-bc63-4894-84cf-b81b61244528   \n",
       "1   229fd47a-1930-4abd-921f-d5488fa5ae6c   \n",
       "2   8d5864ac-ca16-482d-bb65-2853a73c2f42   \n",
       "3   d3007aab-0973-4283-9c43-00ca24b463c4   \n",
       "4   3e760eeb-23e5-4aab-a7bb-0f621f887160   \n",
       "5   8fbe6299-2675-41a5-a067-c9051c0f5ba6   \n",
       "6   1c1db8e4-8762-4dd8-9f3b-576a1f07c450   \n",
       "7   3ca77c2e-ff1d-45b7-b5df-981b83a059f6   \n",
       "8   af70ba8b-82b7-4f01-9e5a-c95b9034bddd   \n",
       "9   4cf782b0-efdf-4573-83ab-4028ebecff25   \n",
       "10  ccd50786-4869-42c8-b2de-105020c8a4cd   \n",
       "11  531296c5-569b-4f4f-b23f-75aef08b43b0   \n",
       "\n",
       "                                       url                  title  \\\n",
       "0    https://ru.wikipedia.org/wiki?curid=4         Базовая статья   \n",
       "1    https://ru.wikipedia.org/wiki?curid=7                  Литва   \n",
       "2    https://ru.wikipedia.org/wiki?curid=9                 Россия   \n",
       "3   https://ru.wikipedia.org/wiki?curid=10               Слоновые   \n",
       "4   https://ru.wikipedia.org/wiki?curid=11                Мамонты   \n",
       "5   https://ru.wikipedia.org/wiki?curid=15          Красная книга   \n",
       "6   https://ru.wikipedia.org/wiki?curid=16              Соционика   \n",
       "7   https://ru.wikipedia.org/wiki?curid=18                  Школа   \n",
       "8   https://ru.wikipedia.org/wiki?curid=20            Лингвистика   \n",
       "9   https://ru.wikipedia.org/wiki?curid=21             Социология   \n",
       "10  https://ru.wikipedia.org/wiki?curid=27          Киевская Русь   \n",
       "11  https://ru.wikipedia.org/wiki?curid=28  Путь из варяг в греки   \n",
       "\n",
       "                                              article  \\\n",
       "0                                                       \n",
       "1   Литва́ ( ), официальное название — Лито́вская ...   \n",
       "2   Росси́я, или Росси́йская Федера́ция (сокр. РФ)...   \n",
       "3   Слоно́вые, или слоны́ , — семейство класса мле...   \n",
       "4   Ма́монты () — вымерший род млекопитающих отряд...   \n",
       "5   Кра́сная кни́га — аннотированный список редких...   \n",
       "6   Социо́ника — псевдонаучная концепция типов лич...   \n",
       "7   Шко́ла (через , из , от  — «досуг») — учебное ...   \n",
       "8   Лингви́стика (от  «язык»), языкозна́ние, языко...   \n",
       "9   Социоло́гия (от и ) ― наука о совместной жизни...   \n",
       "10  Ки́евская Русь, или Древнеру́сское госуда́рств...   \n",
       "11  Путь «из варя́г в гре́ки» (также Варя́жский пу...   \n",
       "\n",
       "                                         proc_article proc_len  \n",
       "0                                                            1  \n",
       "1   литва официальное название лито вская респу бл...     4324  \n",
       "2   росси росси йская федера ция сокр рф государст...    14331  \n",
       "3   слоно вые слоны семейство класса млекопитающих...     1580  \n",
       "4   ма монты вымерший род млекопитающих отряда хоб...     4193  \n",
       "5   кра сная кни га аннотированный список редких н...      806  \n",
       "6   социо ника псевдонаучная концепция типов лично...     2121  \n",
       "7   шко ла досуг учебное заведение получения общег...     1782  \n",
       "8   лингви стика язык языкозна ние языкове дение н...      529  \n",
       "9   социоло гия наука совместной жизни групп сообщ...    10390  \n",
       "10  ки евская русь древнеру сское госуда рство дре...    10041  \n",
       "11  путь варя гре ки также варя жский путь восто ч...     1710  "
      ]
     },
     "execution_count": 33,
     "metadata": {},
     "output_type": "execute_result"
    }
   ],
   "source": [
    "df_texts"
   ]
  },
  {
   "cell_type": "markdown",
   "id": "97d77997-b021-480f-9fba-a89d84a56d37",
   "metadata": {},
   "source": [
    "### Сохранение в базы данных извлечённых текстов и их эмбеддингов"
   ]
  },
  {
   "cell_type": "markdown",
   "id": "a7f54b79-6c07-4d6c-92bc-3a6d21471168",
   "metadata": {},
   "source": [
    "#### Сохранение/дополнение векторной БД Faiss"
   ]
  },
  {
   "cell_type": "code",
   "execution_count": 34,
   "id": "ba2d5e2e-dd41-47f3-9307-9a5756f3e882",
   "metadata": {},
   "outputs": [],
   "source": [
    "# saveEmbdsToVectorDB(embds, './data/data_bases/vectorDBTest.index')"
   ]
  },
  {
   "cell_type": "markdown",
   "id": "72acfb7c-2de1-4fca-b2c8-5efdb31492b5",
   "metadata": {},
   "source": [
    "#### Чтение из векторной БД Faiss"
   ]
  },
  {
   "cell_type": "code",
   "execution_count": 41,
   "id": "74c21bdc-d897-49da-b75a-10b364cd935d",
   "metadata": {},
   "outputs": [],
   "source": [
    "index = getVectorDB('./data/data_bases/vectorDB.index')"
   ]
  },
  {
   "cell_type": "code",
   "execution_count": 42,
   "id": "9c2f0711-9a32-4bb2-add8-85f7edd34844",
   "metadata": {},
   "outputs": [
    {
     "data": {
      "text/plain": [
       "14938"
      ]
     },
     "execution_count": 42,
     "metadata": {},
     "output_type": "execute_result"
    }
   ],
   "source": [
    "index.ntotal"
   ]
  },
  {
   "cell_type": "markdown",
   "id": "b389b8d5-3f63-4abb-a9ab-7fab5a3d4b0a",
   "metadata": {},
   "source": [
    "### Поиск документов по запросу"
   ]
  },
  {
   "cell_type": "code",
   "execution_count": 43,
   "id": "d14cb68d-4373-4003-898f-e92c1bc62688",
   "metadata": {},
   "outputs": [
    {
     "name": "stdout",
     "output_type": "stream",
     "text": [
      "Индексы похожих документов: [14495 12078 12079   339  6799  7182 11239 11227 11369 13448]\n",
      "\n",
      "А вот сами документы:\n",
      "0                                   уфа топоним россии\n",
      "1         чулы название географических объектов россии\n",
      "2                                            гу рьевск\n",
      "3            ме льница населённые пункты россияукраина\n",
      "4           тро ицк название населённых пунктов россии\n",
      "5                                                  NaN\n",
      "6    баба ево город вологодской области россии адми...\n",
      "7    ба бушкин года мы совск город районного значен...\n",
      "8                                                  NaN\n",
      "9    мо ддинг модифицировать изменять внесение изме...\n",
      "Name: 5, dtype: object\n"
     ]
    }
   ],
   "source": [
    "D, I = index.search(np.array([model.encode(\"россия\", normalize_embeddings=True)]), 10)\n",
    "print(\"Индексы похожих документов:\", I[0])\n",
    "# print(D)\n",
    "print()\n",
    "print(\"А вот сами документы:\")\n",
    "test_df = get_rows_from_csv(textsCsvPath, I[0])\n",
    "print(test_df[5])"
   ]
  },
  {
   "cell_type": "markdown",
   "id": "97d5e089-b55b-4d61-8935-52ff22463d17",
   "metadata": {},
   "source": [
    "### Поиски по запросу"
   ]
  },
  {
   "cell_type": "code",
   "execution_count": 40,
   "id": "25e9d686-fe77-49b3-be03-1d62f12cd437",
   "metadata": {
    "scrolled": true
   },
   "outputs": [
    {
     "name": "stdout",
     "output_type": "stream",
     "text": [
      "Получился запрос вида:  content:россия\n",
      "\n",
      "ID документов по результатам текстового поиску обратным индексом: ['10849' '10850' '10861' '9468' '9434' '12079' '10867' '8192' '10855'\n",
      " '908']\n",
      "Значения BM25: ['8.09784968001708' '7.631559273474731' '7.5425688565232845'\n",
      " '6.993329497909029' '6.970867853166101' '6.680234717070014'\n",
      " '6.605632593634342' '6.5571022102496395' '6.442766098981979'\n",
      " '6.371415928511168']\n",
      "\n",
      "А вот названия самих документов:\n",
      "0    праздники памятные дни см также события см так...\n",
      "1    кисло химические соединения способные отдавать...\n",
      "2    львовский национальный университет имени ивана...\n",
      "3    десяти чная дробь разновидность дроби которая ...\n",
      "4    альберт сент дьёрдьи сентября будапешт октября...\n",
      "5    фрирайд свободная езда спуск правило естествен...\n",
      "6    эндрю юр мая глазго шотландия января лондон шо...\n",
      "7    галаха алаха халаха ашкеназ ало хо гало хо тра...\n",
      "8    прогре сс движение вперёд успех направление ра...\n",
      "9    ба бушкин года мы совск город районного значен...\n",
      "Name: 5, dtype: object\n"
     ]
    }
   ],
   "source": [
    "query = \"россия\"\n",
    "k = 10\n",
    "\n",
    "resulsIdAndBm25 = textSearch_with_bm25_ranking(query, \"data/data_bases/revertedIndexTextDB\")\n",
    "print()\n",
    "print(\"ID документов по результатам текстового поиску обратным индексом:\", resulsIdAndBm25[:k,0])\n",
    "print(\"Значения BM25:\", resulsIdAndBm25[:,1])\n",
    "\n",
    "print()\n",
    "print(\"А вот названия самих документов:\")\n",
    "test_df = get_rows_from_csv(textsCsvPath, [int(id) for id in resulsIdAndBm25[:k,0]], index.ntotal)\n",
    "print(test_df[5])"
   ]
  },
  {
   "cell_type": "code",
   "execution_count": 41,
   "id": "c35dd391-f423-4186-b817-b317ceedc267",
   "metadata": {},
   "outputs": [
    {
     "name": "stdout",
     "output_type": "stream",
     "text": [
      "Получился запрос вида:  content:русь\n",
      "\n",
      "ID документы по результатам текстового поиску обратным индексом: ['649' '7188' '879' '8275' '4228' '4265' '4266' '4267' '4268' '4283']\n",
      "Значения BM25: ['8.975858721012742' '8.931509280655012' '7.6977715785940095'\n",
      " '7.6977715785940095' '7.6733597979402015' '7.6733597979402015'\n",
      " '7.6733597979402015' '7.6733597979402015' '7.6733597979402015'\n",
      " '7.6733597979402015']\n",
      "\n",
      "А вот названия самих документов:\n",
      "0                                                  NaN\n",
      "1                                                  NaN\n",
      "2                родились см также скончались см также\n",
      "3                родились см также скончались см также\n",
      "4                родились см также скончались см также\n",
      "5                родились см также скончались см также\n",
      "6                родились см также скончались см также\n",
      "7                родились см также скончались см также\n",
      "8    имму нная систе ма система биологических струк...\n",
      "9    ваа гн вахагн древнеармянской мифологии бог ог...\n",
      "Name: 5, dtype: object\n"
     ]
    }
   ],
   "source": [
    "query = \"русь\"\n",
    "k = 10\n",
    "\n",
    "resulsIdAndBm25 = textSearch_with_bm25_ranking(query, \"data/data_bases/revertedIndexTextDB\")\n",
    "print()\n",
    "print(\"ID документы по результатам текстового поиску обратным индексом:\", resulsIdAndBm25[:k,0])\n",
    "print(\"Значения BM25:\", resulsIdAndBm25[:,1])\n",
    "\n",
    "print()\n",
    "print(\"А вот названия самих документов:\")\n",
    "test_df = get_rows_from_csv(textsCsvPath, [int(id) for id in resulsIdAndBm25[:k,0]], index.ntotal)\n",
    "print(test_df[5])"
   ]
  },
  {
   "cell_type": "code",
   "execution_count": null,
   "id": "48d65d74-eab9-4734-b155-9f53db066af7",
   "metadata": {},
   "outputs": [],
   "source": []
  },
  {
   "cell_type": "code",
   "execution_count": null,
   "id": "cb402253-689a-4ad2-a1aa-8d072e6e6019",
   "metadata": {},
   "outputs": [],
   "source": []
  },
  {
   "cell_type": "code",
   "execution_count": null,
   "id": "d5775b3d-9428-4249-9a88-48bca111cdff",
   "metadata": {},
   "outputs": [],
   "source": []
  },
  {
   "cell_type": "code",
   "execution_count": null,
   "id": "a9c693fd-1fde-4af0-8b80-6f16078d54a4",
   "metadata": {},
   "outputs": [],
   "source": []
  },
  {
   "cell_type": "code",
   "execution_count": null,
   "id": "b70befb6-5037-4e5c-a8ff-00850c28f619",
   "metadata": {},
   "outputs": [],
   "source": []
  },
  {
   "cell_type": "markdown",
   "id": "10d4fbf5-4eac-4dc9-a4e0-d0f7bd1e1b2d",
   "metadata": {},
   "source": [
    "# Итог\n",
    "\n",
    "### Что имеем.\n",
    "\n",
    "У нас есть архив(ы) со страницами с википедии, из которых мы составляем:\n",
    "1) Векторную БД (Faiss)\n",
    "2) Тестовую БД, работающую на обратном индексе (библиотека Whoosh, которая работает по принципу Lucene)\n",
    "3) csv файл, в котором хранятся все спаршенные страницы\n",
    "\n",
    "Пока что всё таким образом (храним лишнюю csv, которая к тому же содержит полные тексты документов), потому что только начинаем разрабать и тестировать поисковик. Поэтому нужно от этого будет избавиться и сделать всё эффективнее.\n",
    "\n",
    "\n",
    "\n",
    "**Как сейчас ведётся поиск**.\n",
    "1) Получаем текстовый запрос\n",
    "2) Переводим его в вектор\n",
    "3) Находим k документов из векторной БД, которые наибольшим образом похожи на запрос\n",
    "\n",
    "### Что нужно сделать дальше\n",
    "\n",
    "Нужно как-то отранжировать полученные k документов из векторной БД. \n",
    "\n",
    "Моё изначальное предложение было - отранжировать текстово с использованием алгоритма BM25. Можно так и сделать. \n",
    "\n",
    "Или же предлагайте новые варианты."
   ]
  }
 ],
 "metadata": {
  "kernelspec": {
   "display_name": "Python 3 (ipykernel)",
   "language": "python",
   "name": "python3"
  },
  "language_info": {
   "codemirror_mode": {
    "name": "ipython",
    "version": 3
   },
   "file_extension": ".py",
   "mimetype": "text/x-python",
   "name": "python",
   "nbconvert_exporter": "python",
   "pygments_lexer": "ipython3",
   "version": "3.10.12"
  }
 },
 "nbformat": 4,
 "nbformat_minor": 5
}
