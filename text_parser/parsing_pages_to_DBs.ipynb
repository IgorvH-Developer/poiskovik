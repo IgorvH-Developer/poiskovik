{
 "cells": [
  {
   "cell_type": "code",
   "execution_count": 1,
   "id": "6c2766ab-694d-49f3-912c-f96b16ba06fe",
   "metadata": {
    "scrolled": true
   },
   "outputs": [
    {
     "name": "stderr",
     "output_type": "stream",
     "text": [
      "/tmp/ipykernel_35318/2762488061.py:7: DeprecationWarning: \n",
      "Pyarrow will become a required dependency of pandas in the next major release of pandas (pandas 3.0),\n",
      "(to allow more performant data types, such as the Arrow string type, and better interoperability with other libraries)\n",
      "but was not found to be installed on your system.\n",
      "If this would cause problems for you,\n",
      "please provide us feedback at https://github.com/pandas-dev/pandas/issues/54466\n",
      "        \n",
      "  import pandas as pd\n",
      "/home/hlopin/.local/lib/python3.10/site-packages/sentence_transformers/cross_encoder/CrossEncoder.py:13: TqdmExperimentalWarning: Using `tqdm.autonotebook.tqdm` in notebook mode. Use `tqdm.tqdm` instead to force console mode (e.g. in jupyter console)\n",
      "  from tqdm.autonotebook import tqdm, trange\n",
      "2024-10-27 20:59:03.534254: I tensorflow/core/platform/cpu_feature_guard.cc:193] This TensorFlow binary is optimized with oneAPI Deep Neural Network Library (oneDNN) to use the following CPU instructions in performance-critical operations:  AVX2 AVX512F AVX512_VNNI FMA\n",
      "To enable them in other operations, rebuild TensorFlow with the appropriate compiler flags.\n",
      "2024-10-27 20:59:03.756044: I tensorflow/core/util/port.cc:104] oneDNN custom operations are on. You may see slightly different numerical results due to floating-point round-off errors from different computation orders. To turn them off, set the environment variable `TF_ENABLE_ONEDNN_OPTS=0`.\n",
      "2024-10-27 20:59:03.759916: W tensorflow/compiler/xla/stream_executor/platform/default/dso_loader.cc:64] Could not load dynamic library 'libcudart.so.11.0'; dlerror: libcudart.so.11.0: cannot open shared object file: No such file or directory\n",
      "2024-10-27 20:59:03.759928: I tensorflow/compiler/xla/stream_executor/cuda/cudart_stub.cc:29] Ignore above cudart dlerror if you do not have a GPU set up on your machine.\n",
      "2024-10-27 20:59:06.316738: W tensorflow/compiler/xla/stream_executor/platform/default/dso_loader.cc:64] Could not load dynamic library 'libnvinfer.so.7'; dlerror: libnvinfer.so.7: cannot open shared object file: No such file or directory\n",
      "2024-10-27 20:59:06.317041: W tensorflow/compiler/xla/stream_executor/platform/default/dso_loader.cc:64] Could not load dynamic library 'libnvinfer_plugin.so.7'; dlerror: libnvinfer_plugin.so.7: cannot open shared object file: No such file or directory\n",
      "2024-10-27 20:59:06.317047: W tensorflow/compiler/tf2tensorrt/utils/py_utils.cc:38] TF-TRT Warning: Cannot dlopen some TensorRT libraries. If you would like to use Nvidia GPU with TensorRT, please make sure the missing libraries mentioned above are installed properly.\n",
      "[nltk_data] Downloading package punkt_tab to /home/hlopin/nltk_data...\n",
      "[nltk_data]   Package punkt_tab is already up-to-date!\n",
      "[nltk_data] Downloading package stopwords to /home/hlopin/nltk_data...\n",
      "[nltk_data]   Package stopwords is already up-to-date!\n"
     ]
    },
    {
     "data": {
      "text/plain": [
       "True"
      ]
     },
     "execution_count": 1,
     "metadata": {},
     "output_type": "execute_result"
    }
   ],
   "source": [
    "import os\n",
    "import re\n",
    "import sys\n",
    "import glob\n",
    "import gensim\n",
    "import numpy as np\n",
    "import pandas as pd\n",
    "from tqdm import tqdm\n",
    "from uuid import uuid4\n",
    "from functools import reduce\n",
    "from multiprocessing import Pool\n",
    "from sentence_transformers import SentenceTransformer\n",
    "import faiss\n",
    "import nltk\n",
    "nltk.download('punkt_tab')\n",
    "from nltk.corpus import stopwords\n",
    "nltk.download('stopwords')"
   ]
  },
  {
   "cell_type": "code",
   "execution_count": 2,
   "id": "2b6041b9-882e-4114-bdf9-f0e816d8b338",
   "metadata": {},
   "outputs": [],
   "source": [
    "from whoosh.index import create_in\n",
    "from whoosh.fields import Schema, TEXT, ID\n",
    "from whoosh.qparser import QueryParser\n",
    "from sklearn.feature_extraction.text import TfidfVectorizer"
   ]
  },
  {
   "cell_type": "markdown",
   "id": "3bfc5f95-6c37-4d92-a272-50265c302ef7",
   "metadata": {},
   "source": [
    "## Извлечение текстов википедии из архива. Из архива достаём различные страницы из википедии, которые потом будем добавлять в базы данных"
   ]
  },
  {
   "cell_type": "code",
   "execution_count": 3,
   "id": "60d4bbb5-8db4-44d4-9604-6d086b92423e",
   "metadata": {},
   "outputs": [],
   "source": [
    "#!pip install wikiextractor"
   ]
  },
  {
   "cell_type": "code",
   "execution_count": 4,
   "id": "425c8139-b552-4351-a63b-c8532c258fd2",
   "metadata": {},
   "outputs": [],
   "source": [
    "import wikiextractor"
   ]
  },
  {
   "cell_type": "markdown",
   "id": "17ced9cf-4dcd-4f76-92bc-1e16b5e5c3f0",
   "metadata": {},
   "source": [
    "Скачиваем архив"
   ]
  },
  {
   "cell_type": "code",
   "execution_count": 5,
   "id": "0e1b2c54-51bc-4067-a00e-1d10b6703896",
   "metadata": {},
   "outputs": [],
   "source": [
    "#!wget http://dumps.wikimedia.org/ruwiki/latest/ruwiki-latest-pages-articles.xml.bz2"
   ]
  },
  {
   "cell_type": "markdown",
   "id": "c388849d-7270-4efd-a299-88daa70251e8",
   "metadata": {},
   "source": [
    "Разархивируем в ./wiki папку. Для начала лучше разархивировать только несколько папок с документами по википедии (AA,AB)"
   ]
  },
  {
   "cell_type": "code",
   "execution_count": 6,
   "id": "bef20572-0079-42b4-b1ca-738aecb7e0b2",
   "metadata": {
    "scrolled": true
   },
   "outputs": [],
   "source": [
    "# !python3 -m wikiextractor.WikiExtractor -o ./data/wiki/ --no-templates --processes 8 ./ruwiki-latest-pages-articles.xml.bz2"
   ]
  },
  {
   "cell_type": "code",
   "execution_count": 7,
   "id": "562a904e-8127-481a-a1ad-64dee5b9f47c",
   "metadata": {},
   "outputs": [],
   "source": [
    "# !python3 -m wikiextractor.extractPage -o ./data/wiki/ --no-templates --processes 8 ./ruwiki-latest-pages-articles.xml.bz2"
   ]
  },
  {
   "cell_type": "markdown",
   "id": "61ffcaf7-9a44-4519-8257-98c046f5a68b",
   "metadata": {},
   "source": [
    "## Функционал для парсинг текстов википедии"
   ]
  },
  {
   "cell_type": "code",
   "execution_count": 8,
   "id": "ac96ed9b-4956-4cda-9457-f88c5b298e38",
   "metadata": {},
   "outputs": [],
   "source": [
    "def _remove_non_printed_chars(string):\n",
    "    reg = re.compile('[^a-zA-Zа-яА-ЯёЁ]')\n",
    "    return reg.sub(' ', string)\n",
    "\n",
    "def _remove_stop_words(string,sw=[]):\n",
    "    return ' '.join([word if word not in sw else '' \\\n",
    "                     for word in string.strip().split(' ')])\n",
    "\n",
    "def _trim_string(string):\n",
    "    # remove extra spaces, remove trailing spaces, lower the case \n",
    "    return re.sub('\\s+',' ',string).strip().lower()\n",
    "    \n",
    "def clean_string(string,\n",
    "                 stop_words_list,\n",
    "                 min_len=2,\n",
    "                 max_len=30):\n",
    "\n",
    "    string = _remove_non_printed_chars(string)\n",
    "    string = _remove_stop_words(string,stop_words_list)\n",
    "    string = _trim_string(string)\n",
    "    # also remove short words, most likely containing addresses / crap / left-overs / etc remaining after removal\n",
    "    # gensim mostly does the same as above, it is used here for simplicity\n",
    "    string = ' '.join(gensim.utils.simple_preprocess(string,\n",
    "                                                     min_len=min_len,\n",
    "                                                     max_len=max_len))\n",
    "    return string\n",
    "    \n",
    "def remove_html_tags(text):\n",
    "    \"\"\"Remove html tags from a string\"\"\"\n",
    "    import re\n",
    "    clean = re.compile('<.*?>')\n",
    "    return re.sub(clean, '', text)\n",
    "    \n",
    "def remove_special_chars(text,char_list):\n",
    "    for char in char_list:\n",
    "        text=text.replace(char,'')\n",
    "    return text.replace(u'\\xa0', u' ')\n",
    "\n",
    "def splitkeepsep(s, sep):\n",
    "    cleaned = []\n",
    "    s = re.split(\"(%s)\" % re.escape(sep), s)\n",
    "    for _ in s:\n",
    "        if _!='' and _!=sep:\n",
    "            cleaned.append(sep+_)\n",
    "    return cleaned\n",
    "\n",
    "def extract_url(text):\n",
    "    pattern = 'http([^\"]+)'\n",
    "    match = re.search(pattern, text)\n",
    "    if match:\n",
    "        url = match.group(0)\n",
    "        return url\n",
    "    else:\n",
    "        return \"\"\n",
    "\n",
    "def create_vector(text):\n",
    "    return model.encode(text, normalize_embeddings=True)\n",
    "    \n",
    "def process_wiki_files(wiki_file):\n",
    "    chars = ['\\n']\n",
    "    global sw\n",
    "\n",
    "    with open(wiki_file, encoding='utf-8') as f:\n",
    "        content = f.read()\n",
    "\n",
    "    articles = splitkeepsep(content,'<doc id=')\n",
    "    df_texts = pd.DataFrame(columns=['article_uuid','url', 'title', 'article','proc_article','proc_len'])\n",
    "    emds = []\n",
    "    \n",
    "    for article in articles:\n",
    "        uuid_text = uuid4()\n",
    "\n",
    "        url = extract_url(article)\n",
    "        article = remove_html_tags(article)\n",
    "        titleIndex = article.find('\\n\\n')\n",
    "        title = article[1:article.find('\\n\\n')]\n",
    "\n",
    "        article = remove_special_chars(article[titleIndex:], chars)        \n",
    "        proc_article = clean_string(article,sw)\n",
    "        proc_len = len(proc_article.split(' '))\n",
    "\n",
    "        temp_df_texts = pd.DataFrame(\n",
    "            {'article_uuid': [uuid_text],\n",
    "             'url': url,\n",
    "             'title': title,\n",
    "             'article': article,\n",
    "             'proc_article':proc_article,\n",
    "             'proc_len':proc_len\n",
    "            })\n",
    "        df_texts = pd.concat([df_texts, temp_df_texts], ignore_index=True)\n",
    "\n",
    "        emb = create_vector(proc_article)\n",
    "        emds.append(emb)\n",
    "    \n",
    "    return df_texts, np.array(emds)\n",
    "\n",
    "sw_en = set(stopwords.words('english'))\n",
    "sw_ru = set(stopwords.words('russian'))\n",
    "sw = list(sw_ru.union(sw_en))  "
   ]
  },
  {
   "cell_type": "markdown",
   "id": "d1506a72-eedb-4f7c-9d74-887646f8ee85",
   "metadata": {},
   "source": [
    "Получаем модель для эмбеддингов"
   ]
  },
  {
   "cell_type": "code",
   "execution_count": 9,
   "id": "12ace853-e656-4343-8bfe-69707ab56495",
   "metadata": {},
   "outputs": [
    {
     "name": "stderr",
     "output_type": "stream",
     "text": [
      "/home/hlopin/.local/lib/python3.10/site-packages/transformers/tokenization_utils_base.py:1617: FutureWarning: `clean_up_tokenization_spaces` was not set. It will be set to `True` by default. This behavior will be deprecated in transformers v4.45, and will be then set to `False` by default. For more details check this issue: https://github.com/huggingface/transformers/issues/31884\n",
      "  warnings.warn(\n"
     ]
    }
   ],
   "source": [
    "model = SentenceTransformer(\"sentence-transformers/paraphrase-multilingual-mpnet-base-v2\")"
   ]
  },
  {
   "cell_type": "markdown",
   "id": "cd347328-5063-44c8-970a-c75d19a66bb1",
   "metadata": {},
   "source": [
    "### Сохранение векторов текстов в векторную БД с обратным индексом (используем Faiss)"
   ]
  },
  {
   "cell_type": "code",
   "execution_count": 10,
   "id": "bebc6be2-b2b9-4ad3-b32e-551689b6e5c6",
   "metadata": {},
   "outputs": [],
   "source": [
    "\n",
    "def saveEmbdsToVectorDB(embds, path):\n",
    "    if not exists(path):\n",
    "        index = faiss.IndexFlatL2(embds.shape[1]) \n",
    "        index = faiss.IndexIDMap(index)\n",
    "        index.add_with_ids(embds, np.arange(0, embds.shape[0]))\n",
    "        faiss.write_index(index, path)\n",
    "    else:\n",
    "        index = faiss.read_index(path)\n",
    "        index.add_with_ids(embds, np.arange(index.ntotal, index.ntotal + embds.shape[0]))\n",
    "        faiss.write_index(index, path)"
   ]
  },
  {
   "cell_type": "markdown",
   "id": "596134c4-54c4-4c14-9445-df58c09a55d5",
   "metadata": {},
   "source": [
    "### Получаем векторную БД"
   ]
  },
  {
   "cell_type": "code",
   "execution_count": 11,
   "id": "a1ac9c10-6de4-496f-8d2b-10479786f308",
   "metadata": {},
   "outputs": [],
   "source": [
    "def getVectorDB(path):\n",
    "    return faiss.read_index(path)"
   ]
  },
  {
   "cell_type": "markdown",
   "id": "c5a62dd7-2f11-4790-8e30-97d9079a16fb",
   "metadata": {},
   "source": [
    "### Сохранение в текстовую БД с обратным индексом (для этого используется библиотека whoosh, которая реализует Lucene подобную индексацию)"
   ]
  },
  {
   "cell_type": "code",
   "execution_count": 12,
   "id": "7120fe20-7eb0-40ce-9736-cc62c1f8c25b",
   "metadata": {},
   "outputs": [],
   "source": [
    "# Создаем индексатор\n",
    "from whoosh.index import create_in, open_dir\n",
    "from os.path import exists\n",
    "from whoosh.qparser import QueryParser"
   ]
  },
  {
   "cell_type": "code",
   "execution_count": 13,
   "id": "7e1b6cc5-d2e4-4ed7-aac6-c0f239768f14",
   "metadata": {},
   "outputs": [],
   "source": [
    "def addTextsToDB(pathDB, startInd, df_texts):\n",
    "    schema = Schema(\n",
    "        id=ID(stored=True),  # Поле для уникального идентификатора документа\n",
    "        content=TEXT(stored=True),  # Поле для текста документа\n",
    "        url=ID(stored=True)  # Поле для хранения URL\n",
    "    )\n",
    "    \n",
    "    if not exists(pathDB):\n",
    "        os.mkdir(pathDB)\n",
    "        index = create_in(pathDB, schema)\n",
    "    else:\n",
    "        index = open_dir(pathDB)\n",
    "    writer = index.writer()\n",
    "\n",
    "    for doc_id in range(len(df_texts)):\n",
    "        writer.add_document(id=str(startInd + doc_id), content=df_texts.iloc[doc_id]['proc_article'], url=df_texts.iloc[doc_id]['url'])\n",
    "    writer.commit()"
   ]
  },
  {
   "cell_type": "markdown",
   "id": "4518d205-8eec-4941-a0d8-a2d2c4bee9f1",
   "metadata": {},
   "source": [
    "### Получаем текстовую БД"
   ]
  },
  {
   "cell_type": "code",
   "execution_count": 14,
   "id": "81146b0f-2012-49cf-a9e0-0206b536fb76",
   "metadata": {},
   "outputs": [],
   "source": [
    "def getRevertedIndexTextDB(pathDB):\n",
    "    return open_dir(pathDB)"
   ]
  },
  {
   "cell_type": "markdown",
   "id": "362e015e-e6be-4766-845b-4243a8d3ac88",
   "metadata": {},
   "source": [
    "### Поиск в текстовой БД по запросу"
   ]
  },
  {
   "cell_type": "code",
   "execution_count": 15,
   "id": "ec073c6e-fea4-4008-b0e4-cb87df9cea63",
   "metadata": {},
   "outputs": [],
   "source": [
    "def textSearch_with_bm25_ranking(query, pathDB):\n",
    "    index = getRevertedIndexTextDB(pathDB)\n",
    "    with index.searcher() as searcher:\n",
    "        query_parser = QueryParser(\"content\", index.schema)\n",
    "        parsed_query = query_parser.parse(query)\n",
    "        print(\"Получился запрос вида: \", parsed_query)\n",
    "        results = searcher.search(parsed_query)\n",
    "        return np.array([(result['id'], result.score) for result in results])"
   ]
  },
  {
   "cell_type": "markdown",
   "id": "20c53683-96cb-4963-8e5d-57be5af3fc35",
   "metadata": {},
   "source": [
    "Получаем тексты по индексам"
   ]
  },
  {
   "cell_type": "code",
   "execution_count": 16,
   "id": "e2ee8f13-b392-4ba2-91ed-7ffacbefd9fc",
   "metadata": {},
   "outputs": [],
   "source": [
    "def get_rows_from_csv(filename, indices, dbLen):\n",
    "    rows_to_skip = set(range(dbLen + 1)) - set(indices)\n",
    "\n",
    "    # df = pd.DataFrame(columns=['article_uuid', 'url', 'title', 'article', 'proc_article', 'proc_len'])\n",
    "    \n",
    "    df = pd.read_csv(\n",
    "        filename,\n",
    "        header=None,\n",
    "        skiprows=lambda x: x in rows_to_skip\n",
    "    )\n",
    "\n",
    "    # df = pd.concat([df, data], ignore_index=True)\n",
    "    \n",
    "    # df = df.append(df_csv)\n",
    "    \n",
    "    return df"
   ]
  },
  {
   "cell_type": "code",
   "execution_count": null,
   "id": "6eab8de7-cdd3-4d58-ace7-b49052927e0d",
   "metadata": {},
   "outputs": [],
   "source": []
  },
  {
   "cell_type": "code",
   "execution_count": null,
   "id": "d3394e43-7cb5-40d3-bd5b-8b123c31b50d",
   "metadata": {},
   "outputs": [],
   "source": []
  },
  {
   "cell_type": "markdown",
   "id": "f0ccae40-8844-48e3-ab07-12e62f0997db",
   "metadata": {},
   "source": [
    "## Заполнение баз данных. (Объединяем всё вместе, парсим документы и сохраняем их в базы данных)"
   ]
  },
  {
   "cell_type": "code",
   "execution_count": 17,
   "id": "e41fda79-a506-4a48-b529-ea4088cd8546",
   "metadata": {},
   "outputs": [],
   "source": [
    "wikiFilesRootPath = \"data/wiki\"\n",
    "vectorDBPath = 'data/data_bases/vectorDB.index'\n",
    "textDBPath = \"data/data_bases/revertedIndexTextDB\"\n",
    "textsCsvPath = \"data/data_bases/texts.csv\""
   ]
  },
  {
   "cell_type": "code",
   "execution_count": 18,
   "id": "977c5b9f-5440-45b1-9336-838e4069982b",
   "metadata": {},
   "outputs": [],
   "source": [
    "def process_file(file_path):\n",
    "    print(\"Обрабатываю: \", file_path)\n",
    "    df_texts, embds = process_wiki_files(file_path)\n",
    "    df_texts.to_csv(textsCsvPath, mode='a', header=False)\n",
    "    saveEmbdsToVectorDB(embds, vectorDBPath)\n",
    "    index = getVectorDB(vectorDBPath)\n",
    "    addTextsToDB(textDBPath, index.ntotal, df_texts)"
   ]
  },
  {
   "cell_type": "markdown",
   "id": "f1d9a4d5-6ec5-40c4-bc53-63fc85c6835e",
   "metadata": {},
   "source": [
    "Параллельно обрабатыватексты тексты и сохраяем результаты в базы данных"
   ]
  },
  {
   "cell_type": "markdown",
   "id": "74cf2d64-1f02-4ef7-9702-aab19ebd0663",
   "metadata": {},
   "source": [
    "Вместо наполнения баз данных самому можно скачать примеры отсюда: https://disk.yandex.ru/d/tPGZGoJVTPyNvQ"
   ]
  },
  {
   "cell_type": "code",
   "execution_count": 19,
   "id": "f51e8520-876c-4918-9e79-be0da9ae803b",
   "metadata": {
    "scrolled": true
   },
   "outputs": [
    {
     "name": "stdout",
     "output_type": "stream",
     "text": [
      "Обрабатываю:  data/wiki/AA/wiki_05\n",
      "Обрабатываю:  data/wiki/AA/wiki_36\n",
      "Обрабатываю:  data/wiki/AA/wiki_20\n",
      "Обрабатываю:  data/wiki/AA/wiki_68\n",
      "Обрабатываю:  data/wiki/AA/wiki_83\n",
      "Обрабатываю:  data/wiki/AA/wiki_12\n",
      "Обрабатываю:  data/wiki/AA/wiki_69\n",
      "Обрабатываю:  data/wiki/AA/wiki_15\n",
      "Обрабатываю:  data/wiki/AA/wiki_87\n",
      "Обрабатываю:  data/wiki/AA/wiki_53\n",
      "Обрабатываю:  data/wiki/AA/wiki_76\n",
      "Обрабатываю:  data/wiki/AA/wiki_21\n",
      "Обрабатываю:  data/wiki/AA/wiki_59\n",
      "Обрабатываю:  data/wiki/AA/wiki_34\n",
      "Обрабатываю:  data/wiki/AA/wiki_88\n",
      "Обрабатываю:  data/wiki/AA/wiki_49\n",
      "Обрабатываю:  data/wiki/AA/wiki_23\n",
      "Обрабатываю:  data/wiki/AA/wiki_99\n",
      "Обрабатываю:  data/wiki/AA/wiki_94\n",
      "Обрабатываю:  data/wiki/AA/wiki_09\n",
      "Обрабатываю:  data/wiki/AA/wiki_86\n",
      "Обрабатываю:  data/wiki/AA/wiki_32\n",
      "Обрабатываю:  data/wiki/AA/wiki_24\n",
      "Обрабатываю:  data/wiki/AA/wiki_91\n",
      "Обрабатываю:  data/wiki/AA/wiki_75\n",
      "Обрабатываю:  data/wiki/AA/wiki_67\n",
      "Обрабатываю:  data/wiki/AA/wiki_37\n",
      "Обрабатываю:  data/wiki/AA/wiki_73\n",
      "Обрабатываю:  data/wiki/AA/wiki_39\n",
      "Обрабатываю:  data/wiki/AA/wiki_01\n",
      "Обрабатываю:  data/wiki/AA/wiki_65\n",
      "Обрабатываю:  data/wiki/AA/wiki_97\n",
      "Обрабатываю:  data/wiki/AA/wiki_58\n",
      "Обрабатываю:  data/wiki/AA/wiki_61\n",
      "Обрабатываю:  data/wiki/AA/wiki_79\n",
      "Обрабатываю:  data/wiki/AA/wiki_98\n",
      "Обрабатываю:  data/wiki/AA/wiki_30\n",
      "Обрабатываю:  data/wiki/AA/wiki_22\n",
      "Обрабатываю:  data/wiki/AA/wiki_90\n",
      "Обрабатываю:  data/wiki/AA/wiki_26\n",
      "Обрабатываю:  data/wiki/AA/wiki_08\n",
      "Обрабатываю:  data/wiki/AA/wiki_45\n",
      "Обрабатываю:  data/wiki/AA/wiki_42\n",
      "Обрабатываю:  data/wiki/AA/wiki_85\n",
      "Обрабатываю:  data/wiki/AA/wiki_57\n",
      "Обрабатываю:  data/wiki/AA/wiki_55\n",
      "Обрабатываю:  data/wiki/AA/wiki_06\n",
      "Обрабатываю:  data/wiki/AA/wiki_71\n",
      "Обрабатываю:  data/wiki/AA/wiki_64\n",
      "Обрабатываю:  data/wiki/AA/wiki_46\n",
      "Обрабатываю:  data/wiki/AA/wiki_78\n",
      "Обрабатываю:  data/wiki/AA/wiki_84\n",
      "Обрабатываю:  data/wiki/AA/wiki_31\n",
      "Обрабатываю:  data/wiki/AA/wiki_60\n",
      "Обрабатываю:  data/wiki/AA/wiki_14\n",
      "Обрабатываю:  data/wiki/AA/wiki_27\n",
      "Обрабатываю:  data/wiki/AA/wiki_63\n",
      "Обрабатываю:  data/wiki/AA/wiki_11\n",
      "Обрабатываю:  data/wiki/AA/wiki_03\n",
      "Обрабатываю:  data/wiki/AA/wiki_33\n",
      "Обрабатываю:  data/wiki/AA/wiki_47\n",
      "Обрабатываю:  data/wiki/AA/wiki_19\n",
      "Обрабатываю:  data/wiki/AA/wiki_50\n",
      "Обрабатываю:  data/wiki/AA/wiki_40\n",
      "Обрабатываю:  data/wiki/AA/wiki_92\n",
      "Обрабатываю:  data/wiki/AA/wiki_00\n",
      "Обрабатываю:  data/wiki/AA/wiki_07\n",
      "Обрабатываю:  data/wiki/AA/wiki_52\n",
      "Обрабатываю:  data/wiki/AA/wiki_51\n",
      "Обрабатываю:  data/wiki/AA/wiki_56\n",
      "Обрабатываю:  data/wiki/AA/wiki_80\n",
      "Обрабатываю:  data/wiki/AA/wiki_10\n",
      "Обрабатываю:  data/wiki/AA/wiki_25\n",
      "Обрабатываю:  data/wiki/AA/wiki_70\n",
      "Обрабатываю:  data/wiki/AA/wiki_72\n",
      "Обрабатываю:  data/wiki/AA/wiki_16\n",
      "Обрабатываю:  data/wiki/AA/wiki_95\n",
      "Обрабатываю:  data/wiki/AA/wiki_54\n",
      "Обрабатываю:  data/wiki/AA/wiki_96\n",
      "Обрабатываю:  data/wiki/AA/wiki_38\n",
      "Обрабатываю:  data/wiki/AA/wiki_62\n",
      "Обрабатываю:  data/wiki/AA/wiki_48\n",
      "Обрабатываю:  data/wiki/AA/wiki_81\n",
      "Обрабатываю:  data/wiki/AA/wiki_43\n",
      "Обрабатываю:  data/wiki/AA/wiki_44\n",
      "Обрабатываю:  data/wiki/AA/wiki_17\n",
      "Обрабатываю:  data/wiki/AA/wiki_02\n",
      "Обрабатываю:  data/wiki/AA/wiki_74\n",
      "Обрабатываю:  data/wiki/AA/wiki_28\n",
      "Обрабатываю:  data/wiki/AA/wiki_04\n",
      "Обрабатываю:  data/wiki/AA/wiki_41\n",
      "Обрабатываю:  data/wiki/AA/wiki_93\n",
      "Обрабатываю:  data/wiki/AA/wiki_89\n",
      "Обрабатываю:  data/wiki/AA/wiki_35\n",
      "Обрабатываю:  data/wiki/AA/wiki_82\n",
      "Обрабатываю:  data/wiki/AA/wiki_29\n",
      "Обрабатываю:  data/wiki/AA/wiki_13\n",
      "Обрабатываю:  data/wiki/AA/wiki_66\n",
      "Обрабатываю:  data/wiki/AA/wiki_77\n",
      "Обрабатываю:  data/wiki/AA/wiki_18\n",
      "Обрабатываю:  data/wiki/AB/wiki_05\n",
      "Обрабатываю:  data/wiki/AB/wiki_36\n",
      "Обрабатываю:  data/wiki/AB/wiki_20\n",
      "Обрабатываю:  data/wiki/AB/wiki_68\n",
      "Обрабатываю:  data/wiki/AB/wiki_83\n",
      "Обрабатываю:  data/wiki/AB/wiki_12\n",
      "Обрабатываю:  data/wiki/AB/wiki_69\n",
      "Обрабатываю:  data/wiki/AB/wiki_15\n",
      "Обрабатываю:  data/wiki/AB/wiki_87\n",
      "Обрабатываю:  data/wiki/AB/wiki_53\n",
      "Обрабатываю:  data/wiki/AB/wiki_76\n",
      "Обрабатываю:  data/wiki/AB/wiki_21\n",
      "Обрабатываю:  data/wiki/AB/wiki_59\n",
      "Обрабатываю:  data/wiki/AB/wiki_34\n",
      "Обрабатываю:  data/wiki/AB/wiki_88\n",
      "Обрабатываю:  data/wiki/AB/wiki_49\n",
      "Обрабатываю:  data/wiki/AB/wiki_23\n",
      "Обрабатываю:  data/wiki/AB/wiki_99\n",
      "Обрабатываю:  data/wiki/AB/wiki_94\n",
      "Обрабатываю:  data/wiki/AB/wiki_09\n",
      "Обрабатываю:  data/wiki/AB/wiki_86\n",
      "Обрабатываю:  data/wiki/AB/wiki_32\n",
      "Обрабатываю:  data/wiki/AB/wiki_24\n",
      "Обрабатываю:  data/wiki/AB/wiki_91\n",
      "Обрабатываю:  data/wiki/AB/wiki_75\n",
      "Обрабатываю:  data/wiki/AB/wiki_67\n",
      "Обрабатываю:  data/wiki/AB/wiki_37\n",
      "Обрабатываю:  data/wiki/AB/wiki_73\n",
      "Обрабатываю:  data/wiki/AB/wiki_39\n",
      "Обрабатываю:  data/wiki/AB/wiki_01\n",
      "Обрабатываю:  data/wiki/AB/wiki_65\n",
      "Обрабатываю:  data/wiki/AB/wiki_97\n",
      "Обрабатываю:  data/wiki/AB/wiki_58\n",
      "Обрабатываю:  data/wiki/AB/wiki_61\n",
      "Обрабатываю:  data/wiki/AB/wiki_79\n",
      "Обрабатываю:  data/wiki/AB/wiki_98\n",
      "Обрабатываю:  data/wiki/AB/wiki_30\n",
      "Обрабатываю:  data/wiki/AB/wiki_22\n",
      "Обрабатываю:  data/wiki/AB/wiki_90\n",
      "Обрабатываю:  data/wiki/AB/wiki_26\n",
      "Обрабатываю:  data/wiki/AB/wiki_08\n",
      "Обрабатываю:  data/wiki/AB/wiki_45\n",
      "Обрабатываю:  data/wiki/AB/wiki_42\n",
      "Обрабатываю:  data/wiki/AB/wiki_85\n",
      "Обрабатываю:  data/wiki/AB/wiki_57\n",
      "Обрабатываю:  data/wiki/AB/wiki_55\n",
      "Обрабатываю:  data/wiki/AB/wiki_06\n",
      "Обрабатываю:  data/wiki/AB/wiki_71\n",
      "Обрабатываю:  data/wiki/AB/wiki_64\n",
      "Обрабатываю:  data/wiki/AB/wiki_46\n",
      "Обрабатываю:  data/wiki/AB/wiki_78\n",
      "Обрабатываю:  data/wiki/AB/wiki_84\n",
      "Обрабатываю:  data/wiki/AB/wiki_31\n",
      "Обрабатываю:  data/wiki/AB/wiki_60\n",
      "Обрабатываю:  data/wiki/AB/wiki_14\n",
      "Обрабатываю:  data/wiki/AB/wiki_27\n",
      "Обрабатываю:  data/wiki/AB/wiki_63\n",
      "Обрабатываю:  data/wiki/AB/wiki_11\n",
      "Обрабатываю:  data/wiki/AB/wiki_03\n",
      "Обрабатываю:  data/wiki/AB/wiki_33\n",
      "Обрабатываю:  data/wiki/AB/wiki_47\n",
      "Обрабатываю:  data/wiki/AB/wiki_19\n",
      "Обрабатываю:  data/wiki/AB/wiki_50\n",
      "Обрабатываю:  data/wiki/AB/wiki_40\n",
      "Обрабатываю:  data/wiki/AB/wiki_92\n",
      "Обрабатываю:  data/wiki/AB/wiki_00\n",
      "Обрабатываю:  data/wiki/AB/wiki_07\n",
      "Обрабатываю:  data/wiki/AB/wiki_52\n",
      "Обрабатываю:  data/wiki/AB/wiki_51\n",
      "Обрабатываю:  data/wiki/AB/wiki_56\n",
      "Обрабатываю:  data/wiki/AB/wiki_80\n",
      "Обрабатываю:  data/wiki/AB/wiki_10\n",
      "Обрабатываю:  data/wiki/AB/wiki_25\n",
      "Обрабатываю:  data/wiki/AB/wiki_70\n",
      "Обрабатываю:  data/wiki/AB/wiki_72\n",
      "Обрабатываю:  data/wiki/AB/wiki_16\n",
      "Обрабатываю:  data/wiki/AB/wiki_95\n",
      "Обрабатываю:  data/wiki/AB/wiki_54\n",
      "Обрабатываю:  data/wiki/AB/wiki_96\n",
      "Обрабатываю:  data/wiki/AB/wiki_38\n",
      "Обрабатываю:  data/wiki/AB/wiki_62\n",
      "Обрабатываю:  data/wiki/AB/wiki_48\n",
      "Обрабатываю:  data/wiki/AB/wiki_81\n",
      "Обрабатываю:  data/wiki/AB/wiki_43\n",
      "Обрабатываю:  data/wiki/AB/wiki_44\n",
      "Обрабатываю:  data/wiki/AB/wiki_17\n",
      "Обрабатываю:  data/wiki/AB/wiki_02\n",
      "Обрабатываю:  data/wiki/AB/wiki_74\n",
      "Обрабатываю:  data/wiki/AB/wiki_28\n",
      "Обрабатываю:  data/wiki/AB/wiki_04\n",
      "Обрабатываю:  data/wiki/AB/wiki_41\n",
      "Обрабатываю:  data/wiki/AB/wiki_93\n",
      "Обрабатываю:  data/wiki/AB/wiki_89\n",
      "Обрабатываю:  data/wiki/AB/wiki_35\n",
      "Обрабатываю:  data/wiki/AB/wiki_82\n",
      "Обрабатываю:  data/wiki/AB/wiki_29\n",
      "Обрабатываю:  data/wiki/AB/wiki_13\n",
      "Обрабатываю:  data/wiki/AB/wiki_66\n",
      "Обрабатываю:  data/wiki/AB/wiki_77\n",
      "Обрабатываю:  data/wiki/AB/wiki_18\n"
     ]
    },
    {
     "ename": "NameError",
     "evalue": "name 'concurrent' is not defined",
     "output_type": "error",
     "traceback": [
      "\u001b[0;31m---------------------------------------------------------------------------\u001b[0m",
      "\u001b[0;31mNameError\u001b[0m                                 Traceback (most recent call last)",
      "Cell \u001b[0;32mIn[19], line 14\u001b[0m\n\u001b[1;32m     11\u001b[0m futures \u001b[38;5;241m=\u001b[39m {executor\u001b[38;5;241m.\u001b[39msubmit(process_file, file_path): file_path \u001b[38;5;28;01mfor\u001b[39;00m file_path \u001b[38;5;129;01min\u001b[39;00m files_to_process}\n\u001b[1;32m     13\u001b[0m \u001b[38;5;66;03m# Ждем завершения всех задач\u001b[39;00m\n\u001b[0;32m---> 14\u001b[0m \u001b[38;5;28;01mfor\u001b[39;00m future \u001b[38;5;129;01min\u001b[39;00m \u001b[43mconcurrent\u001b[49m\u001b[38;5;241m.\u001b[39mfutures\u001b[38;5;241m.\u001b[39mas_completed(futures):\n\u001b[1;32m     15\u001b[0m     file_path \u001b[38;5;241m=\u001b[39m futures[future]\n\u001b[1;32m     16\u001b[0m     \u001b[38;5;28;01mtry\u001b[39;00m:\n",
      "\u001b[0;31mNameError\u001b[0m: name 'concurrent' is not defined"
     ]
    }
   ],
   "source": [
    "# from concurrent.futures import ThreadPoolExecutor\n",
    "\n",
    "# files_to_process = []\n",
    "# for dirpath, dirnames, filenames in os.walk(wikiFilesRootPath):\n",
    "#     for filename in filenames:\n",
    "#         file_path = os.path.join(dirpath, filename)\n",
    "#         files_to_process.append(file_path)\n",
    "\n",
    "#  # Используем ThreadPoolExecutor для параллельной обработки файлов\n",
    "# with ThreadPoolExecutor(max_workers=8) as executor:  # Количество рабочих потоков можно настроить\n",
    "#     futures = {executor.submit(process_file, file_path): file_path for file_path in files_to_process}\n",
    "    \n",
    "#     # Ждем завершения всех задач\n",
    "#     for future in concurrent.futures.as_completed(futures):\n",
    "#         file_path = futures[future]\n",
    "#         try:\n",
    "#             data = future.result()\n",
    "#         except Exception as exc:\n",
    "#             print(f'Ошибка при обработке файла {file_path}: {exc}')"
   ]
  },
  {
   "cell_type": "markdown",
   "id": "d05f2b22-3e2a-4c27-b47f-f64bc6498e87",
   "metadata": {},
   "source": [
    "Проверка на адекватность векторной БД"
   ]
  },
  {
   "cell_type": "code",
   "execution_count": 44,
   "id": "1e782ad3-1cff-4c45-953d-2a9882b2f59b",
   "metadata": {
    "scrolled": true
   },
   "outputs": [
    {
     "name": "stdout",
     "output_type": "stream",
     "text": [
      "Индексы похожих документов: [    0     1     2     3     4     5     6     7     8     9    10    11\n",
      "    12    13    14 14932    16    17    18    19    20    21    22    23\n",
      "    24    25    26 14932    28    29]\n"
     ]
    }
   ],
   "source": [
    "index = getVectorDB(vectorDBPath)\n",
    "\n",
    "texts = get_rows_from_csv(textsCsvPath, range(30), index.ntotal)[5][:30]\n",
    "first_30_vectors = model.encode(test_df[5][:30], normalize_embeddings=True)\n",
    "    \n",
    "# Находим соседей для первых 30 векторов в БД\n",
    "D, I = index.search(np.array(first_30_vectors), 12)\n",
    "# Должны быть те же индексы от 0 до 29. То есть те же векторы, для которых искали соседей. (там где не совпадает, это потомучто вместо текста Nan, снизу видно)\n",
    "print(\"Индексы похожих документов:\", I[0:30, 0])\n"
   ]
  },
  {
   "cell_type": "code",
   "execution_count": 45,
   "id": "4cc8b42d-ed4f-4b1e-9557-4fce7ee21050",
   "metadata": {
    "scrolled": true
   },
   "outputs": [
    {
     "data": {
      "text/plain": [
       "0     го тфрид ви льгельм ле йбниц немецкий философ ...\n",
       "1     тит лукре ций кар часто просто лукреций родилс...\n",
       "2     ма ртин лю тер монашеское имя августин ноября ...\n",
       "3     марк авре лий антони апреля рим марта виндобон...\n",
       "4     фри дрих ви льгельм ни цше октября рёккен вайс...\n",
       "5     пармени эле ок ок древнегреческий философ глав...\n",
       "6     пи ндар фивы аргос самых значительных лирическ...\n",
       "7     блез паска ль французский литератор теолог кла...\n",
       "8     пифаго са мосский около годов древнегреческий ...\n",
       "9     плато афинский философ классического периода д...\n",
       "10    протаго ок ок абдер древнегреческий философ ви...\n",
       "11    лу ций анне се ка се ка мла дший просто се ка ...\n",
       "12    сокра около года афины год афины древнегреческ...\n",
       "13    влади мир серге евич соловьёв русский религиоз...\n",
       "14    бенеди кт спино рождении бару спино ноября амс...\n",
       "15                                                  NaN\n",
       "16    ма ртин ха йдеггер сентября месскирх великое г...\n",
       "17    себастье рок никола де шамфо апреля клермон фе...\n",
       "18    фри дрих ви льгельм йозеф ше ллинг немецкий фи...\n",
       "19    карл вильгельм фри дрих фон шле гель ганновер ...\n",
       "20    эмпедо кл ок ок древнегреческий философ врач г...\n",
       "21    дэвид юм родившийся дэвид хоум апреля мая авгу...\n",
       "22    владивосто крупный город порт юге дальнего вос...\n",
       "23    се верное мо ре устар немецкое море мелководно...\n",
       "24    га мбург местн город севере германии как во ль...\n",
       "25    роттерда город община нидерландах расположен п...\n",
       "26    ло ндон столица крупнейший город англии велико...\n",
       "27                                                  NaN\n",
       "28    ленингра название города санкт петербурга года...\n",
       "29    ти хий океа устар великий океан самый большой ...\n",
       "Name: 5, dtype: object"
      ]
     },
     "execution_count": 45,
     "metadata": {},
     "output_type": "execute_result"
    }
   ],
   "source": [
    "texts"
   ]
  },
  {
   "cell_type": "markdown",
   "id": "d934d2c7-335f-499e-b803-3dd045e067ae",
   "metadata": {
    "jp-MarkdownHeadingCollapsed": true
   },
   "source": [
    "## Процесс поиска"
   ]
  },
  {
   "cell_type": "code",
   "execution_count": 29,
   "id": "d42f90f8-2f54-4ae4-98bd-d5618acebec1",
   "metadata": {},
   "outputs": [],
   "source": [
    "index = getVectorDB(vectorDBPath)"
   ]
  },
  {
   "cell_type": "code",
   "execution_count": 30,
   "id": "1f68d371-2ca6-4e76-b46a-56d55ec891eb",
   "metadata": {},
   "outputs": [],
   "source": [
    "query = \"Россия\"\n",
    "queryEmbd = model.encode(query, normalize_embeddings=True)\n",
    "kDocuments = 50"
   ]
  },
  {
   "cell_type": "code",
   "execution_count": 31,
   "id": "3f767e66-a8e9-449d-8fd6-f578eb1aa4d5",
   "metadata": {
    "scrolled": true
   },
   "outputs": [
    {
     "name": "stdout",
     "output_type": "stream",
     "text": [
      "Индексы найденных документов: [12176 12177 14715 11139  6799 11127   426  7109  1382 11421   975  5516\n",
      "  1774  1395  7095  5628 13518  3611  5683   392  7059  2353 10533  2137\n",
      "  4889  6724  5488  5490  5491  5495  5496  1373  5486  2201  5500  2954\n",
      " 13450 10372  5498 10349  4401  6265  5501   370  2949 10357  6437  5518\n",
      "  5532 13253]\n",
      "\n",
      "А вот сами документы:\n",
      "0                      блочков блочкова русская фамилия\n",
      "1                ви шера название рек россии литературе\n",
      "2                                    уфа топоним россии\n",
      "3     русское государство правление василий iii иван...\n",
      "4                         русь правление юрий данилович\n",
      "5     русское государство правление иван iii васильевич\n",
      "6     русское государство правление междуцарствие ро...\n",
      "7          белки бе лки населённые пункты россияукраина\n",
      "8     краснода рский край неофициально кубань субъек...\n",
      "9     российская империя правление пётр алексеевич р...\n",
      "10                             горбачёв русская фамилия\n",
      "11    русское государство правление междуцарствие ск...\n",
      "12    русское государство правление лжедмитрий васил...\n",
      "13     ло коть означать населённые пункты россияукраина\n",
      "14    российская империя правление елизавета петровн...\n",
      "15    русское государство правление борис годунов ро...\n",
      "16    российская империя царствование анна иоановна ...\n",
      "17    российская империя правление анна иоановна род...\n",
      "18    российская империя правление анна иоановна род...\n",
      "19    российская империя правление анна иоановна род...\n",
      "20    российская империя правление пётр ii алексееви...\n",
      "21    российская империя правление пётр ii алексееви...\n",
      "22    российская империя правление екатерина алексее...\n",
      "23    российская империя правление пётр алексеевич р...\n",
      "24    события российская империя правление пётр алек...\n",
      "25    русское государство правление пётр алексеевич ...\n",
      "26    события см также русское государство правление...\n",
      "27    события см также русское государство правление...\n",
      "28    ряза нская бласть субъект российской федерации...\n",
      "29    русское государство правление иван iii василье...\n",
      "30    российская империя правление елизавета петровн...\n",
      "31    российская империя царствование николай павлов...\n",
      "32    белгоро дская бласть неофиц белого рье святое ...\n",
      "33         чулы название географических объектов россии\n",
      "34                                           дмитриевск\n",
      "35                     фокино топоним россии белоруссии\n",
      "36                                            гу рьевск\n",
      "37    нижегоро дская бласть октября года го рьковска...\n",
      "38    волого дская бласть субъект российской федерац...\n",
      "39    респу блика ко ми кратко ко ми субъект российс...\n",
      "40    ви ктор степа нович черномы рдин апреля село ч...\n",
      "41            ме льница населённые пункты россияукраина\n",
      "42           тро ицк название населённых пунктов россии\n",
      "43                             потёмкин русская фамилия\n",
      "44                             важнейшие события россии\n",
      "45                             важнейшие события россии\n",
      "46    отечество вся россия овр российский избиратель...\n",
      "47            гжатск название населённых пунктов россии\n",
      "48                             ро занов русская фамилия\n",
      "49                         междуре ченск топоним россии\n",
      "Name: 5, dtype: object\n"
     ]
    }
   ],
   "source": [
    "D, I = index.search(np.array([queryEmbd]), kDocuments)\n",
    "print(\"Индексы найденных документов:\", I[0])\n",
    "# print(D)\n",
    "print()\n",
    "print(\"А вот сами документы:\")\n",
    "test_df = get_rows_from_csv(textsCsvPath, I[0], index.ntotal)\n",
    "print(test_df[5])"
   ]
  },
  {
   "cell_type": "code",
   "execution_count": null,
   "id": "af9c63e8-ad91-402c-8f08-d56e119d14c5",
   "metadata": {},
   "outputs": [],
   "source": []
  },
  {
   "cell_type": "code",
   "execution_count": null,
   "id": "5baf3c2a-e02e-4fa0-839d-f64cc9892d69",
   "metadata": {},
   "outputs": [],
   "source": []
  },
  {
   "cell_type": "code",
   "execution_count": null,
   "id": "eca61335-ede4-4eea-9e31-542cc4336784",
   "metadata": {},
   "outputs": [],
   "source": []
  },
  {
   "cell_type": "code",
   "execution_count": null,
   "id": "27fbd432-c4be-4229-96b3-c9514efab70f",
   "metadata": {},
   "outputs": [],
   "source": []
  },
  {
   "cell_type": "code",
   "execution_count": null,
   "id": "92fef054-dc95-42cd-9623-c57e94a9c19b",
   "metadata": {},
   "outputs": [],
   "source": []
  },
  {
   "cell_type": "markdown",
   "id": "221a76c6-9b86-4285-b035-4e87c5d1190d",
   "metadata": {
    "jp-MarkdownHeadingCollapsed": true
   },
   "source": [
    "## Примеры использования различных БД для поиска"
   ]
  },
  {
   "cell_type": "code",
   "execution_count": 32,
   "id": "5f4ef9ed-2975-4f8a-9fda-4d8dfd6b3239",
   "metadata": {
    "scrolled": true
   },
   "outputs": [],
   "source": [
    "df_texts, embds = process_wiki_files(\"./data/wiki/AA/wiki_00\")"
   ]
  },
  {
   "cell_type": "code",
   "execution_count": 33,
   "id": "688430e7-736f-44a0-a93e-00bb6eda4679",
   "metadata": {
    "scrolled": true
   },
   "outputs": [
    {
     "data": {
      "text/html": [
       "<div>\n",
       "<style scoped>\n",
       "    .dataframe tbody tr th:only-of-type {\n",
       "        vertical-align: middle;\n",
       "    }\n",
       "\n",
       "    .dataframe tbody tr th {\n",
       "        vertical-align: top;\n",
       "    }\n",
       "\n",
       "    .dataframe thead th {\n",
       "        text-align: right;\n",
       "    }\n",
       "</style>\n",
       "<table border=\"1\" class=\"dataframe\">\n",
       "  <thead>\n",
       "    <tr style=\"text-align: right;\">\n",
       "      <th></th>\n",
       "      <th>article_uuid</th>\n",
       "      <th>url</th>\n",
       "      <th>title</th>\n",
       "      <th>article</th>\n",
       "      <th>proc_article</th>\n",
       "      <th>proc_len</th>\n",
       "    </tr>\n",
       "  </thead>\n",
       "  <tbody>\n",
       "    <tr>\n",
       "      <th>0</th>\n",
       "      <td>0db8c75d-bc63-4894-84cf-b81b61244528</td>\n",
       "      <td>https://ru.wikipedia.org/wiki?curid=4</td>\n",
       "      <td>Базовая статья</td>\n",
       "      <td></td>\n",
       "      <td></td>\n",
       "      <td>1</td>\n",
       "    </tr>\n",
       "    <tr>\n",
       "      <th>1</th>\n",
       "      <td>229fd47a-1930-4abd-921f-d5488fa5ae6c</td>\n",
       "      <td>https://ru.wikipedia.org/wiki?curid=7</td>\n",
       "      <td>Литва</td>\n",
       "      <td>Литва́ ( ), официальное название — Лито́вская ...</td>\n",
       "      <td>литва официальное название лито вская респу бл...</td>\n",
       "      <td>4324</td>\n",
       "    </tr>\n",
       "    <tr>\n",
       "      <th>2</th>\n",
       "      <td>8d5864ac-ca16-482d-bb65-2853a73c2f42</td>\n",
       "      <td>https://ru.wikipedia.org/wiki?curid=9</td>\n",
       "      <td>Россия</td>\n",
       "      <td>Росси́я, или Росси́йская Федера́ция (сокр. РФ)...</td>\n",
       "      <td>росси росси йская федера ция сокр рф государст...</td>\n",
       "      <td>14331</td>\n",
       "    </tr>\n",
       "    <tr>\n",
       "      <th>3</th>\n",
       "      <td>d3007aab-0973-4283-9c43-00ca24b463c4</td>\n",
       "      <td>https://ru.wikipedia.org/wiki?curid=10</td>\n",
       "      <td>Слоновые</td>\n",
       "      <td>Слоно́вые, или слоны́ , — семейство класса мле...</td>\n",
       "      <td>слоно вые слоны семейство класса млекопитающих...</td>\n",
       "      <td>1580</td>\n",
       "    </tr>\n",
       "    <tr>\n",
       "      <th>4</th>\n",
       "      <td>3e760eeb-23e5-4aab-a7bb-0f621f887160</td>\n",
       "      <td>https://ru.wikipedia.org/wiki?curid=11</td>\n",
       "      <td>Мамонты</td>\n",
       "      <td>Ма́монты () — вымерший род млекопитающих отряд...</td>\n",
       "      <td>ма монты вымерший род млекопитающих отряда хоб...</td>\n",
       "      <td>4193</td>\n",
       "    </tr>\n",
       "    <tr>\n",
       "      <th>5</th>\n",
       "      <td>8fbe6299-2675-41a5-a067-c9051c0f5ba6</td>\n",
       "      <td>https://ru.wikipedia.org/wiki?curid=15</td>\n",
       "      <td>Красная книга</td>\n",
       "      <td>Кра́сная кни́га — аннотированный список редких...</td>\n",
       "      <td>кра сная кни га аннотированный список редких н...</td>\n",
       "      <td>806</td>\n",
       "    </tr>\n",
       "    <tr>\n",
       "      <th>6</th>\n",
       "      <td>1c1db8e4-8762-4dd8-9f3b-576a1f07c450</td>\n",
       "      <td>https://ru.wikipedia.org/wiki?curid=16</td>\n",
       "      <td>Соционика</td>\n",
       "      <td>Социо́ника — псевдонаучная концепция типов лич...</td>\n",
       "      <td>социо ника псевдонаучная концепция типов лично...</td>\n",
       "      <td>2121</td>\n",
       "    </tr>\n",
       "    <tr>\n",
       "      <th>7</th>\n",
       "      <td>3ca77c2e-ff1d-45b7-b5df-981b83a059f6</td>\n",
       "      <td>https://ru.wikipedia.org/wiki?curid=18</td>\n",
       "      <td>Школа</td>\n",
       "      <td>Шко́ла (через , из , от  — «досуг») — учебное ...</td>\n",
       "      <td>шко ла досуг учебное заведение получения общег...</td>\n",
       "      <td>1782</td>\n",
       "    </tr>\n",
       "    <tr>\n",
       "      <th>8</th>\n",
       "      <td>af70ba8b-82b7-4f01-9e5a-c95b9034bddd</td>\n",
       "      <td>https://ru.wikipedia.org/wiki?curid=20</td>\n",
       "      <td>Лингвистика</td>\n",
       "      <td>Лингви́стика (от  «язык»), языкозна́ние, языко...</td>\n",
       "      <td>лингви стика язык языкозна ние языкове дение н...</td>\n",
       "      <td>529</td>\n",
       "    </tr>\n",
       "    <tr>\n",
       "      <th>9</th>\n",
       "      <td>4cf782b0-efdf-4573-83ab-4028ebecff25</td>\n",
       "      <td>https://ru.wikipedia.org/wiki?curid=21</td>\n",
       "      <td>Социология</td>\n",
       "      <td>Социоло́гия (от и ) ― наука о совместной жизни...</td>\n",
       "      <td>социоло гия наука совместной жизни групп сообщ...</td>\n",
       "      <td>10390</td>\n",
       "    </tr>\n",
       "    <tr>\n",
       "      <th>10</th>\n",
       "      <td>ccd50786-4869-42c8-b2de-105020c8a4cd</td>\n",
       "      <td>https://ru.wikipedia.org/wiki?curid=27</td>\n",
       "      <td>Киевская Русь</td>\n",
       "      <td>Ки́евская Русь, или Древнеру́сское госуда́рств...</td>\n",
       "      <td>ки евская русь древнеру сское госуда рство дре...</td>\n",
       "      <td>10041</td>\n",
       "    </tr>\n",
       "    <tr>\n",
       "      <th>11</th>\n",
       "      <td>531296c5-569b-4f4f-b23f-75aef08b43b0</td>\n",
       "      <td>https://ru.wikipedia.org/wiki?curid=28</td>\n",
       "      <td>Путь из варяг в греки</td>\n",
       "      <td>Путь «из варя́г в гре́ки» (также Варя́жский пу...</td>\n",
       "      <td>путь варя гре ки также варя жский путь восто ч...</td>\n",
       "      <td>1710</td>\n",
       "    </tr>\n",
       "  </tbody>\n",
       "</table>\n",
       "</div>"
      ],
      "text/plain": [
       "                            article_uuid  \\\n",
       "0   0db8c75d-bc63-4894-84cf-b81b61244528   \n",
       "1   229fd47a-1930-4abd-921f-d5488fa5ae6c   \n",
       "2   8d5864ac-ca16-482d-bb65-2853a73c2f42   \n",
       "3   d3007aab-0973-4283-9c43-00ca24b463c4   \n",
       "4   3e760eeb-23e5-4aab-a7bb-0f621f887160   \n",
       "5   8fbe6299-2675-41a5-a067-c9051c0f5ba6   \n",
       "6   1c1db8e4-8762-4dd8-9f3b-576a1f07c450   \n",
       "7   3ca77c2e-ff1d-45b7-b5df-981b83a059f6   \n",
       "8   af70ba8b-82b7-4f01-9e5a-c95b9034bddd   \n",
       "9   4cf782b0-efdf-4573-83ab-4028ebecff25   \n",
       "10  ccd50786-4869-42c8-b2de-105020c8a4cd   \n",
       "11  531296c5-569b-4f4f-b23f-75aef08b43b0   \n",
       "\n",
       "                                       url                  title  \\\n",
       "0    https://ru.wikipedia.org/wiki?curid=4         Базовая статья   \n",
       "1    https://ru.wikipedia.org/wiki?curid=7                  Литва   \n",
       "2    https://ru.wikipedia.org/wiki?curid=9                 Россия   \n",
       "3   https://ru.wikipedia.org/wiki?curid=10               Слоновые   \n",
       "4   https://ru.wikipedia.org/wiki?curid=11                Мамонты   \n",
       "5   https://ru.wikipedia.org/wiki?curid=15          Красная книга   \n",
       "6   https://ru.wikipedia.org/wiki?curid=16              Соционика   \n",
       "7   https://ru.wikipedia.org/wiki?curid=18                  Школа   \n",
       "8   https://ru.wikipedia.org/wiki?curid=20            Лингвистика   \n",
       "9   https://ru.wikipedia.org/wiki?curid=21             Социология   \n",
       "10  https://ru.wikipedia.org/wiki?curid=27          Киевская Русь   \n",
       "11  https://ru.wikipedia.org/wiki?curid=28  Путь из варяг в греки   \n",
       "\n",
       "                                              article  \\\n",
       "0                                                       \n",
       "1   Литва́ ( ), официальное название — Лито́вская ...   \n",
       "2   Росси́я, или Росси́йская Федера́ция (сокр. РФ)...   \n",
       "3   Слоно́вые, или слоны́ , — семейство класса мле...   \n",
       "4   Ма́монты () — вымерший род млекопитающих отряд...   \n",
       "5   Кра́сная кни́га — аннотированный список редких...   \n",
       "6   Социо́ника — псевдонаучная концепция типов лич...   \n",
       "7   Шко́ла (через , из , от  — «досуг») — учебное ...   \n",
       "8   Лингви́стика (от  «язык»), языкозна́ние, языко...   \n",
       "9   Социоло́гия (от и ) ― наука о совместной жизни...   \n",
       "10  Ки́евская Русь, или Древнеру́сское госуда́рств...   \n",
       "11  Путь «из варя́г в гре́ки» (также Варя́жский пу...   \n",
       "\n",
       "                                         proc_article proc_len  \n",
       "0                                                            1  \n",
       "1   литва официальное название лито вская респу бл...     4324  \n",
       "2   росси росси йская федера ция сокр рф государст...    14331  \n",
       "3   слоно вые слоны семейство класса млекопитающих...     1580  \n",
       "4   ма монты вымерший род млекопитающих отряда хоб...     4193  \n",
       "5   кра сная кни га аннотированный список редких н...      806  \n",
       "6   социо ника псевдонаучная концепция типов лично...     2121  \n",
       "7   шко ла досуг учебное заведение получения общег...     1782  \n",
       "8   лингви стика язык языкозна ние языкове дение н...      529  \n",
       "9   социоло гия наука совместной жизни групп сообщ...    10390  \n",
       "10  ки евская русь древнеру сское госуда рство дре...    10041  \n",
       "11  путь варя гре ки также варя жский путь восто ч...     1710  "
      ]
     },
     "execution_count": 33,
     "metadata": {},
     "output_type": "execute_result"
    }
   ],
   "source": [
    "df_texts"
   ]
  },
  {
   "cell_type": "markdown",
   "id": "97d77997-b021-480f-9fba-a89d84a56d37",
   "metadata": {},
   "source": [
    "### Сохранение в базы данных извлечённых текстов и их эмбеддингов"
   ]
  },
  {
   "cell_type": "markdown",
   "id": "a7f54b79-6c07-4d6c-92bc-3a6d21471168",
   "metadata": {},
   "source": [
    "#### Сохранение/дополнение векторной БД Faiss"
   ]
  },
  {
   "cell_type": "code",
   "execution_count": 34,
   "id": "ba2d5e2e-dd41-47f3-9307-9a5756f3e882",
   "metadata": {},
   "outputs": [],
   "source": [
    "# saveEmbdsToVectorDB(embds, './data/data_bases/vectorDBTest.index')"
   ]
  },
  {
   "cell_type": "markdown",
   "id": "72acfb7c-2de1-4fca-b2c8-5efdb31492b5",
   "metadata": {},
   "source": [
    "#### Чтение из векторной БД Faiss"
   ]
  },
  {
   "cell_type": "code",
   "execution_count": 35,
   "id": "74c21bdc-d897-49da-b75a-10b364cd935d",
   "metadata": {},
   "outputs": [],
   "source": [
    "index = getVectorDB('./data/data_bases/vectorDB.index')"
   ]
  },
  {
   "cell_type": "code",
   "execution_count": 36,
   "id": "9c2f0711-9a32-4bb2-add8-85f7edd34844",
   "metadata": {},
   "outputs": [
    {
     "data": {
      "text/plain": [
       "15035"
      ]
     },
     "execution_count": 36,
     "metadata": {},
     "output_type": "execute_result"
    }
   ],
   "source": [
    "index.ntotal"
   ]
  },
  {
   "cell_type": "markdown",
   "id": "b389b8d5-3f63-4abb-a9ab-7fab5a3d4b0a",
   "metadata": {},
   "source": [
    "### Поиск документов по запросу"
   ]
  },
  {
   "cell_type": "code",
   "execution_count": 37,
   "id": "d14cb68d-4373-4003-898f-e92c1bc62688",
   "metadata": {},
   "outputs": [
    {
     "name": "stdout",
     "output_type": "stream",
     "text": [
      "Индексы похожих документов: [14715 12176 12177   426  6799  7109 11139 11127 11421 13518]\n",
      "\n",
      "А вот сами документы:\n",
      "0                              уфа топоним россии\n",
      "1    чулы название географических объектов россии\n",
      "2                                       гу рьевск\n",
      "3       ме льница населённые пункты россияукраина\n",
      "4      тро ицк название населённых пунктов россии\n",
      "5                        потёмкин русская фамилия\n",
      "6                        важнейшие события россии\n",
      "7                        важнейшие события россии\n",
      "8                        ро занов русская фамилия\n",
      "9                    междуре ченск топоним россии\n",
      "Name: 5, dtype: object\n"
     ]
    }
   ],
   "source": [
    "D, I = index.search(np.array([model.encode(\"россия\", normalize_embeddings=True)]), 10)\n",
    "print(\"Индексы похожих документов:\", I[0])\n",
    "# print(D)\n",
    "print()\n",
    "print(\"А вот сами документы:\")\n",
    "test_df = get_rows_from_csv(textsCsvPath, I[0], index.ntotal)\n",
    "print(test_df[5])"
   ]
  },
  {
   "cell_type": "markdown",
   "id": "b06c6a11-df67-4250-993f-edf996f1580b",
   "metadata": {},
   "source": [
    "### Пример сохранения в текстовую БД"
   ]
  },
  {
   "cell_type": "code",
   "execution_count": 38,
   "id": "9bf7460a-ffd5-4e58-8e9b-192f0f13c537",
   "metadata": {},
   "outputs": [],
   "source": [
    "# addTextsToDB(\"data/data_bases/revertedIndexTextDBTest\", 0, df_texts)"
   ]
  },
  {
   "cell_type": "markdown",
   "id": "3c407f3f-003f-4a44-941c-3c433300d091",
   "metadata": {},
   "source": [
    "### Чтение из текстовой БД"
   ]
  },
  {
   "cell_type": "code",
   "execution_count": 39,
   "id": "cb614117-0866-483a-a7e6-e875f8a7d56b",
   "metadata": {
    "scrolled": true
   },
   "outputs": [],
   "source": [
    "textIndex = getRevertedIndexTextDB(\"data/data_bases/revertedIndexTextDB\")"
   ]
  },
  {
   "cell_type": "markdown",
   "id": "97d5e089-b55b-4d61-8935-52ff22463d17",
   "metadata": {},
   "source": [
    "### Поиски по запросу"
   ]
  },
  {
   "cell_type": "code",
   "execution_count": 40,
   "id": "25e9d686-fe77-49b3-be03-1d62f12cd437",
   "metadata": {
    "scrolled": true
   },
   "outputs": [
    {
     "name": "stdout",
     "output_type": "stream",
     "text": [
      "Получился запрос вида:  content:россия\n",
      "\n",
      "ID документов по результатам текстового поиску обратным индексом: ['10849' '10850' '10861' '9468' '9434' '12079' '10867' '8192' '10855'\n",
      " '908']\n",
      "Значения BM25: ['8.09784968001708' '7.631559273474731' '7.5425688565232845'\n",
      " '6.993329497909029' '6.970867853166101' '6.680234717070014'\n",
      " '6.605632593634342' '6.5571022102496395' '6.442766098981979'\n",
      " '6.371415928511168']\n",
      "\n",
      "А вот названия самих документов:\n",
      "0    праздники памятные дни см также события см так...\n",
      "1    кисло химические соединения способные отдавать...\n",
      "2    львовский национальный университет имени ивана...\n",
      "3    десяти чная дробь разновидность дроби которая ...\n",
      "4    альберт сент дьёрдьи сентября будапешт октября...\n",
      "5    фрирайд свободная езда спуск правило естествен...\n",
      "6    эндрю юр мая глазго шотландия января лондон шо...\n",
      "7    галаха алаха халаха ашкеназ ало хо гало хо тра...\n",
      "8    прогре сс движение вперёд успех направление ра...\n",
      "9    ба бушкин года мы совск город районного значен...\n",
      "Name: 5, dtype: object\n"
     ]
    }
   ],
   "source": [
    "query = \"россия\"\n",
    "k = 10\n",
    "\n",
    "resulsIdAndBm25 = textSearch_with_bm25_ranking(query, \"data/data_bases/revertedIndexTextDB\")\n",
    "print()\n",
    "print(\"ID документов по результатам текстового поиску обратным индексом:\", resulsIdAndBm25[:k,0])\n",
    "print(\"Значения BM25:\", resulsIdAndBm25[:,1])\n",
    "\n",
    "print()\n",
    "print(\"А вот названия самих документов:\")\n",
    "test_df = get_rows_from_csv(textsCsvPath, [int(id) for id in resulsIdAndBm25[:k,0]], index.ntotal)\n",
    "print(test_df[5])"
   ]
  },
  {
   "cell_type": "code",
   "execution_count": 41,
   "id": "c35dd391-f423-4186-b817-b317ceedc267",
   "metadata": {},
   "outputs": [
    {
     "name": "stdout",
     "output_type": "stream",
     "text": [
      "Получился запрос вида:  content:русь\n",
      "\n",
      "ID документы по результатам текстового поиску обратным индексом: ['649' '7188' '879' '8275' '4228' '4265' '4266' '4267' '4268' '4283']\n",
      "Значения BM25: ['8.975858721012742' '8.931509280655012' '7.6977715785940095'\n",
      " '7.6977715785940095' '7.6733597979402015' '7.6733597979402015'\n",
      " '7.6733597979402015' '7.6733597979402015' '7.6733597979402015'\n",
      " '7.6733597979402015']\n",
      "\n",
      "А вот названия самих документов:\n",
      "0                                                  NaN\n",
      "1                                                  NaN\n",
      "2                родились см также скончались см также\n",
      "3                родились см также скончались см также\n",
      "4                родились см также скончались см также\n",
      "5                родились см также скончались см также\n",
      "6                родились см также скончались см также\n",
      "7                родились см также скончались см также\n",
      "8    имму нная систе ма система биологических струк...\n",
      "9    ваа гн вахагн древнеармянской мифологии бог ог...\n",
      "Name: 5, dtype: object\n"
     ]
    }
   ],
   "source": [
    "query = \"русь\"\n",
    "k = 10\n",
    "\n",
    "resulsIdAndBm25 = textSearch_with_bm25_ranking(query, \"data/data_bases/revertedIndexTextDB\")\n",
    "print()\n",
    "print(\"ID документы по результатам текстового поиску обратным индексом:\", resulsIdAndBm25[:k,0])\n",
    "print(\"Значения BM25:\", resulsIdAndBm25[:,1])\n",
    "\n",
    "print()\n",
    "print(\"А вот названия самих документов:\")\n",
    "test_df = get_rows_from_csv(textsCsvPath, [int(id) for id in resulsIdAndBm25[:k,0]], index.ntotal)\n",
    "print(test_df[5])"
   ]
  },
  {
   "cell_type": "code",
   "execution_count": null,
   "id": "48d65d74-eab9-4734-b155-9f53db066af7",
   "metadata": {},
   "outputs": [],
   "source": []
  },
  {
   "cell_type": "code",
   "execution_count": null,
   "id": "cb402253-689a-4ad2-a1aa-8d072e6e6019",
   "metadata": {},
   "outputs": [],
   "source": []
  },
  {
   "cell_type": "code",
   "execution_count": null,
   "id": "d5775b3d-9428-4249-9a88-48bca111cdff",
   "metadata": {},
   "outputs": [],
   "source": []
  },
  {
   "cell_type": "code",
   "execution_count": null,
   "id": "a9c693fd-1fde-4af0-8b80-6f16078d54a4",
   "metadata": {},
   "outputs": [],
   "source": []
  },
  {
   "cell_type": "code",
   "execution_count": null,
   "id": "b70befb6-5037-4e5c-a8ff-00850c28f619",
   "metadata": {},
   "outputs": [],
   "source": []
  },
  {
   "cell_type": "markdown",
   "id": "10d4fbf5-4eac-4dc9-a4e0-d0f7bd1e1b2d",
   "metadata": {},
   "source": [
    "# Итог\n",
    "\n",
    "### Что имеем.\n",
    "\n",
    "У нас есть архив(ы) со страницами с википедии, из которых мы составляем:\n",
    "1) Векторную БД (Faiss)\n",
    "2) Тестовую БД, работающую на обратном индексе (библиотека Whoosh, которая работает по принципу Lucene)\n",
    "3) csv файл, в котором хранятся все спаршенные страницы\n",
    "\n",
    "Пока что всё таким образом (храним лишнюю csv, которая к тому же содержит полные тексты документов), потому что только начинаем разрабать и тестировать поисковик. Поэтому нужно от этого будет избавиться и сделать всё эффективнее.\n",
    "\n",
    "\n",
    "\n",
    "**Как сейчас ведётся поиск**.\n",
    "1) Получаем текстовый запрос\n",
    "2) Переводим его в вектор\n",
    "3) Находим k документов из векторной БД, которые наибольшим образом похожи на запрос\n",
    "\n",
    "### Что нужно сделать дальше\n",
    "\n",
    "Нужно как-то отранжировать полученные k документов из векторной БД. \n",
    "\n",
    "Моё изначальное предложение было - отранжировать текстово с использованием алгоритма BM25. Можно так и сделать. \n",
    "\n",
    "Или же предлагайте новые варианты."
   ]
  }
 ],
 "metadata": {
  "kernelspec": {
   "display_name": "Python 3 (ipykernel)",
   "language": "python",
   "name": "python3"
  },
  "language_info": {
   "codemirror_mode": {
    "name": "ipython",
    "version": 3
   },
   "file_extension": ".py",
   "mimetype": "text/x-python",
   "name": "python",
   "nbconvert_exporter": "python",
   "pygments_lexer": "ipython3",
   "version": "3.10.12"
  }
 },
 "nbformat": 4,
 "nbformat_minor": 5
}
