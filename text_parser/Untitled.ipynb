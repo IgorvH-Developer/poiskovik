{
 "cells": [
  {
   "cell_type": "markdown",
   "id": "3bfc5f95-6c37-4d92-a272-50265c302ef7",
   "metadata": {},
   "source": [
    "### Извлечение текстов википедии из архива"
   ]
  },
  {
   "cell_type": "code",
   "execution_count": 1,
   "id": "60d4bbb5-8db4-44d4-9604-6d086b92423e",
   "metadata": {},
   "outputs": [],
   "source": [
    "#!pip install wikiextractor"
   ]
  },
  {
   "cell_type": "code",
   "execution_count": 1,
   "id": "425c8139-b552-4351-a63b-c8532c258fd2",
   "metadata": {},
   "outputs": [],
   "source": [
    "import wikiextractor"
   ]
  },
  {
   "cell_type": "code",
   "execution_count": null,
   "id": "0e1b2c54-51bc-4067-a00e-1d10b6703896",
   "metadata": {},
   "outputs": [],
   "source": [
    "# !wget http://dumps.wikimedia.org/ruwiki/latest/ruwiki-latest-pages-articles.xml.bz2"
   ]
  },
  {
   "cell_type": "code",
   "execution_count": 1,
   "id": "bef20572-0079-42b4-b1ca-738aecb7e0b2",
   "metadata": {
    "scrolled": true
   },
   "outputs": [],
   "source": [
    "# !python3 -m wikiextractor.WikiExtractor -o ./data/wiki/ --no-templates --processes 8 ./uwiki-latest-pages-articles.xml.bz2"
   ]
  },
  {
   "cell_type": "code",
   "execution_count": 2,
   "id": "562a904e-8127-481a-a1ad-64dee5b9f47c",
   "metadata": {},
   "outputs": [],
   "source": [
    "# !python3 -m wikiextractor.extractPage -o ./data/wiki/ --no-templates --processes 8 ./ruwiki-latest-pages-articles.xml.bz2"
   ]
  },
  {
   "cell_type": "code",
   "execution_count": null,
   "id": "6558d057-4e76-495b-af56-6dc8a83c982c",
   "metadata": {},
   "outputs": [],
   "source": []
  },
  {
   "cell_type": "markdown",
   "id": "61ffcaf7-9a44-4519-8257-98c046f5a68b",
   "metadata": {},
   "source": [
    "### Парсинг текстов википедии"
   ]
  },
  {
   "cell_type": "code",
   "execution_count": 3,
   "id": "6c2766ab-694d-49f3-912c-f96b16ba06fe",
   "metadata": {
    "scrolled": true
   },
   "outputs": [
    {
     "name": "stderr",
     "output_type": "stream",
     "text": [
      "/tmp/ipykernel_10530/2444389373.py:7: DeprecationWarning: \n",
      "Pyarrow will become a required dependency of pandas in the next major release of pandas (pandas 3.0),\n",
      "(to allow more performant data types, such as the Arrow string type, and better interoperability with other libraries)\n",
      "but was not found to be installed on your system.\n",
      "If this would cause problems for you,\n",
      "please provide us feedback at https://github.com/pandas-dev/pandas/issues/54466\n",
      "        \n",
      "  import pandas as pd\n",
      "/home/hlopin/.local/lib/python3.10/site-packages/sentence_transformers/cross_encoder/CrossEncoder.py:13: TqdmExperimentalWarning: Using `tqdm.autonotebook.tqdm` in notebook mode. Use `tqdm.tqdm` instead to force console mode (e.g. in jupyter console)\n",
      "  from tqdm.autonotebook import tqdm, trange\n",
      "2024-10-23 08:30:13.356784: I tensorflow/core/platform/cpu_feature_guard.cc:193] This TensorFlow binary is optimized with oneAPI Deep Neural Network Library (oneDNN) to use the following CPU instructions in performance-critical operations:  AVX2 AVX512F AVX512_VNNI FMA\n",
      "To enable them in other operations, rebuild TensorFlow with the appropriate compiler flags.\n",
      "2024-10-23 08:30:13.535994: I tensorflow/core/util/port.cc:104] oneDNN custom operations are on. You may see slightly different numerical results due to floating-point round-off errors from different computation orders. To turn them off, set the environment variable `TF_ENABLE_ONEDNN_OPTS=0`.\n",
      "2024-10-23 08:30:13.562856: W tensorflow/compiler/xla/stream_executor/platform/default/dso_loader.cc:64] Could not load dynamic library 'libcudart.so.11.0'; dlerror: libcudart.so.11.0: cannot open shared object file: No such file or directory\n",
      "2024-10-23 08:30:13.562868: I tensorflow/compiler/xla/stream_executor/cuda/cudart_stub.cc:29] Ignore above cudart dlerror if you do not have a GPU set up on your machine.\n",
      "2024-10-23 08:30:15.948618: W tensorflow/compiler/xla/stream_executor/platform/default/dso_loader.cc:64] Could not load dynamic library 'libnvinfer.so.7'; dlerror: libnvinfer.so.7: cannot open shared object file: No such file or directory\n",
      "2024-10-23 08:30:15.948933: W tensorflow/compiler/xla/stream_executor/platform/default/dso_loader.cc:64] Could not load dynamic library 'libnvinfer_plugin.so.7'; dlerror: libnvinfer_plugin.so.7: cannot open shared object file: No such file or directory\n",
      "2024-10-23 08:30:15.948938: W tensorflow/compiler/tf2tensorrt/utils/py_utils.cc:38] TF-TRT Warning: Cannot dlopen some TensorRT libraries. If you would like to use Nvidia GPU with TensorRT, please make sure the missing libraries mentioned above are installed properly.\n",
      "[nltk_data] Downloading package punkt_tab to /home/hlopin/nltk_data...\n",
      "[nltk_data]   Package punkt_tab is already up-to-date!\n",
      "[nltk_data] Downloading package stopwords to /home/hlopin/nltk_data...\n",
      "[nltk_data]   Package stopwords is already up-to-date!\n"
     ]
    },
    {
     "data": {
      "text/plain": [
       "True"
      ]
     },
     "execution_count": 3,
     "metadata": {},
     "output_type": "execute_result"
    }
   ],
   "source": [
    "import os\n",
    "import re\n",
    "import sys\n",
    "import glob\n",
    "import gensim\n",
    "import numpy as np\n",
    "import pandas as pd\n",
    "from tqdm import tqdm\n",
    "from uuid import uuid4\n",
    "from functools import reduce\n",
    "from multiprocessing import Pool\n",
    "from sentence_transformers import SentenceTransformer\n",
    "import faiss\n",
    "import nltk\n",
    "nltk.download('punkt_tab')\n",
    "from nltk.corpus import stopwords\n",
    "nltk.download('stopwords')\n",
    "\n"
   ]
  },
  {
   "cell_type": "code",
   "execution_count": 42,
   "id": "ac96ed9b-4956-4cda-9457-f88c5b298e38",
   "metadata": {},
   "outputs": [
    {
     "name": "stderr",
     "output_type": "stream",
     "text": [
      "/home/hlopin/.local/lib/python3.10/site-packages/transformers/tokenization_utils_base.py:1617: FutureWarning: `clean_up_tokenization_spaces` was not set. It will be set to `True` by default. This behavior will be deprecated in transformers v4.45, and will be then set to `False` by default. For more details check this issue: https://github.com/huggingface/transformers/issues/31884\n",
      "  warnings.warn(\n"
     ]
    }
   ],
   "source": [
    "def _remove_non_printed_chars(string):\n",
    "    reg = re.compile('[^a-zA-Zа-яА-ЯёЁ]')\n",
    "    return reg.sub(' ', string)\n",
    "\n",
    "def _remove_stop_words(string,sw=[]):\n",
    "    return ' '.join([word if word not in sw else '' \\\n",
    "                     for word in string.strip().split(' ')])\n",
    "\n",
    "def _trim_string(string):\n",
    "    # remove extra spaces, remove trailing spaces, lower the case \n",
    "    return re.sub('\\s+',' ',string).strip().lower()\n",
    "    \n",
    "def clean_string(string,\n",
    "                 stop_words_list,\n",
    "                 min_len=2,\n",
    "                 max_len=30):\n",
    "\n",
    "    string = _remove_non_printed_chars(string)\n",
    "    string = _remove_stop_words(string,stop_words_list)\n",
    "    string = _trim_string(string)\n",
    "    # also remove short words, most likely containing addresses / crap / left-overs / etc remaining after removal\n",
    "    # gensim mostly does the same as above, it is used here for simplicity\n",
    "    string = ' '.join(gensim.utils.simple_preprocess(string,\n",
    "                                                     min_len=min_len,\n",
    "                                                     max_len=max_len))\n",
    "    return string\n",
    "    \n",
    "def remove_html_tags(text):\n",
    "    \"\"\"Remove html tags from a string\"\"\"\n",
    "    import re\n",
    "    clean = re.compile('<.*?>')\n",
    "    return re.sub(clean, '', text)\n",
    "    \n",
    "def remove_special_chars(text,char_list):\n",
    "    for char in char_list:\n",
    "        text=text.replace(char,'')\n",
    "    return text.replace(u'\\xa0', u' ')\n",
    "\n",
    "def splitkeepsep(s, sep):\n",
    "    cleaned = []\n",
    "    s = re.split(\"(%s)\" % re.escape(sep), s)\n",
    "    for _ in s:\n",
    "        if _!='' and _!=sep:\n",
    "            cleaned.append(sep+_)\n",
    "    return cleaned\n",
    "\n",
    "def extract_url(text):\n",
    "    pattern = 'http([^\"]+)'\n",
    "    match = re.search(pattern, text)\n",
    "    if match:\n",
    "        url = match.group(0)\n",
    "        return url\n",
    "    else:\n",
    "        return \"\"\n",
    "\n",
    "model = SentenceTransformer(\"sentence-transformers/paraphrase-multilingual-mpnet-base-v2\")\n",
    "# Функция для создания векторов\n",
    "def create_vector(text):\n",
    "    return model.encode(text, normalize_embeddings=True)\n",
    "    \n",
    "def process_wiki_files(wiki_file):\n",
    "    chars = ['\\n']\n",
    "    global sw\n",
    "\n",
    "    with open(wiki_file, encoding='utf-8') as f:\n",
    "        content = f.read()\n",
    "\n",
    "    articles = splitkeepsep(content,'<doc id=')\n",
    "    df_texts = pd.DataFrame(columns=['article_uuid','url', 'title', 'article','proc_article','proc_len'])\n",
    "    emds = []\n",
    "    \n",
    "    for article in articles:\n",
    "        uuid_text = uuid4()\n",
    "        uuid_embd = uuid4()\n",
    "\n",
    "        url = extract_url(article)\n",
    "\n",
    "        article = remove_html_tags(article)\n",
    "\n",
    "        titleIndex = article.find('\\n\\n')\n",
    "        title = article[1:article.find('\\n\\n')]\n",
    "        \n",
    "        article = remove_special_chars(article[titleIndex:], chars)        \n",
    "\n",
    "        proc_article = clean_string(article,sw)\n",
    "        proc_len = len(proc_article.split(' '))\n",
    "\n",
    "        temp_df_texts = pd.DataFrame(\n",
    "            {'article_uuid': [uuid_text],\n",
    "             'url': url,\n",
    "             'title': title,\n",
    "             'article': article,\n",
    "             'proc_article':proc_article,\n",
    "             'proc_len':proc_len\n",
    "            })\n",
    "        df_texts = pd.concat([df_texts, temp_df_texts], ignore_index=True)\n",
    "\n",
    "        emb = create_vector(article)\n",
    "        emds.append(emb)\n",
    "    \n",
    "    return df_texts, np.array(emds)\n",
    "\n",
    "sw_en = set(stopwords.words('english'))\n",
    "sw_ru = set(stopwords.words('russian'))\n",
    "sw = list(sw_ru.union(sw_en))  "
   ]
  },
  {
   "cell_type": "code",
   "execution_count": 43,
   "id": "5f4ef9ed-2975-4f8a-9fda-4d8dfd6b3239",
   "metadata": {
    "scrolled": true
   },
   "outputs": [],
   "source": [
    "df_texts, embds = process_wiki_files(\"./data/wiki/AA/wiki_00\")"
   ]
  },
  {
   "cell_type": "code",
   "execution_count": 44,
   "id": "688430e7-736f-44a0-a93e-00bb6eda4679",
   "metadata": {
    "scrolled": true
   },
   "outputs": [
    {
     "data": {
      "text/html": [
       "<div>\n",
       "<style scoped>\n",
       "    .dataframe tbody tr th:only-of-type {\n",
       "        vertical-align: middle;\n",
       "    }\n",
       "\n",
       "    .dataframe tbody tr th {\n",
       "        vertical-align: top;\n",
       "    }\n",
       "\n",
       "    .dataframe thead th {\n",
       "        text-align: right;\n",
       "    }\n",
       "</style>\n",
       "<table border=\"1\" class=\"dataframe\">\n",
       "  <thead>\n",
       "    <tr style=\"text-align: right;\">\n",
       "      <th></th>\n",
       "      <th>article_uuid</th>\n",
       "      <th>url</th>\n",
       "      <th>title</th>\n",
       "      <th>article</th>\n",
       "      <th>proc_article</th>\n",
       "      <th>proc_len</th>\n",
       "    </tr>\n",
       "  </thead>\n",
       "  <tbody>\n",
       "    <tr>\n",
       "      <th>0</th>\n",
       "      <td>b6383dcc-931d-442e-b5f3-dab1ba0343a9</td>\n",
       "      <td>https://ru.wikipedia.org/wiki?curid=4</td>\n",
       "      <td>Базовая статья</td>\n",
       "      <td></td>\n",
       "      <td></td>\n",
       "      <td>1</td>\n",
       "    </tr>\n",
       "    <tr>\n",
       "      <th>1</th>\n",
       "      <td>8fe1a15c-21bd-4993-a901-3e41135ef791</td>\n",
       "      <td>https://ru.wikipedia.org/wiki?curid=7</td>\n",
       "      <td>Литва</td>\n",
       "      <td>Литва́ ( ), официальное название — Лито́вская ...</td>\n",
       "      <td>литва официальное название лито вская респу бл...</td>\n",
       "      <td>4324</td>\n",
       "    </tr>\n",
       "    <tr>\n",
       "      <th>2</th>\n",
       "      <td>4bbf0acb-9f69-49cf-9388-b4792c3189c8</td>\n",
       "      <td>https://ru.wikipedia.org/wiki?curid=9</td>\n",
       "      <td>Россия</td>\n",
       "      <td>Росси́я, или Росси́йская Федера́ция (сокр. РФ)...</td>\n",
       "      <td>росси росси йская федера ция сокр рф государст...</td>\n",
       "      <td>14331</td>\n",
       "    </tr>\n",
       "    <tr>\n",
       "      <th>3</th>\n",
       "      <td>2d04b126-6330-4e24-95a0-d9fbe4fdcf64</td>\n",
       "      <td>https://ru.wikipedia.org/wiki?curid=10</td>\n",
       "      <td>Слоновые</td>\n",
       "      <td>Слоно́вые, или слоны́ , — семейство класса мле...</td>\n",
       "      <td>слоно вые слоны семейство класса млекопитающих...</td>\n",
       "      <td>1580</td>\n",
       "    </tr>\n",
       "    <tr>\n",
       "      <th>4</th>\n",
       "      <td>3bd8db83-32be-43f8-8676-72bcd81ed838</td>\n",
       "      <td>https://ru.wikipedia.org/wiki?curid=11</td>\n",
       "      <td>Мамонты</td>\n",
       "      <td>Ма́монты () — вымерший род млекопитающих отряд...</td>\n",
       "      <td>ма монты вымерший род млекопитающих отряда хоб...</td>\n",
       "      <td>4193</td>\n",
       "    </tr>\n",
       "    <tr>\n",
       "      <th>5</th>\n",
       "      <td>7b5973c1-2f60-4d38-9c8a-1d3979395dd4</td>\n",
       "      <td>https://ru.wikipedia.org/wiki?curid=15</td>\n",
       "      <td>Красная книга</td>\n",
       "      <td>Кра́сная кни́га — аннотированный список редких...</td>\n",
       "      <td>кра сная кни га аннотированный список редких н...</td>\n",
       "      <td>806</td>\n",
       "    </tr>\n",
       "    <tr>\n",
       "      <th>6</th>\n",
       "      <td>b2f85c5f-8e0a-4a4a-baa6-470406bf6be5</td>\n",
       "      <td>https://ru.wikipedia.org/wiki?curid=16</td>\n",
       "      <td>Соционика</td>\n",
       "      <td>Социо́ника — псевдонаучная концепция типов лич...</td>\n",
       "      <td>социо ника псевдонаучная концепция типов лично...</td>\n",
       "      <td>2121</td>\n",
       "    </tr>\n",
       "    <tr>\n",
       "      <th>7</th>\n",
       "      <td>0c1a96c8-20f2-49c1-a274-f4ac373da379</td>\n",
       "      <td>https://ru.wikipedia.org/wiki?curid=18</td>\n",
       "      <td>Школа</td>\n",
       "      <td>Шко́ла (через , из , от  — «досуг») — учебное ...</td>\n",
       "      <td>шко ла досуг учебное заведение получения общег...</td>\n",
       "      <td>1782</td>\n",
       "    </tr>\n",
       "    <tr>\n",
       "      <th>8</th>\n",
       "      <td>c26ea9e1-722b-44c3-b4a8-908faf7678bf</td>\n",
       "      <td>https://ru.wikipedia.org/wiki?curid=20</td>\n",
       "      <td>Лингвистика</td>\n",
       "      <td>Лингви́стика (от  «язык»), языкозна́ние, языко...</td>\n",
       "      <td>лингви стика язык языкозна ние языкове дение н...</td>\n",
       "      <td>529</td>\n",
       "    </tr>\n",
       "    <tr>\n",
       "      <th>9</th>\n",
       "      <td>ea192340-6def-4b5b-946b-c1ded85a409a</td>\n",
       "      <td>https://ru.wikipedia.org/wiki?curid=21</td>\n",
       "      <td>Социология</td>\n",
       "      <td>Социоло́гия (от и ) ― наука о совместной жизни...</td>\n",
       "      <td>социоло гия наука совместной жизни групп сообщ...</td>\n",
       "      <td>10390</td>\n",
       "    </tr>\n",
       "    <tr>\n",
       "      <th>10</th>\n",
       "      <td>baebea9a-96af-4afe-b540-b2dadcca68fd</td>\n",
       "      <td>https://ru.wikipedia.org/wiki?curid=27</td>\n",
       "      <td>Киевская Русь</td>\n",
       "      <td>Ки́евская Русь, или Древнеру́сское госуда́рств...</td>\n",
       "      <td>ки евская русь древнеру сское госуда рство дре...</td>\n",
       "      <td>10041</td>\n",
       "    </tr>\n",
       "    <tr>\n",
       "      <th>11</th>\n",
       "      <td>386916e5-85a8-47ba-a1cd-ada486a9ef05</td>\n",
       "      <td>https://ru.wikipedia.org/wiki?curid=28</td>\n",
       "      <td>Путь из варяг в греки</td>\n",
       "      <td>Путь «из варя́г в гре́ки» (также Варя́жский пу...</td>\n",
       "      <td>путь варя гре ки также варя жский путь восто ч...</td>\n",
       "      <td>1710</td>\n",
       "    </tr>\n",
       "  </tbody>\n",
       "</table>\n",
       "</div>"
      ],
      "text/plain": [
       "                            article_uuid  \\\n",
       "0   b6383dcc-931d-442e-b5f3-dab1ba0343a9   \n",
       "1   8fe1a15c-21bd-4993-a901-3e41135ef791   \n",
       "2   4bbf0acb-9f69-49cf-9388-b4792c3189c8   \n",
       "3   2d04b126-6330-4e24-95a0-d9fbe4fdcf64   \n",
       "4   3bd8db83-32be-43f8-8676-72bcd81ed838   \n",
       "5   7b5973c1-2f60-4d38-9c8a-1d3979395dd4   \n",
       "6   b2f85c5f-8e0a-4a4a-baa6-470406bf6be5   \n",
       "7   0c1a96c8-20f2-49c1-a274-f4ac373da379   \n",
       "8   c26ea9e1-722b-44c3-b4a8-908faf7678bf   \n",
       "9   ea192340-6def-4b5b-946b-c1ded85a409a   \n",
       "10  baebea9a-96af-4afe-b540-b2dadcca68fd   \n",
       "11  386916e5-85a8-47ba-a1cd-ada486a9ef05   \n",
       "\n",
       "                                       url                  title  \\\n",
       "0    https://ru.wikipedia.org/wiki?curid=4         Базовая статья   \n",
       "1    https://ru.wikipedia.org/wiki?curid=7                  Литва   \n",
       "2    https://ru.wikipedia.org/wiki?curid=9                 Россия   \n",
       "3   https://ru.wikipedia.org/wiki?curid=10               Слоновые   \n",
       "4   https://ru.wikipedia.org/wiki?curid=11                Мамонты   \n",
       "5   https://ru.wikipedia.org/wiki?curid=15          Красная книга   \n",
       "6   https://ru.wikipedia.org/wiki?curid=16              Соционика   \n",
       "7   https://ru.wikipedia.org/wiki?curid=18                  Школа   \n",
       "8   https://ru.wikipedia.org/wiki?curid=20            Лингвистика   \n",
       "9   https://ru.wikipedia.org/wiki?curid=21             Социология   \n",
       "10  https://ru.wikipedia.org/wiki?curid=27          Киевская Русь   \n",
       "11  https://ru.wikipedia.org/wiki?curid=28  Путь из варяг в греки   \n",
       "\n",
       "                                              article  \\\n",
       "0                                                       \n",
       "1   Литва́ ( ), официальное название — Лито́вская ...   \n",
       "2   Росси́я, или Росси́йская Федера́ция (сокр. РФ)...   \n",
       "3   Слоно́вые, или слоны́ , — семейство класса мле...   \n",
       "4   Ма́монты () — вымерший род млекопитающих отряд...   \n",
       "5   Кра́сная кни́га — аннотированный список редких...   \n",
       "6   Социо́ника — псевдонаучная концепция типов лич...   \n",
       "7   Шко́ла (через , из , от  — «досуг») — учебное ...   \n",
       "8   Лингви́стика (от  «язык»), языкозна́ние, языко...   \n",
       "9   Социоло́гия (от и ) ― наука о совместной жизни...   \n",
       "10  Ки́евская Русь, или Древнеру́сское госуда́рств...   \n",
       "11  Путь «из варя́г в гре́ки» (также Варя́жский пу...   \n",
       "\n",
       "                                         proc_article proc_len  \n",
       "0                                                            1  \n",
       "1   литва официальное название лито вская респу бл...     4324  \n",
       "2   росси росси йская федера ция сокр рф государст...    14331  \n",
       "3   слоно вые слоны семейство класса млекопитающих...     1580  \n",
       "4   ма монты вымерший род млекопитающих отряда хоб...     4193  \n",
       "5   кра сная кни га аннотированный список редких н...      806  \n",
       "6   социо ника псевдонаучная концепция типов лично...     2121  \n",
       "7   шко ла досуг учебное заведение получения общег...     1782  \n",
       "8   лингви стика язык языкозна ние языкове дение н...      529  \n",
       "9   социоло гия наука совместной жизни групп сообщ...    10390  \n",
       "10  ки евская русь древнеру сское госуда рство дре...    10041  \n",
       "11  путь варя гре ки также варя жский путь восто ч...     1710  "
      ]
     },
     "execution_count": 44,
     "metadata": {},
     "output_type": "execute_result"
    }
   ],
   "source": [
    "df_texts"
   ]
  },
  {
   "cell_type": "markdown",
   "id": "97d77997-b021-480f-9fba-a89d84a56d37",
   "metadata": {},
   "source": [
    "### Сохранение в базы данных извлечённых текстов и их эмбеддингов"
   ]
  },
  {
   "cell_type": "code",
   "execution_count": 45,
   "id": "ba2d5e2e-dd41-47f3-9307-9a5756f3e882",
   "metadata": {},
   "outputs": [],
   "source": [
    "index = faiss.IndexFlatL2(embds.shape[1])\n",
    "index = faiss.IndexIDMap(index)\n",
    "index.add_with_ids(embds, np.arange(embds.shape[0]))\n",
    "faiss.write_index(index, './data/data_bases/vectorDB.index')\n",
    "\n",
    "# index = faiss.read_index('./data/data_bases/vectorDB.index')\n",
    "# index.add_with_ids(embds, np.arange(index.ntotal, index.ntotal + embds.shape[0]))"
   ]
  },
  {
   "cell_type": "code",
   "execution_count": 46,
   "id": "9c2f0711-9a32-4bb2-add8-85f7edd34844",
   "metadata": {},
   "outputs": [
    {
     "data": {
      "text/plain": [
       "12"
      ]
     },
     "execution_count": 46,
     "metadata": {},
     "output_type": "execute_result"
    }
   ],
   "source": [
    "index.ntotal"
   ]
  },
  {
   "cell_type": "code",
   "execution_count": 47,
   "id": "75de2a0a-a812-40fa-b8fd-5037d83fa3d5",
   "metadata": {},
   "outputs": [],
   "source": [
    "# df = pd.read_csv('./data/data_bases/texts.csv')\n",
    "\n",
    "df_texts.to_csv('./data/data_bases/texts.csv')"
   ]
  },
  {
   "cell_type": "code",
   "execution_count": null,
   "id": "998c7fb3-71bf-4346-9ac4-1ad67944f924",
   "metadata": {},
   "outputs": [],
   "source": []
  },
  {
   "cell_type": "code",
   "execution_count": 49,
   "id": "8dc7ace1-a402-4b3c-92bc-763cf672fa8d",
   "metadata": {
    "scrolled": true
   },
   "outputs": [
    {
     "name": "stdout",
     "output_type": "stream",
     "text": [
      "[[ 0  7  5  6  8  9  2  3 10  4 11  1]\n",
      " [ 1  2 10 11  9  8  7  6  4  5  3  0]\n",
      " [ 2 10  1 11  9  6  7  8  5  3  4  0]\n",
      " [ 3  4  5  6  2  9  1 10  8 11  0  7]\n",
      " [ 4  3  5 11  6 10  1  8  9  2  0  7]\n",
      " [ 5  8  4 10  3  6  9  2 11  7  0  1]\n",
      " [ 6  9  8  7  4 10  5  2  1  3 11  0]\n",
      " [ 7  9  8 10  6 11  1  2  5  0  3  4]\n",
      " [ 8  9  6  7  5 10  1 11  2  4  3  0]\n",
      " [ 9  6  8  7 10  2  1  5 11  3  4  0]\n",
      " [10  2  1 11  7  9  8  6  5  4  3  0]\n",
      " [11  1 10  2  4  7  8  5  9  6  3  0]]\n",
      "[[0.         1.6379321  1.6442382  1.7530906  1.7694647  1.7886138\n",
      "  1.8080661  1.8177005  1.8480195  1.8711685  1.8768388  1.9604853 ]\n",
      " [0.         0.85813534 0.9918479  1.0138543  1.4557984  1.484049\n",
      "  1.5230228  1.5419474  1.6003543  1.6876879  1.6906862  1.9604853 ]\n",
      " [0.         0.657748   0.85813534 1.3083986  1.4509708  1.5268611\n",
      "  1.547735   1.5533986  1.5871501  1.6233325  1.6727228  1.8080661 ]\n",
      " [0.         0.49328583 1.5071831  1.6006911  1.6233325  1.6362447\n",
      "  1.6906862  1.70244    1.7094092  1.7322085  1.8177005  1.9011705 ]\n",
      " [0.         0.49328583 1.3410586  1.3460572  1.4116671  1.5426385\n",
      "  1.6003543  1.6219958  1.6408122  1.6727228  1.8711685  1.9069015 ]\n",
      " [0.         1.2965941  1.3410586  1.4394535  1.5071831  1.5250049\n",
      "  1.5708417  1.5871501  1.5999608  1.6296179  1.6442382  1.6876879 ]\n",
      " [0.         0.49768454 1.1211517  1.2742364  1.4116671  1.4354813\n",
      "  1.5250049  1.5268611  1.5419474  1.6006911  1.6088953  1.7530906 ]\n",
      " [0.         1.126765   1.1784219  1.238394   1.2742364  1.3621264\n",
      "  1.5230228  1.547735   1.6296179  1.6379321  1.9011705  1.9069015 ]\n",
      " [0.         1.0804031  1.1211517  1.1784219  1.2965941  1.4119598\n",
      "  1.484049   1.5317731  1.5533986  1.6219958  1.7094092  1.7694647 ]\n",
      " [0.         0.49768454 1.0804031  1.126765   1.3849872  1.4509708\n",
      "  1.4557984  1.5708417  1.6069958  1.6362447  1.6408122  1.7886138 ]\n",
      " [0.         0.657748   0.9918479  1.0739481  1.238394   1.3849872\n",
      "  1.4119598  1.4354813  1.4394535  1.5426385  1.70244    1.8480195 ]\n",
      " [0.         1.0138543  1.0739481  1.3083986  1.3460572  1.3621264\n",
      "  1.5317731  1.5999608  1.6069958  1.6088953  1.7322085  1.8768388 ]]\n"
     ]
    }
   ],
   "source": [
    "D, I = index.search(embds, index.ntotal)\n",
    "print(I)\n",
    "print(D)"
   ]
  },
  {
   "cell_type": "code",
   "execution_count": null,
   "id": "f7f42098-cbba-4b5a-a600-3dbeca60075b",
   "metadata": {},
   "outputs": [],
   "source": []
  },
  {
   "cell_type": "code",
   "execution_count": null,
   "id": "e6072bee-4f78-47c4-9c00-461ca95febc2",
   "metadata": {},
   "outputs": [],
   "source": []
  },
  {
   "cell_type": "code",
   "execution_count": null,
   "id": "10c1684d-b0d1-4c97-95e5-cbe713ffd04b",
   "metadata": {},
   "outputs": [],
   "source": []
  },
  {
   "cell_type": "code",
   "execution_count": null,
   "id": "9bf7460a-ffd5-4e58-8e9b-192f0f13c537",
   "metadata": {},
   "outputs": [],
   "source": []
  },
  {
   "cell_type": "code",
   "execution_count": null,
   "id": "b48f2be9-ef7e-43fe-a2b7-a33c52234afe",
   "metadata": {},
   "outputs": [],
   "source": []
  },
  {
   "cell_type": "code",
   "execution_count": null,
   "id": "e20199e8-56b6-4fef-bedb-a217654b95d1",
   "metadata": {},
   "outputs": [],
   "source": []
  },
  {
   "cell_type": "code",
   "execution_count": null,
   "id": "25e9d686-fe77-49b3-be03-1d62f12cd437",
   "metadata": {},
   "outputs": [],
   "source": []
  },
  {
   "cell_type": "code",
   "execution_count": null,
   "id": "4cc8b42d-ed4f-4b1e-9557-4fce7ee21050",
   "metadata": {},
   "outputs": [],
   "source": []
  }
 ],
 "metadata": {
  "kernelspec": {
   "display_name": "Python 3 (ipykernel)",
   "language": "python",
   "name": "python3"
  },
  "language_info": {
   "codemirror_mode": {
    "name": "ipython",
    "version": 3
   },
   "file_extension": ".py",
   "mimetype": "text/x-python",
   "name": "python",
   "nbconvert_exporter": "python",
   "pygments_lexer": "ipython3",
   "version": "3.10.12"
  }
 },
 "nbformat": 4,
 "nbformat_minor": 5
}
